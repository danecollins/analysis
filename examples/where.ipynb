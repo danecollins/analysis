{
 "cells": [
  {
   "cell_type": "code",
   "execution_count": 1,
   "id": "cdc604da-a78a-44de-85ac-c70062315178",
   "metadata": {},
   "outputs": [],
   "source": [
    "import pandas as pd\n",
    "import numpy as np\n",
    "import matplotlib.pyplot as plt\n",
    "import seaborn as sns"
   ]
  },
  {
   "cell_type": "code",
   "execution_count": 3,
   "id": "d46594c1-e808-40cc-881d-2e87bf62d6e8",
   "metadata": {},
   "outputs": [],
   "source": [
    "# read in cycling data\n",
    "df = pd.read_json('data/cycling_w_total.json')\n",
    "df.head(2)\n",
    "\n",
    "# build a version without the comments or day of the week\n",
    "dfn = df.drop(columns=['Day of week', 'Notes'])"
   ]
  },
  {
   "cell_type": "markdown",
   "id": "2494eb2f-39d1-45bf-af67-d535bcfddc8a",
   "metadata": {},
   "source": [
    "Where is used to use a filter condition and change data based on it. The default is to leave data unchanged where the condition is met but it can change both values."
   ]
  },
  {
   "cell_type": "code",
   "execution_count": 11,
   "id": "baa2d91c-d0df-4d7d-934a-3e2d679b6f71",
   "metadata": {},
   "outputs": [],
   "source": [
    "x = dfn[['C3', 'Total']]"
   ]
  },
  {
   "cell_type": "code",
   "execution_count": 14,
   "id": "b0abf82f-5eda-4686-85cc-a756dd08f39e",
   "metadata": {},
   "outputs": [
    {
     "data": {
      "text/plain": [
       "C3       16.461892\n",
       "Total    14.758524\n",
       "dtype: float64"
      ]
     },
     "metadata": {},
     "output_type": "display_data"
    },
    {
     "data": {
      "text/plain": [
       "C3       16.514457\n",
       "Total    14.855632\n",
       "dtype: float64"
      ]
     },
     "execution_count": 14,
     "metadata": {},
     "output_type": "execute_result"
    }
   ],
   "source": [
    "# eliminate the really short bike trips and compare means\n",
    "display(x.mean())\n",
    "x.where(x>5).mean()  # leave x>5 and convert all x<5 to nan"
   ]
  },
  {
   "cell_type": "code",
   "execution_count": 17,
   "id": "087c844a-dfd7-474f-8d67-0adf9029b7e6",
   "metadata": {},
   "outputs": [
    {
     "data": {
      "text/plain": [
       "array([['Short', 'Long'],\n",
       "       ['Short', 'Long'],\n",
       "       ['Short', 'Long'],\n",
       "       ...,\n",
       "       ['Short', 'Short'],\n",
       "       ['Short', 'Short'],\n",
       "       ['Short', 'Long']], dtype='<U5')"
      ]
     },
     "execution_count": 17,
     "metadata": {},
     "output_type": "execute_result"
    }
   ],
   "source": [
    "# can also change both values, make < 10 short and > 10 long\n",
    "np.where(x>=10, 'Long', 'Short')"
   ]
  },
  {
   "cell_type": "code",
   "execution_count": null,
   "id": "07bea18f-20bc-447e-b077-0ad7dcb0f5bc",
   "metadata": {},
   "outputs": [],
   "source": []
  }
 ],
 "metadata": {
  "kernelspec": {
   "display_name": "Python 3 (ipykernel)",
   "language": "python",
   "name": "python3"
  },
  "language_info": {
   "codemirror_mode": {
    "name": "ipython",
    "version": 3
   },
   "file_extension": ".py",
   "mimetype": "text/x-python",
   "name": "python",
   "nbconvert_exporter": "python",
   "pygments_lexer": "ipython3",
   "version": "3.8.18"
  }
 },
 "nbformat": 4,
 "nbformat_minor": 5
}
