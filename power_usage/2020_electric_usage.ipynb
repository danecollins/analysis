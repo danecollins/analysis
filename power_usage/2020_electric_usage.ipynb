{
 "cells": [
  {
   "cell_type": "code",
   "execution_count": 9,
   "metadata": {},
   "outputs": [],
   "source": [
    "import matplotlib.pyplot as plt\n",
    "import numpy as np\n",
    "import pandas as pd\n",
    "import pylab\n",
    "import datetime\n",
    "pylab.rcParams['figure.figsize'] = (12,8)  # set default plot size"
   ]
  },
  {
   "cell_type": "code",
   "execution_count": 8,
   "metadata": {},
   "outputs": [],
   "source": [
    "df_ca_e = pd.read_csv('campbell_pge_electric_interval_data_6063859272_2020-01-01_to_2021-01-01.csv',\n",
    "                      skiprows=5)\n",
    "df_sc_e = pd.read_csv('sc_pge_electric_interval_data_6063859802_2020-01-01_to_2021-01-01.csv',\n",
    "                      skiprows=5)"
   ]
  },
  {
   "cell_type": "code",
   "execution_count": 21,
   "metadata": {},
   "outputs": [],
   "source": [
    "def row_to_dt(r):\n",
    "    datestr = r.DATE\n",
    "    year = int(datestr[:4])\n",
    "    month = int(datestr[5:7])\n",
    "    date = int(datestr[8:10])\n",
    "    timestr = r['START TIME']\n",
    "    hour = int(timestr[:2])\n",
    "    minute = 30  # since the power is over a time period, use the middle of the period\n",
    "    return datetime.datetime(year, month, date, hour, minute)"
   ]
  },
  {
   "cell_type": "code",
   "execution_count": 29,
   "metadata": {},
   "outputs": [
    {
     "data": {
      "text/html": [
       "<div>\n",
       "<style scoped>\n",
       "    .dataframe tbody tr th:only-of-type {\n",
       "        vertical-align: middle;\n",
       "    }\n",
       "\n",
       "    .dataframe tbody tr th {\n",
       "        vertical-align: top;\n",
       "    }\n",
       "\n",
       "    .dataframe thead th {\n",
       "        text-align: right;\n",
       "    }\n",
       "</style>\n",
       "<table border=\"1\" class=\"dataframe\">\n",
       "  <thead>\n",
       "    <tr style=\"text-align: right;\">\n",
       "      <th></th>\n",
       "      <th>TYPE</th>\n",
       "      <th>DATE</th>\n",
       "      <th>START TIME</th>\n",
       "      <th>END TIME</th>\n",
       "      <th>USAGE</th>\n",
       "      <th>UNITS</th>\n",
       "      <th>COST</th>\n",
       "      <th>NOTES</th>\n",
       "      <th>period</th>\n",
       "    </tr>\n",
       "  </thead>\n",
       "  <tbody>\n",
       "    <tr>\n",
       "      <th>0</th>\n",
       "      <td>Electric usage</td>\n",
       "      <td>2020-01-01</td>\n",
       "      <td>00:00</td>\n",
       "      <td>00:59</td>\n",
       "      <td>0.36</td>\n",
       "      <td>kWh</td>\n",
       "      <td>0.08</td>\n",
       "      <td>Campbell</td>\n",
       "      <td>2020-01-01 00:30:00</td>\n",
       "    </tr>\n",
       "    <tr>\n",
       "      <th>1</th>\n",
       "      <td>Electric usage</td>\n",
       "      <td>2020-01-01</td>\n",
       "      <td>01:00</td>\n",
       "      <td>01:59</td>\n",
       "      <td>0.29</td>\n",
       "      <td>kWh</td>\n",
       "      <td>0.07</td>\n",
       "      <td>Campbell</td>\n",
       "      <td>2020-01-01 01:30:00</td>\n",
       "    </tr>\n",
       "    <tr>\n",
       "      <th>2</th>\n",
       "      <td>Electric usage</td>\n",
       "      <td>2020-01-01</td>\n",
       "      <td>02:00</td>\n",
       "      <td>02:59</td>\n",
       "      <td>0.28</td>\n",
       "      <td>kWh</td>\n",
       "      <td>0.07</td>\n",
       "      <td>Campbell</td>\n",
       "      <td>2020-01-01 02:30:00</td>\n",
       "    </tr>\n",
       "    <tr>\n",
       "      <th>3</th>\n",
       "      <td>Electric usage</td>\n",
       "      <td>2020-01-01</td>\n",
       "      <td>03:00</td>\n",
       "      <td>03:59</td>\n",
       "      <td>0.27</td>\n",
       "      <td>kWh</td>\n",
       "      <td>0.06</td>\n",
       "      <td>Campbell</td>\n",
       "      <td>2020-01-01 03:30:00</td>\n",
       "    </tr>\n",
       "    <tr>\n",
       "      <th>4</th>\n",
       "      <td>Electric usage</td>\n",
       "      <td>2020-01-01</td>\n",
       "      <td>04:00</td>\n",
       "      <td>04:59</td>\n",
       "      <td>0.27</td>\n",
       "      <td>kWh</td>\n",
       "      <td>0.06</td>\n",
       "      <td>Campbell</td>\n",
       "      <td>2020-01-01 04:30:00</td>\n",
       "    </tr>\n",
       "  </tbody>\n",
       "</table>\n",
       "</div>"
      ],
      "text/plain": [
       "             TYPE        DATE START TIME END TIME  USAGE UNITS  COST  \\\n",
       "0  Electric usage  2020-01-01      00:00    00:59   0.36   kWh  0.08   \n",
       "1  Electric usage  2020-01-01      01:00    01:59   0.29   kWh  0.07   \n",
       "2  Electric usage  2020-01-01      02:00    02:59   0.28   kWh  0.07   \n",
       "3  Electric usage  2020-01-01      03:00    03:59   0.27   kWh  0.06   \n",
       "4  Electric usage  2020-01-01      04:00    04:59   0.27   kWh  0.06   \n",
       "\n",
       "      NOTES              period  \n",
       "0  Campbell 2020-01-01 00:30:00  \n",
       "1  Campbell 2020-01-01 01:30:00  \n",
       "2  Campbell 2020-01-01 02:30:00  \n",
       "3  Campbell 2020-01-01 03:30:00  \n",
       "4  Campbell 2020-01-01 04:30:00  "
      ]
     },
     "execution_count": 29,
     "metadata": {},
     "output_type": "execute_result"
    }
   ],
   "source": [
    "# add time, fix cost, set location and merge dataframes\n",
    "df_ca_e['NOTES'] = 'Campbell'\n",
    "df_sc_e['NOTES'] = 'Santa Cruz'\n",
    "df_e = pd.concat([df_ca_e, df_sc_e])\n",
    "\n",
    "df_e['COST'] = df_e['COST'].apply(lambda x: float(x[1:]))\n",
    "df_e['period'] = df_e.apply(row_to_dt, axis=1)\n",
    "df_e.head()"
   ]
  },
  {
   "cell_type": "code",
   "execution_count": 32,
   "metadata": {},
   "outputs": [
    {
     "data": {
      "text/plain": [
       "USAGE    4547.41\n",
       "COST     1154.13\n",
       "dtype: float64"
      ]
     },
     "execution_count": 32,
     "metadata": {},
     "output_type": "execute_result"
    }
   ],
   "source": [
    "CA = df_e[df_e.NOTES == 'Campbell'][['USAGE', 'COST']].sum()\n",
    "CA"
   ]
  },
  {
   "cell_type": "code",
   "execution_count": 33,
   "metadata": {},
   "outputs": [
    {
     "data": {
      "text/plain": [
       "USAGE    2233.31\n",
       "COST      548.90\n",
       "dtype: float64"
      ]
     },
     "execution_count": 33,
     "metadata": {},
     "output_type": "execute_result"
    }
   ],
   "source": [
    "SC = df_e[df_e.NOTES == 'Santa Cruz'][['USAGE', 'COST']].sum()\n",
    "SC"
   ]
  },
  {
   "cell_type": "code",
   "execution_count": 34,
   "metadata": {},
   "outputs": [
    {
     "data": {
      "text/plain": [
       "0.2537994154914455"
      ]
     },
     "execution_count": 34,
     "metadata": {},
     "output_type": "execute_result"
    }
   ],
   "source": [
    "CA.COST / CA.USAGE"
   ]
  },
  {
   "cell_type": "code",
   "execution_count": 35,
   "metadata": {},
   "outputs": [
    {
     "data": {
      "text/plain": [
       "0.24577868723999352"
      ]
     },
     "execution_count": 35,
     "metadata": {},
     "output_type": "execute_result"
    }
   ],
   "source": [
    "SC.COST / SC.USAGE"
   ]
  },
  {
   "cell_type": "code",
   "execution_count": 36,
   "metadata": {},
   "outputs": [
    {
     "data": {
      "text/plain": [
       "6780.71999999991"
      ]
     },
     "execution_count": 36,
     "metadata": {},
     "output_type": "execute_result"
    }
   ],
   "source": [
    "CA.USAGE + SC.USAGE"
   ]
  },
  {
   "cell_type": "code",
   "execution_count": 37,
   "metadata": {},
   "outputs": [
    {
     "data": {
      "text/plain": [
       "141.91916666665682"
      ]
     },
     "execution_count": 37,
     "metadata": {},
     "output_type": "execute_result"
    }
   ],
   "source": [
    "(CA.COST + SC.COST) / 12."
   ]
  },
  {
   "cell_type": "code",
   "execution_count": null,
   "metadata": {},
   "outputs": [],
   "source": []
  }
 ],
 "metadata": {
  "kernelspec": {
   "display_name": "Python 3",
   "language": "python",
   "name": "python3"
  },
  "language_info": {
   "codemirror_mode": {
    "name": "ipython",
    "version": 3
   },
   "file_extension": ".py",
   "mimetype": "text/x-python",
   "name": "python",
   "nbconvert_exporter": "python",
   "pygments_lexer": "ipython3",
   "version": "3.7.7"
  }
 },
 "nbformat": 4,
 "nbformat_minor": 4
}
