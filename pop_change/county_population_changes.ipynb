{
 "cells": [
  {
   "cell_type": "markdown",
   "metadata": {},
   "source": [
    "# Analyzing Population Change\n",
    "\n",
    "After seeing a few stories about the mass exodus of people from the bay area I thought I would go find some source data and try to understand the numbers a little better.  This data is directly from the US Census Bureau.  The explanation of the columns is [here](https://www2.census.gov/programs-surveys/popest/technical-documentation/file-layouts/2010-2020/cbsa-est2020-alldata.pdf).\n",
    "\n",
    "Because the data covers counties and metropolitan areas you have to do a little digging to figure out what you want to look at so I suggest opening the file in excel to get an overview."
   ]
  },
  {
   "cell_type": "code",
   "execution_count": 18,
   "metadata": {},
   "outputs": [],
   "source": [
    "import pandas as pd\n",
    "import numpy as np\n",
    "import matplotlib.pyplot as plt\n",
    "%matplotlib inline\n",
    "import matplotlib as mpl\n",
    "mpl.rcParams['figure.figsize'] = [16,12]"
   ]
  },
  {
   "cell_type": "markdown",
   "metadata": {},
   "source": [
    "We will read the file in directly from census.gov so we get any updates they make.  For now we'll just look at the 2010 to 2020 range although the website has significant amount of historical data."
   ]
  },
  {
   "cell_type": "code",
   "execution_count": 19,
   "metadata": {},
   "outputs": [
    {
     "data": {
      "text/plain": [
       "CBSA                                    10180\n",
       "MDIV                                      NaN\n",
       "STCOU                                     NaN\n",
       "NAME                              Abilene, TX\n",
       "LSAD            Metropolitan Statistical Area\n",
       "                            ...              \n",
       "RESIDUAL2016                               -5\n",
       "RESIDUAL2017                               -5\n",
       "RESIDUAL2018                               -4\n",
       "RESIDUAL2019                                0\n",
       "RESIDUAL2020                                9\n",
       "Name: 0, Length: 106, dtype: object"
      ]
     },
     "execution_count": 19,
     "metadata": {},
     "output_type": "execute_result"
    }
   ],
   "source": [
    "df = pd.read_csv('https://www2.census.gov/programs-surveys/popest/datasets/2010-2020/metro/totals/cbsa-est2020-alldata.csv'\n",
    ", encoding='latin1')\n",
    "df.iloc[0]"
   ]
  },
  {
   "cell_type": "markdown",
   "metadata": {},
   "source": [
    "The area we will look at first is labeled as \"Santa Clara County, CA\"."
   ]
  },
  {
   "cell_type": "code",
   "execution_count": 42,
   "metadata": {},
   "outputs": [
    {
     "data": {
      "text/plain": [
       "CBSA                             41940\n",
       "MDIV                               NaN\n",
       "STCOU                             6085\n",
       "NAME            Santa Clara County, CA\n",
       "LSAD              County or equivalent\n",
       "                         ...          \n",
       "RESIDUAL2016                        28\n",
       "RESIDUAL2017                        66\n",
       "RESIDUAL2018                        23\n",
       "RESIDUAL2019                       -31\n",
       "RESIDUAL2020                       -76\n",
       "Name: 1318, Length: 106, dtype: object"
      ]
     },
     "execution_count": 42,
     "metadata": {},
     "output_type": "execute_result"
    }
   ],
   "source": [
    "d = df[df.NAME == 'Santa Clara County, CA'].iloc[0]\n",
    "d"
   ]
  },
  {
   "cell_type": "markdown",
   "metadata": {},
   "source": [
    "Let's look at a few of the top level changes."
   ]
  },
  {
   "cell_type": "code",
   "execution_count": 43,
   "metadata": {},
   "outputs": [
    {
     "data": {
      "text/plain": [
       "(1786001, 1907105, 6.780735285142625)"
      ]
     },
     "execution_count": 43,
     "metadata": {},
     "output_type": "execute_result"
    }
   ],
   "source": [
    "d.POPESTIMATE2010, d.POPESTIMATE2020, (d.POPESTIMATE2020/d.POPESTIMATE2010 -1)*100"
   ]
  },
  {
   "cell_type": "markdown",
   "metadata": {},
   "source": [
    "To understand these numbers better, we need to look at the breakdown.  These are stored yearly so to get the changes over the 10-year period we need to sum them over the 10 years."
   ]
  },
  {
   "cell_type": "code",
   "execution_count": 44,
   "metadata": {},
   "outputs": [
    {
     "data": {
      "text/plain": [
       "{'BIRTHS': 228625,\n",
       " 'DEATHS': 100616,\n",
       " 'NATURALINC': 128009,\n",
       " 'INTERNATIONALMIG': 152102,\n",
       " 'DOMESTICMIG': -157840,\n",
       " 'NETMIG': -5738,\n",
       " 'RESIDUAL': -1167}"
      ]
     },
     "execution_count": 44,
     "metadata": {},
     "output_type": "execute_result"
    }
   ],
   "source": [
    "s = {}\n",
    "for base in ['BIRTHS', 'DEATHS', 'NATURALINC', 'INTERNATIONALMIG', 'DOMESTICMIG', 'NETMIG', 'RESIDUAL']:\n",
    "    x = 0\n",
    "    for i in range(11, 21):\n",
    "        field = f\"{base}20{i}\"\n",
    "        x += d[field]\n",
    "    s[base] = x\n",
    "\n",
    "s"
   ]
  },
  {
   "cell_type": "markdown",
   "metadata": {},
   "source": [
    "We want to compare a few counties so we will gather this information across them.  It probably makes sense to normalize these numbers to the size of the county.  Yes, this could be done more efficiently but this was easy."
   ]
  },
  {
   "cell_type": "code",
   "execution_count": 65,
   "metadata": {},
   "outputs": [
    {
     "data": {
      "text/html": [
       "<div>\n",
       "<style scoped>\n",
       "    .dataframe tbody tr th:only-of-type {\n",
       "        vertical-align: middle;\n",
       "    }\n",
       "\n",
       "    .dataframe tbody tr th {\n",
       "        vertical-align: top;\n",
       "    }\n",
       "\n",
       "    .dataframe thead th {\n",
       "        text-align: right;\n",
       "    }\n",
       "</style>\n",
       "<table border=\"1\" class=\"dataframe\">\n",
       "  <thead>\n",
       "    <tr style=\"text-align: right;\">\n",
       "      <th></th>\n",
       "      <th>Santa Clara County, CA</th>\n",
       "      <th>Fairfax County, VA</th>\n",
       "      <th>Multnomah County, OR</th>\n",
       "      <th>San Francisco County, CA</th>\n",
       "      <th>Miami-Dade County, FL</th>\n",
       "      <th>Fresno County, CA</th>\n",
       "    </tr>\n",
       "  </thead>\n",
       "  <tbody>\n",
       "    <tr>\n",
       "      <th>BIRTHS</th>\n",
       "      <td>12.800945</td>\n",
       "      <td>13.621227</td>\n",
       "      <td>12.146693</td>\n",
       "      <td>11.019231</td>\n",
       "      <td>12.523484</td>\n",
       "      <td>16.373948</td>\n",
       "    </tr>\n",
       "    <tr>\n",
       "      <th>DEATHS</th>\n",
       "      <td>5.633591</td>\n",
       "      <td>4.673047</td>\n",
       "      <td>7.783730</td>\n",
       "      <td>7.267861</td>\n",
       "      <td>7.880140</td>\n",
       "      <td>7.278777</td>\n",
       "    </tr>\n",
       "    <tr>\n",
       "      <th>NATURALINC</th>\n",
       "      <td>7.167353</td>\n",
       "      <td>8.948180</td>\n",
       "      <td>4.362963</td>\n",
       "      <td>3.751370</td>\n",
       "      <td>4.643345</td>\n",
       "      <td>9.095172</td>\n",
       "    </tr>\n",
       "    <tr>\n",
       "      <th>INTERNATIONALMIG</th>\n",
       "      <td>8.516345</td>\n",
       "      <td>8.278761</td>\n",
       "      <td>3.430261</td>\n",
       "      <td>6.712070</td>\n",
       "      <td>16.098056</td>\n",
       "      <td>0.920912</td>\n",
       "    </tr>\n",
       "    <tr>\n",
       "      <th>DOMESTICMIG</th>\n",
       "      <td>-8.837621</td>\n",
       "      <td>-11.332256</td>\n",
       "      <td>2.756334</td>\n",
       "      <td>-2.921719</td>\n",
       "      <td>-12.775261</td>\n",
       "      <td>-2.594068</td>\n",
       "    </tr>\n",
       "    <tr>\n",
       "      <th>NETMIG</th>\n",
       "      <td>-0.321276</td>\n",
       "      <td>-3.053496</td>\n",
       "      <td>6.186595</td>\n",
       "      <td>3.790351</td>\n",
       "      <td>3.322795</td>\n",
       "      <td>-1.673156</td>\n",
       "    </tr>\n",
       "    <tr>\n",
       "      <th>RESIDUAL</th>\n",
       "      <td>-0.065342</td>\n",
       "      <td>0.060396</td>\n",
       "      <td>0.072289</td>\n",
       "      <td>0.041836</td>\n",
       "      <td>0.024212</td>\n",
       "      <td>-0.028648</td>\n",
       "    </tr>\n",
       "    <tr>\n",
       "      <th>POPCHG</th>\n",
       "      <td>6.780735</td>\n",
       "      <td>5.955080</td>\n",
       "      <td>10.621847</td>\n",
       "      <td>7.583558</td>\n",
       "      <td>7.990352</td>\n",
       "      <td>7.393368</td>\n",
       "    </tr>\n",
       "  </tbody>\n",
       "</table>\n",
       "</div>"
      ],
      "text/plain": [
       "                  Santa Clara County, CA  Fairfax County, VA  \\\n",
       "BIRTHS                         12.800945           13.621227   \n",
       "DEATHS                          5.633591            4.673047   \n",
       "NATURALINC                      7.167353            8.948180   \n",
       "INTERNATIONALMIG                8.516345            8.278761   \n",
       "DOMESTICMIG                    -8.837621          -11.332256   \n",
       "NETMIG                         -0.321276           -3.053496   \n",
       "RESIDUAL                       -0.065342            0.060396   \n",
       "POPCHG                          6.780735            5.955080   \n",
       "\n",
       "                  Multnomah County, OR  San Francisco County, CA  \\\n",
       "BIRTHS                       12.146693                 11.019231   \n",
       "DEATHS                        7.783730                  7.267861   \n",
       "NATURALINC                    4.362963                  3.751370   \n",
       "INTERNATIONALMIG              3.430261                  6.712070   \n",
       "DOMESTICMIG                   2.756334                 -2.921719   \n",
       "NETMIG                        6.186595                  3.790351   \n",
       "RESIDUAL                      0.072289                  0.041836   \n",
       "POPCHG                       10.621847                  7.583558   \n",
       "\n",
       "                  Miami-Dade County, FL  Fresno County, CA  \n",
       "BIRTHS                        12.523484          16.373948  \n",
       "DEATHS                         7.880140           7.278777  \n",
       "NATURALINC                     4.643345           9.095172  \n",
       "INTERNATIONALMIG              16.098056           0.920912  \n",
       "DOMESTICMIG                  -12.775261          -2.594068  \n",
       "NETMIG                         3.322795          -1.673156  \n",
       "RESIDUAL                       0.024212          -0.028648  \n",
       "POPCHG                         7.990352           7.393368  "
      ]
     },
     "execution_count": 65,
     "metadata": {},
     "output_type": "execute_result"
    }
   ],
   "source": [
    "summary = pd.DataFrame()\n",
    "for county in ['Santa Clara County, CA', 'Fairfax County, VA', 'Multnomah County, OR', 'San Francisco County, CA',\n",
    "               'Miami-Dade County, FL', 'Fresno County, CA']:\n",
    "    d = df[df.NAME == county].iloc[0]\n",
    "    for base in ['BIRTHS', 'DEATHS', 'NATURALINC', 'INTERNATIONALMIG', 'DOMESTICMIG', 'NETMIG', 'RESIDUAL']:\n",
    "        x = 0\n",
    "        for i in range(11, 21):\n",
    "            field = f\"{base}20{i}\"\n",
    "            x += d[field]\n",
    "        summary.loc[base, county] = (x / d.POPESTIMATE2010) * 100.0\n",
    "    summary.loc['POPCHG', county] = (d.POPESTIMATE2020 / d.POPESTIMATE2010 - 1) * 100.0\n",
    "summary"
   ]
  },
  {
   "cell_type": "markdown",
   "metadata": {},
   "source": [
    "## Analysis\n",
    "\n",
    "It's easy to try and single out California as the place people are leaving but when we look at other places we see that many expensive metropolitan areas have the same pattern of positive international migration and negative domestic migration as people seek cheaper places to live."
   ]
  },
  {
   "cell_type": "code",
   "execution_count": null,
   "metadata": {},
   "outputs": [],
   "source": []
  }
 ],
 "metadata": {
  "hide_input": false,
  "kernelspec": {
   "display_name": "Python 3",
   "language": "python",
   "name": "python3"
  },
  "language_info": {
   "codemirror_mode": {
    "name": "ipython",
    "version": 3
   },
   "file_extension": ".py",
   "mimetype": "text/x-python",
   "name": "python",
   "nbconvert_exporter": "python",
   "pygments_lexer": "ipython3",
   "version": "3.6.6"
  }
 },
 "nbformat": 4,
 "nbformat_minor": 4
}
