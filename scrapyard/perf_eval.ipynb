{
 "cells": [
  {
   "cell_type": "code",
   "execution_count": 1,
   "metadata": {
    "collapsed": false
   },
   "outputs": [],
   "source": [
    "import os\n",
    "import sys\n",
    "import pandas as pd\n",
    "sys.path.append('/home/dane/src/datatools')"
   ]
  },
  {
   "cell_type": "code",
   "execution_count": 2,
   "metadata": {
    "collapsed": false
   },
   "outputs": [
    {
     "name": "stdout",
     "output_type": "stream",
     "text": [
      "/home/dane/src/datatools/ipy/notebooks/regtest/dev\n"
     ]
    }
   ],
   "source": [
    "%cd /home/dane/src/datatools/ipy/notebooks/regtest/dev\n",
    "df = pd.read_csv('../data/v14_b8600_b8658.csv')"
   ]
  },
  {
   "cell_type": "code",
   "execution_count": 3,
   "metadata": {
    "collapsed": false
   },
   "outputs": [],
   "source": [
    "from regtest.ingest_log_files import StrMap\n",
    "pmap = StrMap.read('../../../../regtest/project_name')\n",
    "\n",
    "# build a reverse map and shorten names to useful part\n",
    "rmap = {v:k.replace('\\\\', '/')[37:] for k, v in pmap.items()}"
   ]
  },
  {
   "cell_type": "code",
   "execution_count": 4,
   "metadata": {
    "collapsed": false
   },
   "outputs": [
    {
     "data": {
      "text/html": [
       "<div>\n",
       "<table border=\"1\" class=\"dataframe\">\n",
       "  <thead>\n",
       "    <tr style=\"text-align: right;\">\n",
       "      <th></th>\n",
       "      <th>passed</th>\n",
       "      <th>build</th>\n",
       "      <th>revision</th>\n",
       "      <th>project</th>\n",
       "      <th>machine</th>\n",
       "      <th>sim_time</th>\n",
       "      <th>elapsed_time</th>\n",
       "      <th>os</th>\n",
       "      <th>aut</th>\n",
       "    </tr>\n",
       "  </thead>\n",
       "  <tbody>\n",
       "    <tr>\n",
       "      <th>0</th>\n",
       "      <td>1</td>\n",
       "      <td>B8622</td>\n",
       "      <td>REV10</td>\n",
       "      <td>0</td>\n",
       "      <td>TESTEXAMPLES</td>\n",
       "      <td>1.284</td>\n",
       "      <td>1.45576</td>\n",
       "      <td>0</td>\n",
       "      <td>153</td>\n",
       "    </tr>\n",
       "  </tbody>\n",
       "</table>\n",
       "</div>"
      ],
      "text/plain": [
       "   passed  build revision  project       machine  sim_time  elapsed_time  os  \\\n",
       "0       1  B8622    REV10        0  TESTEXAMPLES     1.284       1.45576   0   \n",
       "\n",
       "   aut  \n",
       "0  153  "
      ]
     },
     "execution_count": 4,
     "metadata": {},
     "output_type": "execute_result"
    }
   ],
   "source": [
    "df.head(1)"
   ]
  },
  {
   "cell_type": "code",
   "execution_count": 5,
   "metadata": {
    "collapsed": false
   },
   "outputs": [],
   "source": [
    "def std_groupby(df):\n",
    "    results = []\n",
    "    for project, runs in df.groupby('project'):\n",
    "        sim_mean = runs.sim_time.mean()\n",
    "        std = runs.sim_time.std()\n",
    "        sim_rsd = std / sim_mean\n",
    "        outliers = len(runs[runs.sim_time > (sim_mean + 2 * std)])\n",
    "        el_mean = runs.elapsed_time.mean()\n",
    "        el_rsd = runs.elapsed_time.std() / el_mean\n",
    "        results.append( (project, sim_mean, sim_rsd, outliers, el_mean, el_rsd) )\n",
    "\n",
    "    test_times = pd.DataFrame.from_records(results,\n",
    "                                           columns=['project', 'sim_mean', 'sim_rsd',\n",
    "                                                    'outliers', 'el_mean', 'el_rsd'])\n"
   ]
  },
  {
   "cell_type": "code",
   "execution_count": 6,
   "metadata": {
    "collapsed": false
   },
   "outputs": [
    {
     "name": "stdout",
     "output_type": "stream",
     "text": [
      "1 loop, best of 3: 15 s per loop\n"
     ]
    }
   ],
   "source": [
    "%timeit std_groupby(df)"
   ]
  },
  {
   "cell_type": "code",
   "execution_count": 7,
   "metadata": {
    "collapsed": true
   },
   "outputs": [],
   "source": [
    "from time import time\n",
    "from multiprocessing import Pool"
   ]
  },
  {
   "cell_type": "code",
   "execution_count": 8,
   "metadata": {
    "collapsed": false
   },
   "outputs": [
    {
     "name": "stderr",
     "output_type": "stream",
     "text": [
      "/home/dane/anaconda3/lib/python3.5/site-packages/ipykernel/__main__.py:1: FutureWarning: sort(columns=....) is deprecated, use sort_values(by=.....)\n",
      "  if __name__ == '__main__':\n"
     ]
    }
   ],
   "source": [
    "by_proj = df.sort('project')"
   ]
  },
  {
   "cell_type": "code",
   "execution_count": 9,
   "metadata": {
    "collapsed": true
   },
   "outputs": [],
   "source": [
    "def split_df(df, num):\n",
    "    total_len = len(df)\n",
    "    df_start_pos = 0\n",
    "    new_len = int(total_len / num)\n",
    "    newdfs = []\n",
    "    bkpt = df_start_pos + new_len\n",
    "\n",
    "    while bkpt < total_len:\n",
    "        curproj = df.iloc[bkpt].project\n",
    "        while df.iloc[bkpt].project == curproj:\n",
    "            bkpt += 1\n",
    "        print('creating df from {}:{}'.format(df_start_pos, bkpt - 1))\n",
    "        newdfs.append(df.iloc[df_start_pos:(bkpt - 1)])\n",
    "        df_start_pos = bkpt\n",
    "        bkpt += new_len\n",
    "\n",
    "    newdfs.append(df.iloc[df_start_pos:])\n",
    "\n",
    "    print('returning {} dataframes of the following sizes:'.format(len(newdfs)))\n",
    "    for x in newdfs:\n",
    "        print('    ', len(x))\n",
    "\n",
    "    return newdfs\n",
    "\n",
    "def np(df):\n",
    "    results = []\n",
    "    print('in np with dataframe of size', len(df))\n",
    "    for project, runs in df.groupby('project'):\n",
    "        sim_mean = runs.sim_time.mean()\n",
    "        std = runs.sim_time.std()\n",
    "        sim_rsd = std / sim_mean\n",
    "        outliers = len(runs[runs.sim_time > (sim_mean + 2 * std)])\n",
    "        el_mean = runs.elapsed_time.mean()\n",
    "        el_rsd = runs.elapsed_time.std() / el_mean\n",
    "        results.append( (project, sim_mean, sim_rsd, outliers, el_mean, el_rsd) )\n",
    "\n",
    "    test_times = pd.DataFrame.from_records(results,\n",
    "                                           columns=['project', 'sim_mean', 'sim_rsd',\n",
    "                                                    'outliers', 'el_mean', 'el_rsd'])\n",
    "    return test_times\n",
    "\n",
    "\n",
    "def summarize_pool(args):\n",
    "    project, runs = args\n",
    "    sim_mean = runs.sim_time.mean()\n",
    "    std = runs.sim_time.std()\n",
    "    sim_rsd = std / sim_mean\n",
    "    outliers = len(runs[runs.sim_time > (sim_mean + 2 * std)])\n",
    "    el_mean = runs.elapsed_time.mean()\n",
    "    el_rsd = runs.elapsed_time.std() / el_mean\n",
    "    return project, sim_mean, sim_rsd, outliers, el_mean, el_rsd\n",
    "\n",
    "\n",
    "def p(num):\n",
    "    global by_proj\n",
    "    t0 = time()\n",
    "    dfs = split_df(by_proj, num)\n",
    "    pool = Pool(processes=num)\n",
    "    results = pool.map(np, dfs)\n",
    "\n",
    "    print('{:4.1f} s.'.format(time() - t0))"
   ]
  },
  {
   "cell_type": "code",
   "execution_count": 11,
   "metadata": {
    "collapsed": false
   },
   "outputs": [
    {
     "name": "stdout",
     "output_type": "stream",
     "text": [
      "creating df from 0:1706556\n",
      "creating df from 1706557:3413178\n",
      "creating df from 3413179:5119302\n",
      "returning 4 dataframes of the following sizes:\n",
      "     1706556\n",
      "     1706621\n",
      "     1706123\n",
      "     1704678\n",
      "in np with dataframe of size 1706556\n",
      "in np with dataframe of size 1706621\n",
      "in np with dataframe of size 1706123\n",
      "in np with dataframe of size 1704678\n",
      "11.4 s.\n"
     ]
    }
   ],
   "source": [
    "p(4)"
   ]
  },
  {
   "cell_type": "code",
   "execution_count": null,
   "metadata": {
    "collapsed": true
   },
   "outputs": [],
   "source": []
  }
 ],
 "metadata": {
  "anaconda-cloud": {},
  "kernelspec": {
   "display_name": "Python [default]",
   "language": "python",
   "name": "python3"
  },
  "language_info": {
   "codemirror_mode": {
    "name": "ipython",
    "version": 3
   },
   "file_extension": ".py",
   "mimetype": "text/x-python",
   "name": "python",
   "nbconvert_exporter": "python",
   "pygments_lexer": "ipython3",
   "version": "3.5.2"
  }
 },
 "nbformat": 4,
 "nbformat_minor": 0
}
