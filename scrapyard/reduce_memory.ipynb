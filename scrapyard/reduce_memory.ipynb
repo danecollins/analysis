{
 "cells": [
  {
   "cell_type": "code",
   "execution_count": 1,
   "metadata": {},
   "outputs": [],
   "source": [
    "import pandas as pd\n",
    "import numpy as np\n",
    "import matplotlib.pyplot as plt\n",
    "%matplotlib inline\n",
    "import xlrd"
   ]
  },
  {
   "cell_type": "code",
   "execution_count": 2,
   "metadata": {},
   "outputs": [],
   "source": [
    "df = pd.read_parquet('little_dental.pq')"
   ]
  },
  {
   "cell_type": "code",
   "execution_count": 5,
   "metadata": {},
   "outputs": [
    {
     "data": {
      "text/plain": [
       "Index           0.000122\n",
       "ACTIVITYID     25.261772\n",
       "PGID            3.157722\n",
       "OID             6.315443\n",
       "RPID           12.630886\n",
       "PATID          12.630886\n",
       "USERID         25.261772\n",
       "SESSIONID      25.261772\n",
       "WEBSERVERIP    25.261772\n",
       "REMOTEIP       25.261772\n",
       "PAGENAME       25.261772\n",
       "CREATEDON      25.261772\n",
       "dtype: float64"
      ]
     },
     "execution_count": 5,
     "metadata": {},
     "output_type": "execute_result"
    }
   ],
   "source": [
    "df.memory_usage()/(1024*1024)"
   ]
  },
  {
   "cell_type": "code",
   "execution_count": 6,
   "metadata": {},
   "outputs": [
    {
     "data": {
      "text/html": [
       "<div>\n",
       "<style scoped>\n",
       "    .dataframe tbody tr th:only-of-type {\n",
       "        vertical-align: middle;\n",
       "    }\n",
       "\n",
       "    .dataframe tbody tr th {\n",
       "        vertical-align: top;\n",
       "    }\n",
       "\n",
       "    .dataframe thead th {\n",
       "        text-align: right;\n",
       "    }\n",
       "</style>\n",
       "<table border=\"1\" class=\"dataframe\">\n",
       "  <thead>\n",
       "    <tr style=\"text-align: right;\">\n",
       "      <th></th>\n",
       "      <th>ACTIVITYID</th>\n",
       "      <th>RPID</th>\n",
       "      <th>PATID</th>\n",
       "      <th>USERID</th>\n",
       "      <th>SESSIONID</th>\n",
       "      <th>REMOTEIP</th>\n",
       "      <th>PAGENAME</th>\n",
       "      <th>timestamp</th>\n",
       "    </tr>\n",
       "  </thead>\n",
       "  <tbody>\n",
       "    <tr>\n",
       "      <th>0</th>\n",
       "      <td>124130650925</td>\n",
       "      <td>41019304</td>\n",
       "      <td>41052965</td>\n",
       "      <td>RAYLENERAYFORD2021</td>\n",
       "      <td>bvh455ixumcrgc553pr0ul45</td>\n",
       "      <td>23.30.205.249</td>\n",
       "      <td>SearchPatients</td>\n",
       "      <td>2021-11-17 04:32:36.943</td>\n",
       "    </tr>\n",
       "    <tr>\n",
       "      <th>1</th>\n",
       "      <td>124130650935</td>\n",
       "      <td>41019304</td>\n",
       "      <td>41052965</td>\n",
       "      <td>RAYLENERAYFORD2021</td>\n",
       "      <td>bvh455ixumcrgc553pr0ul45</td>\n",
       "      <td>23.30.205.249</td>\n",
       "      <td>SearchPatients</td>\n",
       "      <td>2021-11-17 04:32:39.860</td>\n",
       "    </tr>\n",
       "  </tbody>\n",
       "</table>\n",
       "</div>"
      ],
      "text/plain": [
       "     ACTIVITYID      RPID     PATID              USERID  \\\n",
       "0  124130650925  41019304  41052965  RAYLENERAYFORD2021   \n",
       "1  124130650935  41019304  41052965  RAYLENERAYFORD2021   \n",
       "\n",
       "                  SESSIONID       REMOTEIP        PAGENAME  \\\n",
       "0  bvh455ixumcrgc553pr0ul45  23.30.205.249  SearchPatients   \n",
       "1  bvh455ixumcrgc553pr0ul45  23.30.205.249  SearchPatients   \n",
       "\n",
       "                timestamp  \n",
       "0 2021-11-17 04:32:36.943  \n",
       "1 2021-11-17 04:32:39.860  "
      ]
     },
     "execution_count": 6,
     "metadata": {},
     "output_type": "execute_result"
    }
   ],
   "source": [
    "df['timestamp'] = pd.to_datetime(df.CREATEDON)\n",
    "del(df['PGID'])\n",
    "del(df['OID'])\n",
    "del(df['CREATEDON'])\n",
    "del(df['WEBSERVERIP'])\n",
    "del(df['RPID'])\n",
    "del(df['PATID'])\n",
    "df.head(2)"
   ]
  },
  {
   "cell_type": "code",
   "execution_count": 10,
   "metadata": {},
   "outputs": [
    {
     "data": {
      "text/plain": [
       "Index          0.000122\n",
       "ACTIVITYID    25.261772\n",
       "USERID        25.261772\n",
       "SESSIONID     25.261772\n",
       "REMOTEIP      25.261772\n",
       "PAGENAME      25.261772\n",
       "timestamp     25.261772\n",
       "dtype: float64"
      ]
     },
     "execution_count": 10,
     "metadata": {},
     "output_type": "execute_result"
    }
   ],
   "source": [
    "df.memory_usage()/(1024*1024)"
   ]
  },
  {
   "cell_type": "code",
   "execution_count": 14,
   "metadata": {},
   "outputs": [],
   "source": [
    "df.to_parquet('little_dental_reduced_mem.pq')"
   ]
  },
  {
   "cell_type": "code",
   "execution_count": 2,
   "metadata": {},
   "outputs": [],
   "source": [
    "df = pd.read_parquet('little_dental_reduced_mem.pq')"
   ]
  },
  {
   "cell_type": "code",
   "execution_count": 3,
   "metadata": {},
   "outputs": [
    {
     "data": {
      "text/html": [
       "<div>\n",
       "<style scoped>\n",
       "    .dataframe tbody tr th:only-of-type {\n",
       "        vertical-align: middle;\n",
       "    }\n",
       "\n",
       "    .dataframe tbody tr th {\n",
       "        vertical-align: top;\n",
       "    }\n",
       "\n",
       "    .dataframe thead th {\n",
       "        text-align: right;\n",
       "    }\n",
       "</style>\n",
       "<table border=\"1\" class=\"dataframe\">\n",
       "  <thead>\n",
       "    <tr style=\"text-align: right;\">\n",
       "      <th></th>\n",
       "      <th>user</th>\n",
       "      <th>nop</th>\n",
       "      <th>dur_in_min</th>\n",
       "      <th>start</th>\n",
       "      <th>end</th>\n",
       "    </tr>\n",
       "  </thead>\n",
       "  <tbody>\n",
       "    <tr>\n",
       "      <th>1e0athmc3knhdp451csz4on4</th>\n",
       "      <td>KIMBARKSDALE2021</td>\n",
       "      <td>419</td>\n",
       "      <td>479.083</td>\n",
       "      <td>1.63894e+09</td>\n",
       "      <td>1.63906e+09</td>\n",
       "    </tr>\n",
       "    <tr>\n",
       "      <th>1vq3hf55noreo4qizcmyh2jc</th>\n",
       "      <td>ABARCAESPIRITU2021</td>\n",
       "      <td>40</td>\n",
       "      <td>575.417</td>\n",
       "      <td>1.63963e+09</td>\n",
       "      <td>1.63967e+09</td>\n",
       "    </tr>\n",
       "    <tr>\n",
       "      <th>222nip552t4drw45wmmybvzv</th>\n",
       "      <td>ROBINSHERRILL2021</td>\n",
       "      <td>50</td>\n",
       "      <td>474.567</td>\n",
       "      <td>1.63998e+09</td>\n",
       "      <td>1.64001e+09</td>\n",
       "    </tr>\n",
       "    <tr>\n",
       "      <th>230jjez1aurv2sjomvqq5h45</th>\n",
       "      <td>ABARCAESPIRITU2021</td>\n",
       "      <td>2</td>\n",
       "      <td>0.133333</td>\n",
       "      <td>1.64011e+09</td>\n",
       "      <td>1.64011e+09</td>\n",
       "    </tr>\n",
       "    <tr>\n",
       "      <th>2yeye1eyt31wa43mlm0a2dir</th>\n",
       "      <td>ROBINSHERRILL2021</td>\n",
       "      <td>15</td>\n",
       "      <td>187.867</td>\n",
       "      <td>1.63938e+09</td>\n",
       "      <td>1.63948e+09</td>\n",
       "    </tr>\n",
       "  </tbody>\n",
       "</table>\n",
       "</div>"
      ],
      "text/plain": [
       "                                        user  nop dur_in_min        start  \\\n",
       "1e0athmc3knhdp451csz4on4    KIMBARKSDALE2021  419    479.083  1.63894e+09   \n",
       "1vq3hf55noreo4qizcmyh2jc  ABARCAESPIRITU2021   40    575.417  1.63963e+09   \n",
       "222nip552t4drw45wmmybvzv   ROBINSHERRILL2021   50    474.567  1.63998e+09   \n",
       "230jjez1aurv2sjomvqq5h45  ABARCAESPIRITU2021    2   0.133333  1.64011e+09   \n",
       "2yeye1eyt31wa43mlm0a2dir   ROBINSHERRILL2021   15    187.867  1.63938e+09   \n",
       "\n",
       "                                  end  \n",
       "1e0athmc3knhdp451csz4on4  1.63906e+09  \n",
       "1vq3hf55noreo4qizcmyh2jc  1.63967e+09  \n",
       "222nip552t4drw45wmmybvzv  1.64001e+09  \n",
       "230jjez1aurv2sjomvqq5h45  1.64011e+09  \n",
       "2yeye1eyt31wa43mlm0a2dir  1.63948e+09  "
      ]
     },
     "execution_count": 3,
     "metadata": {},
     "output_type": "execute_result"
    }
   ],
   "source": [
    "sessiondf = pd.DataFrame(columns=['user', 'nop', 'dur_in_min', 'start', 'end'])\n",
    "for k, gbdf in df.groupby(['USERID', 'SESSIONID']):\n",
    "    user, session = k\n",
    "    number_of_pages = gbdf.PAGENAME.count()\n",
    "    sessiondf.loc[session, 'user'] = user\n",
    "    sessiondf.loc[session, 'nop'] = number_of_pages\n",
    "    duration = max(gbdf.timestamp) - min(gbdf.timestamp)\n",
    "    sessiondf.loc[session, 'dur_in_min'] = duration.seconds/60.0\n",
    "    sessiondf.loc[session, 'start'] = min(gbdf.timestamp).timestamp()\n",
    "    sessiondf.loc[session, 'end'] = max(gbdf.timestamp).timestamp()\n",
    "sessiondf.head()"
   ]
  },
  {
   "cell_type": "code",
   "execution_count": 4,
   "metadata": {},
   "outputs": [
    {
     "data": {
      "text/plain": [
       "1248373541"
      ]
     },
     "execution_count": 4,
     "metadata": {},
     "output_type": "execute_result"
    }
   ],
   "source": [
    "df.memory_usage(deep=True).sum()"
   ]
  },
  {
   "cell_type": "code",
   "execution_count": 5,
   "metadata": {},
   "outputs": [],
   "source": [
    "sessiondf.to_parquet('dental_sessions.pq')"
   ]
  },
  {
   "cell_type": "code",
   "execution_count": 6,
   "metadata": {},
   "outputs": [
    {
     "data": {
      "text/plain": [
       "46119802"
      ]
     },
     "execution_count": 6,
     "metadata": {},
     "output_type": "execute_result"
    }
   ],
   "source": [
    "sessiondf.memory_usage(deep=True).sum()"
   ]
  },
  {
   "cell_type": "code",
   "execution_count": null,
   "metadata": {},
   "outputs": [],
   "source": []
  }
 ],
 "metadata": {
  "hide_input": false,
  "kernelspec": {
   "display_name": "Python 3",
   "language": "python",
   "name": "python3"
  },
  "language_info": {
   "codemirror_mode": {
    "name": "ipython",
    "version": 3
   },
   "file_extension": ".py",
   "mimetype": "text/x-python",
   "name": "python",
   "nbconvert_exporter": "python",
   "pygments_lexer": "ipython3",
   "version": "3.6.6"
  }
 },
 "nbformat": 4,
 "nbformat_minor": 4
}
