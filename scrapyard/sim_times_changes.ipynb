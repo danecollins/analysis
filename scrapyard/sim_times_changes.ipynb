{
 "cells": [
  {
   "cell_type": "code",
   "execution_count": 1,
   "metadata": {
    "collapsed": false
   },
   "outputs": [],
   "source": [
    "import os\n",
    "import sys\n",
    "import pandas as pd\n",
    "sys.path.append('/Users/dane/src/datatools')"
   ]
  },
  {
   "cell_type": "code",
   "execution_count": 2,
   "metadata": {
    "collapsed": false
   },
   "outputs": [
    {
     "name": "stdout",
     "output_type": "stream",
     "text": [
      "/Users/dane/src/datatools/ipy/notebooks/regtest/dev\n"
     ]
    }
   ],
   "source": [
    "%cd /Users/dane/src/datatools/ipy/notebooks/regtest/dev\n",
    "df = pd.read_csv('../data/v13_full.csv')"
   ]
  },
  {
   "cell_type": "code",
   "execution_count": 27,
   "metadata": {
    "collapsed": false
   },
   "outputs": [],
   "source": [
    "from regtest.ingest_log_files import StrMap\n",
    "pmap = StrMap.read('../../../../regtest/project_name')\n",
    "\n",
    "# build a reverse map and shorten names to useful part\n",
    "def normalize_name(s):\n",
    "    # first convert backslashes\n",
    "    s = s.replace('\\\\', '/')\n",
    "    # remove everything through regress_tests to eliminate vXX part\n",
    "    s = s[s.find('regress_tests')+13:]\n",
    "    return s\n",
    "    \n",
    "# build reverse map from test number to normalized name\n",
    "rmap = {v:normalize_name(k) for k, v in pmap.items()}"
   ]
  },
  {
   "cell_type": "code",
   "execution_count": 4,
   "metadata": {
    "collapsed": false
   },
   "outputs": [
    {
     "data": {
      "text/html": [
       "<div style=\"max-height:1000px;max-width:1500px;overflow:auto;\">\n",
       "<table border=\"1\" class=\"dataframe\">\n",
       "  <thead>\n",
       "    <tr style=\"text-align: right;\">\n",
       "      <th></th>\n",
       "      <th>passed</th>\n",
       "      <th>build</th>\n",
       "      <th>revision</th>\n",
       "      <th>project</th>\n",
       "      <th>machine</th>\n",
       "      <th>sim_time</th>\n",
       "      <th>elapsed_time</th>\n",
       "      <th>os</th>\n",
       "      <th>aut</th>\n",
       "    </tr>\n",
       "  </thead>\n",
       "  <tbody>\n",
       "    <tr>\n",
       "      <th>0</th>\n",
       "      <td>1</td>\n",
       "      <td>B8112</td>\n",
       "      <td>REV10</td>\n",
       "      <td>10226</td>\n",
       "      <td>TESTEXAMPLES</td>\n",
       "      <td>1.222</td>\n",
       "      <td>1.38702</td>\n",
       "      <td>4</td>\n",
       "      <td>1436</td>\n",
       "    </tr>\n",
       "  </tbody>\n",
       "</table>\n",
       "</div>"
      ],
      "text/plain": [
       "   passed  build revision  project       machine  sim_time  elapsed_time  os  \\\n",
       "0       1  B8112    REV10    10226  TESTEXAMPLES     1.222       1.38702   4   \n",
       "\n",
       "    aut  \n",
       "0  1436  "
      ]
     },
     "execution_count": 4,
     "metadata": {},
     "output_type": "execute_result"
    }
   ],
   "source": [
    "df.head(1)"
   ]
  },
  {
   "cell_type": "markdown",
   "metadata": {},
   "source": [
    "In looking at test times it only makes sense to look at the tests that passed as failed tests could be faster or slower depending on the type of failure"
   ]
  },
  {
   "cell_type": "code",
   "execution_count": 5,
   "metadata": {
    "collapsed": false
   },
   "outputs": [
    {
     "name": "stdout",
     "output_type": "stream",
     "text": [
      "39375015\n",
      "39294465\n"
     ]
    }
   ],
   "source": [
    "# eliminate failed tests\n",
    "dfp = df[df.passed==1]"
   ]
  },
  {
   "cell_type": "code",
   "execution_count": 6,
   "metadata": {
    "collapsed": false
   },
   "outputs": [
    {
     "data": {
      "text/plain": [
       "6277906"
      ]
     },
     "execution_count": 6,
     "metadata": {},
     "output_type": "execute_result"
    }
   ],
   "source": [
    "# we want to average time over different days so let's only keep the REV1 tests\n",
    "dfpr1 = dfp[dfp.revision=='REV1']\n",
    "len(dfpr1)"
   ]
  },
  {
   "cell_type": "code",
   "execution_count": 7,
   "metadata": {
    "collapsed": false
   },
   "outputs": [],
   "source": [
    "# sort by build number\n",
    "dfpr1 = dfpr1.sort_index(by='build')"
   ]
  },
  {
   "cell_type": "markdown",
   "metadata": {},
   "source": [
    "With the tests sorted by build we can get the first n by just taking the start of the dataframe"
   ]
  },
  {
   "cell_type": "code",
   "execution_count": 8,
   "metadata": {
    "collapsed": true
   },
   "outputs": [],
   "source": [
    "# next iterate through the tests and average 5 oldest sim and elapsed times\n",
    "results = []\n",
    "for project, records in dfpr1.groupby('project'):\n",
    "    if len(records) > 15:\n",
    "        x = dict(project=project)\n",
    "        x['sim5_avg'] = records[0:5].sim_time.mean()\n",
    "        x['elap5_avg'] = records[0:5].elapsed_time.mean()\n",
    "        x['sim15_avg'] = records[0:15].sim_time.mean()\n",
    "        x['elap15_avg'] = records[0:15].elapsed_time.mean()\n",
    "        results.append(x)\n",
    "        \n",
    "results = pd.DataFrame(results)"
   ]
  },
  {
   "cell_type": "code",
   "execution_count": 9,
   "metadata": {
    "collapsed": false
   },
   "outputs": [
    {
     "data": {
      "text/html": [
       "<div style=\"max-height:1000px;max-width:1500px;overflow:auto;\">\n",
       "<table border=\"1\" class=\"dataframe\">\n",
       "  <thead>\n",
       "    <tr style=\"text-align: right;\">\n",
       "      <th></th>\n",
       "      <th>elap15_avg</th>\n",
       "      <th>elap5_avg</th>\n",
       "      <th>project</th>\n",
       "      <th>sim15_avg</th>\n",
       "      <th>sim5_avg</th>\n",
       "    </tr>\n",
       "  </thead>\n",
       "  <tbody>\n",
       "    <tr>\n",
       "      <th>0</th>\n",
       "      <td>1.376987</td>\n",
       "      <td>1.385042</td>\n",
       "      <td>10226</td>\n",
       "      <td>1.208533</td>\n",
       "      <td>1.2124</td>\n",
       "    </tr>\n",
       "    <tr>\n",
       "      <th>1</th>\n",
       "      <td>0.120866</td>\n",
       "      <td>0.120261</td>\n",
       "      <td>10227</td>\n",
       "      <td>0.022533</td>\n",
       "      <td>0.0278</td>\n",
       "    </tr>\n",
       "    <tr>\n",
       "      <th>2</th>\n",
       "      <td>0.105339</td>\n",
       "      <td>0.104709</td>\n",
       "      <td>10228</td>\n",
       "      <td>0.021133</td>\n",
       "      <td>0.0182</td>\n",
       "    </tr>\n",
       "    <tr>\n",
       "      <th>3</th>\n",
       "      <td>3.134533</td>\n",
       "      <td>3.159178</td>\n",
       "      <td>10229</td>\n",
       "      <td>2.970200</td>\n",
       "      <td>2.9764</td>\n",
       "    </tr>\n",
       "    <tr>\n",
       "      <th>4</th>\n",
       "      <td>0.645501</td>\n",
       "      <td>0.651209</td>\n",
       "      <td>10230</td>\n",
       "      <td>0.471067</td>\n",
       "      <td>0.4700</td>\n",
       "    </tr>\n",
       "  </tbody>\n",
       "</table>\n",
       "</div>"
      ],
      "text/plain": [
       "   elap15_avg  elap5_avg  project  sim15_avg  sim5_avg\n",
       "0    1.376987   1.385042    10226   1.208533    1.2124\n",
       "1    0.120866   0.120261    10227   0.022533    0.0278\n",
       "2    0.105339   0.104709    10228   0.021133    0.0182\n",
       "3    3.134533   3.159178    10229   2.970200    2.9764\n",
       "4    0.645501   0.651209    10230   0.471067    0.4700"
      ]
     },
     "execution_count": 9,
     "metadata": {},
     "output_type": "execute_result"
    }
   ],
   "source": [
    "results.head()"
   ]
  },
  {
   "cell_type": "code",
   "execution_count": 10,
   "metadata": {
    "collapsed": true
   },
   "outputs": [],
   "source": [
    "df4 = pd.read_csv('../data/v14_b8600_b8658.csv')"
   ]
  },
  {
   "cell_type": "markdown",
   "metadata": {},
   "source": [
    "Now read in the v14 tests and sort in reverse order to get the last tests"
   ]
  },
  {
   "cell_type": "code",
   "execution_count": 12,
   "metadata": {
    "collapsed": false
   },
   "outputs": [
    {
     "name": "stdout",
     "output_type": "stream",
     "text": [
      "6823981\n",
      "6794405\n"
     ]
    },
    {
     "data": {
      "text/plain": [
       "1151175"
      ]
     },
     "execution_count": 12,
     "metadata": {},
     "output_type": "execute_result"
    }
   ],
   "source": [
    "# eliminate failed tests\n",
    "print(len(df4))\n",
    "dfp4 = df4[df4.passed==1]\n",
    "print(len(dfp4))\n",
    "dfp4r1 = dfp4[dfp4.revision=='REV1']\n",
    "len(dfp4r1)"
   ]
  },
  {
   "cell_type": "code",
   "execution_count": 13,
   "metadata": {
    "collapsed": true
   },
   "outputs": [],
   "source": [
    "# sort by build number\n",
    "dfp4r1 = dfp4r1.sort_index(by='build', ascending=False)"
   ]
  },
  {
   "cell_type": "code",
   "execution_count": 14,
   "metadata": {
    "collapsed": true
   },
   "outputs": [],
   "source": [
    "r14 = []\n",
    "for project, records in dfp4r1.groupby('project'):\n",
    "    if len(records) > 15:\n",
    "        x = dict(project=project)\n",
    "        x['sim5_avg4'] = records[0:5].sim_time.mean()\n",
    "        x['elap5_avg4'] = records[0:5].elapsed_time.mean()\n",
    "        x['sim15_avg4'] = records[0:15].sim_time.mean()\n",
    "        x['elap15_avg4'] = records[0:15].elapsed_time.mean()\n",
    "        r14.append(x)\n",
    "        \n",
    "r14 = pd.DataFrame(r14)"
   ]
  },
  {
   "cell_type": "code",
   "execution_count": 15,
   "metadata": {
    "collapsed": false
   },
   "outputs": [
    {
     "data": {
      "text/html": [
       "<div style=\"max-height:1000px;max-width:1500px;overflow:auto;\">\n",
       "<table border=\"1\" class=\"dataframe\">\n",
       "  <thead>\n",
       "    <tr style=\"text-align: right;\">\n",
       "      <th></th>\n",
       "      <th>elap15_avg4</th>\n",
       "      <th>elap5_avg4</th>\n",
       "      <th>project</th>\n",
       "      <th>sim15_avg4</th>\n",
       "      <th>sim5_avg4</th>\n",
       "    </tr>\n",
       "  </thead>\n",
       "  <tbody>\n",
       "    <tr>\n",
       "      <th>0</th>\n",
       "      <td>1.491520</td>\n",
       "      <td>1.493294</td>\n",
       "      <td>0</td>\n",
       "      <td>1.315533</td>\n",
       "      <td>1.3184</td>\n",
       "    </tr>\n",
       "    <tr>\n",
       "      <th>1</th>\n",
       "      <td>0.139223</td>\n",
       "      <td>0.139271</td>\n",
       "      <td>1</td>\n",
       "      <td>0.034400</td>\n",
       "      <td>0.0344</td>\n",
       "    </tr>\n",
       "    <tr>\n",
       "      <th>2</th>\n",
       "      <td>0.124512</td>\n",
       "      <td>0.122585</td>\n",
       "      <td>2</td>\n",
       "      <td>0.032067</td>\n",
       "      <td>0.0298</td>\n",
       "    </tr>\n",
       "    <tr>\n",
       "      <th>3</th>\n",
       "      <td>3.757507</td>\n",
       "      <td>3.742130</td>\n",
       "      <td>3</td>\n",
       "      <td>3.578400</td>\n",
       "      <td>3.5846</td>\n",
       "    </tr>\n",
       "    <tr>\n",
       "      <th>4</th>\n",
       "      <td>0.706162</td>\n",
       "      <td>0.684658</td>\n",
       "      <td>4</td>\n",
       "      <td>0.582200</td>\n",
       "      <td>0.5636</td>\n",
       "    </tr>\n",
       "  </tbody>\n",
       "</table>\n",
       "</div>"
      ],
      "text/plain": [
       "   elap15_avg4  elap5_avg4  project  sim15_avg4  sim5_avg4\n",
       "0     1.491520    1.493294        0    1.315533     1.3184\n",
       "1     0.139223    0.139271        1    0.034400     0.0344\n",
       "2     0.124512    0.122585        2    0.032067     0.0298\n",
       "3     3.757507    3.742130        3    3.578400     3.5846\n",
       "4     0.706162    0.684658        4    0.582200     0.5636"
      ]
     },
     "execution_count": 15,
     "metadata": {},
     "output_type": "execute_result"
    }
   ],
   "source": [
    "r14.head()"
   ]
  },
  {
   "cell_type": "code",
   "execution_count": 24,
   "metadata": {
    "collapsed": false
   },
   "outputs": [
    {
     "data": {
      "text/plain": [
       "count    18886.000000\n",
       "mean     23830.927301\n",
       "std       9395.456221\n",
       "min      10226.000000\n",
       "25%      14947.250000\n",
       "50%      19668.500000\n",
       "75%      32896.750000\n",
       "max      38181.000000\n",
       "Name: project, dtype: float64"
      ]
     },
     "execution_count": 24,
     "metadata": {},
     "output_type": "execute_result"
    }
   ],
   "source": [
    "results.project.describe()"
   ]
  },
  {
   "cell_type": "markdown",
   "metadata": {},
   "source": [
    "it's a little confusing that v13 is in results and v14 in v14.  I should go back and rename that when I'm next working on this."
   ]
  },
  {
   "cell_type": "code",
   "execution_count": 25,
   "metadata": {
    "collapsed": false
   },
   "outputs": [
    {
     "data": {
      "text/plain": [
       "count    10198.000000\n",
       "mean      5099.494803\n",
       "std       2944.083165\n",
       "min          0.000000\n",
       "25%       2550.250000\n",
       "50%       5099.500000\n",
       "75%       7648.750000\n",
       "max      10202.000000\n",
       "Name: project, dtype: float64"
      ]
     },
     "execution_count": 25,
     "metadata": {},
     "output_type": "execute_result"
    }
   ],
   "source": [
    "r14.project.describe()"
   ]
  },
  {
   "cell_type": "markdown",
   "metadata": {},
   "source": [
    "We can't merge on project because they are unique (names contain v13 vs v14) so we need to add the normalized names and merge on that"
   ]
  },
  {
   "cell_type": "code",
   "execution_count": 33,
   "metadata": {
    "collapsed": false
   },
   "outputs": [],
   "source": [
    "# add the names to the dfs so that they can be merged\n",
    "results['name'] = results.project.apply(lambda x: rmap[x])\n",
    "r14['name'] = r14.project.apply(lambda x: rmap[x])"
   ]
  },
  {
   "cell_type": "code",
   "execution_count": 34,
   "metadata": {
    "collapsed": false
   },
   "outputs": [
    {
     "data": {
      "text/html": [
       "<div style=\"max-height:1000px;max-width:1500px;overflow:auto;\">\n",
       "<table border=\"1\" class=\"dataframe\">\n",
       "  <thead>\n",
       "    <tr style=\"text-align: right;\">\n",
       "      <th></th>\n",
       "      <th>elap15_avg</th>\n",
       "      <th>elap5_avg</th>\n",
       "      <th>project_x</th>\n",
       "      <th>sim15_avg</th>\n",
       "      <th>sim5_avg</th>\n",
       "      <th>name</th>\n",
       "      <th>elap15_avg4</th>\n",
       "      <th>elap5_avg4</th>\n",
       "      <th>project_y</th>\n",
       "      <th>sim15_avg4</th>\n",
       "      <th>sim5_avg4</th>\n",
       "    </tr>\n",
       "  </thead>\n",
       "  <tbody>\n",
       "    <tr>\n",
       "      <th>0</th>\n",
       "      <td>8.271966</td>\n",
       "      <td>9.015938</td>\n",
       "      <td>10714</td>\n",
       "      <td>0.013067</td>\n",
       "      <td>0.0132</td>\n",
       "      <td>/license/features/EM_ana_100/analyst_3d_editor...</td>\n",
       "      <td>6.504271</td>\n",
       "      <td>6.439446</td>\n",
       "      <td>488</td>\n",
       "      <td>0.013400</td>\n",
       "      <td>0.0132</td>\n",
       "    </tr>\n",
       "    <tr>\n",
       "      <th>1</th>\n",
       "      <td>2.865297</td>\n",
       "      <td>2.864628</td>\n",
       "      <td>10715</td>\n",
       "      <td>0.028067</td>\n",
       "      <td>0.0282</td>\n",
       "      <td>/license/features/EM_ana_100/simple_analyst.emp</td>\n",
       "      <td>2.970731</td>\n",
       "      <td>2.983960</td>\n",
       "      <td>489</td>\n",
       "      <td>0.030533</td>\n",
       "      <td>0.0292</td>\n",
       "    </tr>\n",
       "    <tr>\n",
       "      <th>2</th>\n",
       "      <td>2.379429</td>\n",
       "      <td>2.377258</td>\n",
       "      <td>10722</td>\n",
       "      <td>0.025933</td>\n",
       "      <td>0.0256</td>\n",
       "      <td>/license/features/EM_tok_x2/simple_axiem.emp</td>\n",
       "      <td>2.414121</td>\n",
       "      <td>2.428602</td>\n",
       "      <td>495</td>\n",
       "      <td>0.027067</td>\n",
       "      <td>0.0264</td>\n",
       "    </tr>\n",
       "    <tr>\n",
       "      <th>3</th>\n",
       "      <td>2.379217</td>\n",
       "      <td>2.396060</td>\n",
       "      <td>10723</td>\n",
       "      <td>0.026200</td>\n",
       "      <td>0.0282</td>\n",
       "      <td>/license/features/EM_tok_x2/simple_axiem_2_lic...</td>\n",
       "      <td>2.425837</td>\n",
       "      <td>2.421400</td>\n",
       "      <td>496</td>\n",
       "      <td>0.027267</td>\n",
       "      <td>0.0264</td>\n",
       "    </tr>\n",
       "    <tr>\n",
       "      <th>4</th>\n",
       "      <td>1.988121</td>\n",
       "      <td>1.969902</td>\n",
       "      <td>10725</td>\n",
       "      <td>0.035333</td>\n",
       "      <td>0.0370</td>\n",
       "      <td>/license/features/EM_tok_x2/simple_axiem_check...</td>\n",
       "      <td>1.991665</td>\n",
       "      <td>2.004662</td>\n",
       "      <td>497</td>\n",
       "      <td>0.026267</td>\n",
       "      <td>0.0282</td>\n",
       "    </tr>\n",
       "  </tbody>\n",
       "</table>\n",
       "</div>"
      ],
      "text/plain": [
       "   elap15_avg  elap5_avg  project_x  sim15_avg  sim5_avg  \\\n",
       "0    8.271966   9.015938      10714   0.013067    0.0132   \n",
       "1    2.865297   2.864628      10715   0.028067    0.0282   \n",
       "2    2.379429   2.377258      10722   0.025933    0.0256   \n",
       "3    2.379217   2.396060      10723   0.026200    0.0282   \n",
       "4    1.988121   1.969902      10725   0.035333    0.0370   \n",
       "\n",
       "                                                name  elap15_avg4  elap5_avg4  \\\n",
       "0  /license/features/EM_ana_100/analyst_3d_editor...     6.504271    6.439446   \n",
       "1    /license/features/EM_ana_100/simple_analyst.emp     2.970731    2.983960   \n",
       "2       /license/features/EM_tok_x2/simple_axiem.emp     2.414121    2.428602   \n",
       "3  /license/features/EM_tok_x2/simple_axiem_2_lic...     2.425837    2.421400   \n",
       "4  /license/features/EM_tok_x2/simple_axiem_check...     1.991665    2.004662   \n",
       "\n",
       "   project_y  sim15_avg4  sim5_avg4  \n",
       "0        488    0.013400     0.0132  \n",
       "1        489    0.030533     0.0292  \n",
       "2        495    0.027067     0.0264  \n",
       "3        496    0.027267     0.0264  \n",
       "4        497    0.026267     0.0282  "
      ]
     },
     "execution_count": 34,
     "metadata": {},
     "output_type": "execute_result"
    }
   ],
   "source": [
    "combined = pd.merge(results, r14, on='name')\n",
    "combined.head()"
   ]
  },
  {
   "cell_type": "code",
   "execution_count": 39,
   "metadata": {
    "collapsed": false
   },
   "outputs": [
    {
     "data": {
      "text/html": [
       "<div style=\"max-height:1000px;max-width:1500px;overflow:auto;\">\n",
       "<table border=\"1\" class=\"dataframe\">\n",
       "  <thead>\n",
       "    <tr style=\"text-align: right;\">\n",
       "      <th></th>\n",
       "      <th>name</th>\n",
       "      <th>pct5sim</th>\n",
       "      <th>delta5sim</th>\n",
       "    </tr>\n",
       "  </thead>\n",
       "  <tbody>\n",
       "    <tr>\n",
       "      <th>544</th>\n",
       "      <td>/performance/Hspice/Many_Hspice.emp</td>\n",
       "      <td>47.953551</td>\n",
       "      <td>16.9394</td>\n",
       "    </tr>\n",
       "    <tr>\n",
       "      <th>17706</th>\n",
       "      <td>/performance/VSS/TD/NL_S_ENV_tt21065_Parametiz...</td>\n",
       "      <td>43.299108</td>\n",
       "      <td>10.9138</td>\n",
       "    </tr>\n",
       "    <tr>\n",
       "      <th>545</th>\n",
       "      <td>/performance/Hspice/one_Hspice.emp</td>\n",
       "      <td>53.886120</td>\n",
       "      <td>10.6618</td>\n",
       "    </tr>\n",
       "    <tr>\n",
       "      <th>509</th>\n",
       "      <td>/performance/axiem/Passivity/curved_lines_thic...</td>\n",
       "      <td>36.074242</td>\n",
       "      <td>7.9144</td>\n",
       "    </tr>\n",
       "    <tr>\n",
       "      <th>230</th>\n",
       "      <td>/performance/axiem/Avago/Avago_stages.emp</td>\n",
       "      <td>77.614173</td>\n",
       "      <td>6.6416</td>\n",
       "    </tr>\n",
       "    <tr>\n",
       "      <th>513</th>\n",
       "      <td>/performance/axiem/Passivity/curved_lines_thin...</td>\n",
       "      <td>54.135946</td>\n",
       "      <td>6.5642</td>\n",
       "    </tr>\n",
       "    <tr>\n",
       "      <th>511</th>\n",
       "      <td>/performance/axiem/Passivity/curved_lines_thin...</td>\n",
       "      <td>52.179411</td>\n",
       "      <td>6.1076</td>\n",
       "    </tr>\n",
       "    <tr>\n",
       "      <th>512</th>\n",
       "      <td>/performance/axiem/Passivity/curved_lines_thin...</td>\n",
       "      <td>23.567967</td>\n",
       "      <td>5.9618</td>\n",
       "    </tr>\n",
       "    <tr>\n",
       "      <th>510</th>\n",
       "      <td>/performance/axiem/Passivity/curved_lines_thin...</td>\n",
       "      <td>23.669301</td>\n",
       "      <td>5.8404</td>\n",
       "    </tr>\n",
       "    <tr>\n",
       "      <th>13333</th>\n",
       "      <td>/buildtests/Samuils/Broadside Coupled Striplin...</td>\n",
       "      <td>175.559758</td>\n",
       "      <td>5.7552</td>\n",
       "    </tr>\n",
       "    <tr>\n",
       "      <th>13334</th>\n",
       "      <td>/buildtests/Samuils/Broadside Coupled Striplin...</td>\n",
       "      <td>158.067649</td>\n",
       "      <td>5.5330</td>\n",
       "    </tr>\n",
       "    <tr>\n",
       "      <th>238</th>\n",
       "      <td>/performance/axiem/AWR_Examples/mmic_cld_uct_1...</td>\n",
       "      <td>19.393419</td>\n",
       "      <td>5.2830</td>\n",
       "    </tr>\n",
       "    <tr>\n",
       "      <th>17159</th>\n",
       "      <td>/buildtests/VSS_Examples/QAM_RFLink_BER.emp</td>\n",
       "      <td>74.117746</td>\n",
       "      <td>5.2674</td>\n",
       "    </tr>\n",
       "    <tr>\n",
       "      <th>231</th>\n",
       "      <td>/performance/axiem/AWR_Examples/AXIEM_Tweaker_...</td>\n",
       "      <td>63.262852</td>\n",
       "      <td>5.2598</td>\n",
       "    </tr>\n",
       "    <tr>\n",
       "      <th>11618</th>\n",
       "      <td>/buildtests/HSPICE/FundamentalFrequency/FET_os...</td>\n",
       "      <td>124.242088</td>\n",
       "      <td>4.4752</td>\n",
       "    </tr>\n",
       "    <tr>\n",
       "      <th>237</th>\n",
       "      <td>/performance/axiem/AWR_Examples/mmic_cld_less_...</td>\n",
       "      <td>17.663017</td>\n",
       "      <td>4.3622</td>\n",
       "    </tr>\n",
       "    <tr>\n",
       "      <th>508</th>\n",
       "      <td>/performance/axiem/Passivity/curved_lines_thic...</td>\n",
       "      <td>19.912152</td>\n",
       "      <td>4.1344</td>\n",
       "    </tr>\n",
       "    <tr>\n",
       "      <th>11722</th>\n",
       "      <td>/buildtests/HSPICE/Signal_Integrity/Demos/Demo...</td>\n",
       "      <td>286.665724</td>\n",
       "      <td>4.0546</td>\n",
       "    </tr>\n",
       "    <tr>\n",
       "      <th>17158</th>\n",
       "      <td>/buildtests/VSS_Examples/QAM_RFLink_BER.emp</td>\n",
       "      <td>47.126245</td>\n",
       "      <td>3.9636</td>\n",
       "    </tr>\n",
       "    <tr>\n",
       "      <th>11721</th>\n",
       "      <td>/buildtests/HSPICE/Signal_Integrity/Demos/Demo...</td>\n",
       "      <td>234.864071</td>\n",
       "      <td>3.8358</td>\n",
       "    </tr>\n",
       "    <tr>\n",
       "      <th>507</th>\n",
       "      <td>/performance/axiem/Passivity/coupled_ports_alu...</td>\n",
       "      <td>14.798345</td>\n",
       "      <td>3.8336</td>\n",
       "    </tr>\n",
       "    <tr>\n",
       "      <th>498</th>\n",
       "      <td>/performance/axiem/Mimix/Mimix_curved_coupled_...</td>\n",
       "      <td>11.630051</td>\n",
       "      <td>3.7850</td>\n",
       "    </tr>\n",
       "    <tr>\n",
       "      <th>16262</th>\n",
       "      <td>/buildtests/Sys_RF_Inspector/tt20420_Floating_...</td>\n",
       "      <td>518.058365</td>\n",
       "      <td>3.5860</td>\n",
       "    </tr>\n",
       "    <tr>\n",
       "      <th>15112</th>\n",
       "      <td>/buildtests/Sys_RFBlocks/AMP_BV.emp</td>\n",
       "      <td>69.286164</td>\n",
       "      <td>3.5214</td>\n",
       "    </tr>\n",
       "    <tr>\n",
       "      <th>17866</th>\n",
       "      <td>/buildtests/SysBlocks/GFDM_DMOD.emp</td>\n",
       "      <td>202.061977</td>\n",
       "      <td>3.4298</td>\n",
       "    </tr>\n",
       "    <tr>\n",
       "      <th>16261</th>\n",
       "      <td>/buildtests/Sys_RF_Inspector/tt20420_Floating_...</td>\n",
       "      <td>388.044718</td>\n",
       "      <td>3.4016</td>\n",
       "    </tr>\n",
       "    <tr>\n",
       "      <th>14432</th>\n",
       "      <td>/buildtests/SysBlocks/PHARRAY.emp</td>\n",
       "      <td>158.960693</td>\n",
       "      <td>3.3404</td>\n",
       "    </tr>\n",
       "    <tr>\n",
       "      <th>271</th>\n",
       "      <td>/performance/axiem/Bug_fixes/tt11648_MIC_LPF_6...</td>\n",
       "      <td>33.727909</td>\n",
       "      <td>3.2596</td>\n",
       "    </tr>\n",
       "    <tr>\n",
       "      <th>15086</th>\n",
       "      <td>/buildtests/Sys_RFBlocks/AMP_B Broad Narrow.emp</td>\n",
       "      <td>80.554273</td>\n",
       "      <td>3.1392</td>\n",
       "    </tr>\n",
       "    <tr>\n",
       "      <th>499</th>\n",
       "      <td>/performance/axiem/Mimix/Mimix_curved_coupled_...</td>\n",
       "      <td>9.349835</td>\n",
       "      <td>3.0234</td>\n",
       "    </tr>\n",
       "  </tbody>\n",
       "</table>\n",
       "</div>"
      ],
      "text/plain": [
       "                                                    name     pct5sim  \\\n",
       "544                  /performance/Hspice/Many_Hspice.emp   47.953551   \n",
       "17706  /performance/VSS/TD/NL_S_ENV_tt21065_Parametiz...   43.299108   \n",
       "545                   /performance/Hspice/one_Hspice.emp   53.886120   \n",
       "509    /performance/axiem/Passivity/curved_lines_thic...   36.074242   \n",
       "230            /performance/axiem/Avago/Avago_stages.emp   77.614173   \n",
       "513    /performance/axiem/Passivity/curved_lines_thin...   54.135946   \n",
       "511    /performance/axiem/Passivity/curved_lines_thin...   52.179411   \n",
       "512    /performance/axiem/Passivity/curved_lines_thin...   23.567967   \n",
       "510    /performance/axiem/Passivity/curved_lines_thin...   23.669301   \n",
       "13333  /buildtests/Samuils/Broadside Coupled Striplin...  175.559758   \n",
       "13334  /buildtests/Samuils/Broadside Coupled Striplin...  158.067649   \n",
       "238    /performance/axiem/AWR_Examples/mmic_cld_uct_1...   19.393419   \n",
       "17159        /buildtests/VSS_Examples/QAM_RFLink_BER.emp   74.117746   \n",
       "231    /performance/axiem/AWR_Examples/AXIEM_Tweaker_...   63.262852   \n",
       "11618  /buildtests/HSPICE/FundamentalFrequency/FET_os...  124.242088   \n",
       "237    /performance/axiem/AWR_Examples/mmic_cld_less_...   17.663017   \n",
       "508    /performance/axiem/Passivity/curved_lines_thic...   19.912152   \n",
       "11722  /buildtests/HSPICE/Signal_Integrity/Demos/Demo...  286.665724   \n",
       "17158        /buildtests/VSS_Examples/QAM_RFLink_BER.emp   47.126245   \n",
       "11721  /buildtests/HSPICE/Signal_Integrity/Demos/Demo...  234.864071   \n",
       "507    /performance/axiem/Passivity/coupled_ports_alu...   14.798345   \n",
       "498    /performance/axiem/Mimix/Mimix_curved_coupled_...   11.630051   \n",
       "16262  /buildtests/Sys_RF_Inspector/tt20420_Floating_...  518.058365   \n",
       "15112                /buildtests/Sys_RFBlocks/AMP_BV.emp   69.286164   \n",
       "17866                /buildtests/SysBlocks/GFDM_DMOD.emp  202.061977   \n",
       "16261  /buildtests/Sys_RF_Inspector/tt20420_Floating_...  388.044718   \n",
       "14432                  /buildtests/SysBlocks/PHARRAY.emp  158.960693   \n",
       "271    /performance/axiem/Bug_fixes/tt11648_MIC_LPF_6...   33.727909   \n",
       "15086    /buildtests/Sys_RFBlocks/AMP_B Broad Narrow.emp   80.554273   \n",
       "499    /performance/axiem/Mimix/Mimix_curved_coupled_...    9.349835   \n",
       "\n",
       "       delta5sim  \n",
       "544      16.9394  \n",
       "17706    10.9138  \n",
       "545      10.6618  \n",
       "509       7.9144  \n",
       "230       6.6416  \n",
       "513       6.5642  \n",
       "511       6.1076  \n",
       "512       5.9618  \n",
       "510       5.8404  \n",
       "13333     5.7552  \n",
       "13334     5.5330  \n",
       "238       5.2830  \n",
       "17159     5.2674  \n",
       "231       5.2598  \n",
       "11618     4.4752  \n",
       "237       4.3622  \n",
       "508       4.1344  \n",
       "11722     4.0546  \n",
       "17158     3.9636  \n",
       "11721     3.8358  \n",
       "507       3.8336  \n",
       "498       3.7850  \n",
       "16262     3.5860  \n",
       "15112     3.5214  \n",
       "17866     3.4298  \n",
       "16261     3.4016  \n",
       "14432     3.3404  \n",
       "271       3.2596  \n",
       "15086     3.1392  \n",
       "499       3.0234  "
      ]
     },
     "execution_count": 39,
     "metadata": {},
     "output_type": "execute_result"
    }
   ],
   "source": [
    "combined['delta5sim'] = combined.sim5_avg4 - combined.sim5_avg\n",
    "combined['pct5sim'] = (combined.delta5sim / combined.sim5_avg) * 100\n",
    "combined[['name', 'pct5sim', 'delta5sim']].sort_index(by='delta5sim', ascending=False).head(10)"
   ]
  },
  {
   "cell_type": "markdown",
   "metadata": {},
   "source": [
    "These results include more test suites, we can pull out just the buildtest ones"
   ]
  },
  {
   "cell_type": "code",
   "execution_count": 47,
   "metadata": {
    "collapsed": false
   },
   "outputs": [],
   "source": [
    "build = combined[combined.name.apply(lambda x: x.startswith('/buildtest'))]"
   ]
  },
  {
   "cell_type": "code",
   "execution_count": 52,
   "metadata": {
    "collapsed": false
   },
   "outputs": [
    {
     "data": {
      "text/plain": [
       "303.0992"
      ]
     },
     "execution_count": 52,
     "metadata": {},
     "output_type": "execute_result"
    }
   ],
   "source": [
    "build.delta5sim.sum()"
   ]
  },
  {
   "cell_type": "code",
   "execution_count": 51,
   "metadata": {
    "collapsed": false
   },
   "outputs": [
    {
     "data": {
      "text/plain": [
       "elap15_avg     7832\n",
       "elap5_avg      7832\n",
       "project_x      7832\n",
       "sim15_avg      7832\n",
       "sim5_avg       7832\n",
       "name           7832\n",
       "elap15_avg4    7832\n",
       "elap5_avg4     7832\n",
       "project_y      7832\n",
       "sim15_avg4     7832\n",
       "sim5_avg4      7832\n",
       "delta5sim      7832\n",
       "pct5sim        7832\n",
       "dtype: int64"
      ]
     },
     "execution_count": 51,
     "metadata": {},
     "output_type": "execute_result"
    }
   ],
   "source": [
    "len(build[build.delta5sim>0])"
   ]
  },
  {
   "cell_type": "code",
   "execution_count": 53,
   "metadata": {
    "collapsed": false
   },
   "outputs": [
    {
     "data": {
      "text/html": [
       "<div style=\"max-height:1000px;max-width:1500px;overflow:auto;\">\n",
       "<table border=\"1\" class=\"dataframe\">\n",
       "  <thead>\n",
       "    <tr style=\"text-align: right;\">\n",
       "      <th></th>\n",
       "      <th>passed</th>\n",
       "      <th>build</th>\n",
       "      <th>revision</th>\n",
       "      <th>project</th>\n",
       "      <th>machine</th>\n",
       "      <th>sim_time</th>\n",
       "      <th>elapsed_time</th>\n",
       "      <th>os</th>\n",
       "      <th>aut</th>\n",
       "    </tr>\n",
       "  </thead>\n",
       "  <tbody>\n",
       "    <tr>\n",
       "      <th>5415935</th>\n",
       "      <td>1</td>\n",
       "      <td>B8000</td>\n",
       "      <td>REV1</td>\n",
       "      <td>11290</td>\n",
       "      <td>TEST3N</td>\n",
       "      <td>0.017</td>\n",
       "      <td>0.476976</td>\n",
       "      <td>4</td>\n",
       "      <td>448</td>\n",
       "    </tr>\n",
       "    <tr>\n",
       "      <th>5415322</th>\n",
       "      <td>1</td>\n",
       "      <td>B8000</td>\n",
       "      <td>REV1</td>\n",
       "      <td>19795</td>\n",
       "      <td>TEST3M</td>\n",
       "      <td>0.031</td>\n",
       "      <td>1.444510</td>\n",
       "      <td>4</td>\n",
       "      <td>450</td>\n",
       "    </tr>\n",
       "    <tr>\n",
       "      <th>5415321</th>\n",
       "      <td>1</td>\n",
       "      <td>B8000</td>\n",
       "      <td>REV1</td>\n",
       "      <td>19794</td>\n",
       "      <td>TEST3M</td>\n",
       "      <td>0.044</td>\n",
       "      <td>2.466660</td>\n",
       "      <td>4</td>\n",
       "      <td>450</td>\n",
       "    </tr>\n",
       "    <tr>\n",
       "      <th>5415320</th>\n",
       "      <td>1</td>\n",
       "      <td>B8000</td>\n",
       "      <td>REV1</td>\n",
       "      <td>19793</td>\n",
       "      <td>TEST3M</td>\n",
       "      <td>0.034</td>\n",
       "      <td>1.466090</td>\n",
       "      <td>4</td>\n",
       "      <td>450</td>\n",
       "    </tr>\n",
       "    <tr>\n",
       "      <th>5415319</th>\n",
       "      <td>1</td>\n",
       "      <td>B8000</td>\n",
       "      <td>REV1</td>\n",
       "      <td>19792</td>\n",
       "      <td>TEST3M</td>\n",
       "      <td>0.026</td>\n",
       "      <td>1.441700</td>\n",
       "      <td>4</td>\n",
       "      <td>450</td>\n",
       "    </tr>\n",
       "  </tbody>\n",
       "</table>\n",
       "</div>"
      ],
      "text/plain": [
       "         passed  build revision  project machine  sim_time  elapsed_time  os  \\\n",
       "5415935       1  B8000     REV1    11290  TEST3N     0.017      0.476976   4   \n",
       "5415322       1  B8000     REV1    19795  TEST3M     0.031      1.444510   4   \n",
       "5415321       1  B8000     REV1    19794  TEST3M     0.044      2.466660   4   \n",
       "5415320       1  B8000     REV1    19793  TEST3M     0.034      1.466090   4   \n",
       "5415319       1  B8000     REV1    19792  TEST3M     0.026      1.441700   4   \n",
       "\n",
       "         aut  \n",
       "5415935  448  \n",
       "5415322  450  \n",
       "5415321  450  \n",
       "5415320  450  \n",
       "5415319  450  "
      ]
     },
     "execution_count": 53,
     "metadata": {},
     "output_type": "execute_result"
    }
   ],
   "source": [
    "dfpr1.head()"
   ]
  },
  {
   "cell_type": "markdown",
   "metadata": {},
   "source": [
    "We can look at a specific build/ref to get the complete test suite for that build and look at it's times."
   ]
  },
  {
   "cell_type": "code",
   "execution_count": 54,
   "metadata": {
    "collapsed": true
   },
   "outputs": [],
   "source": [
    "b8000 = dfpr1[dfpr1.build == 'B8000']"
   ]
  },
  {
   "cell_type": "code",
   "execution_count": 55,
   "metadata": {
    "collapsed": false
   },
   "outputs": [
    {
     "data": {
      "text/plain": [
       "19390"
      ]
     },
     "execution_count": 55,
     "metadata": {},
     "output_type": "execute_result"
    }
   ],
   "source": [
    "len(b8000)"
   ]
  },
  {
   "cell_type": "code",
   "execution_count": 56,
   "metadata": {
    "collapsed": true
   },
   "outputs": [],
   "source": [
    "b8658 = dfp4r1[dfp4r1.build == 'B8658']"
   ]
  },
  {
   "cell_type": "code",
   "execution_count": 57,
   "metadata": {
    "collapsed": false
   },
   "outputs": [
    {
     "data": {
      "text/plain": [
       "19223"
      ]
     },
     "execution_count": 57,
     "metadata": {},
     "output_type": "execute_result"
    }
   ],
   "source": [
    "len(b8658)"
   ]
  },
  {
   "cell_type": "code",
   "execution_count": 60,
   "metadata": {
    "collapsed": false
   },
   "outputs": [
    {
     "data": {
      "text/plain": [
       "40120.989794900001"
      ]
     },
     "execution_count": 60,
     "metadata": {},
     "output_type": "execute_result"
    }
   ],
   "source": [
    "b8000.elapsed_time.sum()"
   ]
  },
  {
   "cell_type": "code",
   "execution_count": 61,
   "metadata": {
    "collapsed": false
   },
   "outputs": [
    {
     "data": {
      "text/plain": [
       "29256.769313200002"
      ]
     },
     "execution_count": 61,
     "metadata": {},
     "output_type": "execute_result"
    }
   ],
   "source": [
    "b8658.elapsed_time.sum()"
   ]
  },
  {
   "cell_type": "code",
   "execution_count": 64,
   "metadata": {
    "collapsed": false
   },
   "outputs": [
    {
     "name": "stderr",
     "output_type": "stream",
     "text": [
      "/Users/dane/env/dt/lib/python3.4/site-packages/ipykernel/__main__.py:1: SettingWithCopyWarning: \n",
      "A value is trying to be set on a copy of a slice from a DataFrame.\n",
      "Try using .loc[row_indexer,col_indexer] = value instead\n",
      "\n",
      "See the the caveats in the documentation: http://pandas.pydata.org/pandas-docs/stable/indexing.html#indexing-view-versus-copy\n",
      "  if __name__ == '__main__':\n",
      "/Users/dane/env/dt/lib/python3.4/site-packages/ipykernel/__main__.py:2: SettingWithCopyWarning: \n",
      "A value is trying to be set on a copy of a slice from a DataFrame.\n",
      "Try using .loc[row_indexer,col_indexer] = value instead\n",
      "\n",
      "See the the caveats in the documentation: http://pandas.pydata.org/pandas-docs/stable/indexing.html#indexing-view-versus-copy\n",
      "  from ipykernel import kernelapp as app\n"
     ]
    }
   ],
   "source": [
    "b8000['name'] = b8000.project.apply(lambda x: rmap[x])\n",
    "b8658['name'] = b8658.project.apply(lambda x: rmap[x])"
   ]
  },
  {
   "cell_type": "code",
   "execution_count": 65,
   "metadata": {
    "collapsed": false
   },
   "outputs": [
    {
     "name": "stdout",
     "output_type": "stream",
     "text": [
      "10350\n",
      "10825\n"
     ]
    }
   ],
   "source": [
    "b8000b = b8000[b8000.name.apply(lambda x: x.startswith('/buildtest'))]\n",
    "b8658b = b8658[b8658.name.apply(lambda x: x.startswith('/buildtest'))]\n",
    "print(len(b8000b))\n",
    "print(len(b8658b))"
   ]
  },
  {
   "cell_type": "code",
   "execution_count": 68,
   "metadata": {
    "collapsed": false
   },
   "outputs": [
    {
     "data": {
      "text/plain": [
       "4032.4000000000001"
      ]
     },
     "execution_count": 68,
     "metadata": {},
     "output_type": "execute_result"
    }
   ],
   "source": [
    "b8000b.sim_time.sum()"
   ]
  },
  {
   "cell_type": "code",
   "execution_count": 69,
   "metadata": {
    "collapsed": false
   },
   "outputs": [
    {
     "data": {
      "text/plain": [
       "4493.5439999999999"
      ]
     },
     "execution_count": 69,
     "metadata": {},
     "output_type": "execute_result"
    }
   ],
   "source": [
    "b8658b.sim_time.sum()"
   ]
  },
  {
   "cell_type": "code",
   "execution_count": null,
   "metadata": {
    "collapsed": true
   },
   "outputs": [],
   "source": []
  }
 ],
 "metadata": {
  "kernelspec": {
   "display_name": "Python 3",
   "language": "python",
   "name": "python3"
  },
  "language_info": {
   "codemirror_mode": {
    "name": "ipython",
    "version": 3
   },
   "file_extension": ".py",
   "mimetype": "text/x-python",
   "name": "python",
   "nbconvert_exporter": "python",
   "pygments_lexer": "ipython3",
   "version": "3.4.1"
  }
 },
 "nbformat": 4,
 "nbformat_minor": 0
}
