{
 "cells": [
  {
   "cell_type": "code",
   "execution_count": 4,
   "metadata": {
    "collapsed": false
   },
   "outputs": [
    {
     "name": "stdout",
     "output_type": "stream",
     "text": [
      "/Users/dane/src/datatools/data\n"
     ]
    }
   ],
   "source": [
    "%cd /Users/dane/src/datatools/data\n",
    "import os\n",
    "import sys\n",
    "import pandas as pd"
   ]
  },
  {
   "cell_type": "code",
   "execution_count": 5,
   "metadata": {
    "collapsed": false
   },
   "outputs": [],
   "source": [
    "df = pd.read_csv('v14_b8600_b8658.csv')"
   ]
  },
  {
   "cell_type": "code",
   "execution_count": 6,
   "metadata": {
    "collapsed": false
   },
   "outputs": [
    {
     "data": {
      "text/html": [
       "<div>\n",
       "<table border=\"1\" class=\"dataframe\">\n",
       "  <thead>\n",
       "    <tr style=\"text-align: right;\">\n",
       "      <th></th>\n",
       "      <th>passed</th>\n",
       "      <th>project</th>\n",
       "      <th>sim_time</th>\n",
       "      <th>elapsed_time</th>\n",
       "      <th>os</th>\n",
       "      <th>aut</th>\n",
       "    </tr>\n",
       "  </thead>\n",
       "  <tbody>\n",
       "    <tr>\n",
       "      <th>count</th>\n",
       "      <td>6823981.000000</td>\n",
       "      <td>6823981.000000</td>\n",
       "      <td>6823981.000000</td>\n",
       "      <td>6823981.000000</td>\n",
       "      <td>6823981.000000</td>\n",
       "      <td>6823981.000000</td>\n",
       "    </tr>\n",
       "    <tr>\n",
       "      <th>mean</th>\n",
       "      <td>0.995666</td>\n",
       "      <td>5369.679818</td>\n",
       "      <td>0.439326</td>\n",
       "      <td>1.498313</td>\n",
       "      <td>0.504972</td>\n",
       "      <td>210.778164</td>\n",
       "    </tr>\n",
       "    <tr>\n",
       "      <th>std</th>\n",
       "      <td>0.065691</td>\n",
       "      <td>2786.794405</td>\n",
       "      <td>5.404404</td>\n",
       "      <td>8.827298</td>\n",
       "      <td>0.515991</td>\n",
       "      <td>130.341618</td>\n",
       "    </tr>\n",
       "    <tr>\n",
       "      <th>min</th>\n",
       "      <td>0.000000</td>\n",
       "      <td>0.000000</td>\n",
       "      <td>0.000000</td>\n",
       "      <td>0.051808</td>\n",
       "      <td>-1.000000</td>\n",
       "      <td>-1.000000</td>\n",
       "    </tr>\n",
       "    <tr>\n",
       "      <th>25%</th>\n",
       "      <td>1.000000</td>\n",
       "      <td>2997.000000</td>\n",
       "      <td>0.017000</td>\n",
       "      <td>0.219852</td>\n",
       "      <td>0.000000</td>\n",
       "      <td>90.000000</td>\n",
       "    </tr>\n",
       "    <tr>\n",
       "      <th>50%</th>\n",
       "      <td>1.000000</td>\n",
       "      <td>5388.000000</td>\n",
       "      <td>0.038000</td>\n",
       "      <td>0.578332</td>\n",
       "      <td>1.000000</td>\n",
       "      <td>231.000000</td>\n",
       "    </tr>\n",
       "    <tr>\n",
       "      <th>75%</th>\n",
       "      <td>1.000000</td>\n",
       "      <td>7775.000000</td>\n",
       "      <td>0.143000</td>\n",
       "      <td>0.922115</td>\n",
       "      <td>1.000000</td>\n",
       "      <td>328.000000</td>\n",
       "    </tr>\n",
       "    <tr>\n",
       "      <th>max</th>\n",
       "      <td>1.000000</td>\n",
       "      <td>10225.000000</td>\n",
       "      <td>633.546000</td>\n",
       "      <td>636.700000</td>\n",
       "      <td>2.000000</td>\n",
       "      <td>447.000000</td>\n",
       "    </tr>\n",
       "  </tbody>\n",
       "</table>\n",
       "</div>"
      ],
      "text/plain": [
       "               passed         project        sim_time    elapsed_time  \\\n",
       "count  6823981.000000  6823981.000000  6823981.000000  6823981.000000   \n",
       "mean         0.995666     5369.679818        0.439326        1.498313   \n",
       "std          0.065691     2786.794405        5.404404        8.827298   \n",
       "min          0.000000        0.000000        0.000000        0.051808   \n",
       "25%          1.000000     2997.000000        0.017000        0.219852   \n",
       "50%          1.000000     5388.000000        0.038000        0.578332   \n",
       "75%          1.000000     7775.000000        0.143000        0.922115   \n",
       "max          1.000000    10225.000000      633.546000      636.700000   \n",
       "\n",
       "                   os             aut  \n",
       "count  6823981.000000  6823981.000000  \n",
       "mean         0.504972      210.778164  \n",
       "std          0.515991      130.341618  \n",
       "min         -1.000000       -1.000000  \n",
       "25%          0.000000       90.000000  \n",
       "50%          1.000000      231.000000  \n",
       "75%          1.000000      328.000000  \n",
       "max          2.000000      447.000000  "
      ]
     },
     "execution_count": 6,
     "metadata": {},
     "output_type": "execute_result"
    }
   ],
   "source": [
    "df.describe()"
   ]
  },
  {
   "cell_type": "code",
   "execution_count": 7,
   "metadata": {
    "collapsed": false
   },
   "outputs": [
    {
     "data": {
      "text/html": [
       "<div>\n",
       "<table border=\"1\" class=\"dataframe\">\n",
       "  <thead>\n",
       "    <tr style=\"text-align: right;\">\n",
       "      <th></th>\n",
       "      <th>passed</th>\n",
       "      <th>build</th>\n",
       "      <th>revision</th>\n",
       "      <th>project</th>\n",
       "      <th>machine</th>\n",
       "      <th>sim_time</th>\n",
       "      <th>elapsed_time</th>\n",
       "      <th>os</th>\n",
       "      <th>aut</th>\n",
       "    </tr>\n",
       "  </thead>\n",
       "  <tbody>\n",
       "    <tr>\n",
       "      <th>0</th>\n",
       "      <td>1</td>\n",
       "      <td>B8622</td>\n",
       "      <td>REV10</td>\n",
       "      <td>0</td>\n",
       "      <td>TESTEXAMPLES</td>\n",
       "      <td>1.284</td>\n",
       "      <td>1.455760</td>\n",
       "      <td>0</td>\n",
       "      <td>153</td>\n",
       "    </tr>\n",
       "    <tr>\n",
       "      <th>1</th>\n",
       "      <td>1</td>\n",
       "      <td>B8622</td>\n",
       "      <td>REV10</td>\n",
       "      <td>1</td>\n",
       "      <td>TESTEXAMPLES</td>\n",
       "      <td>0.034</td>\n",
       "      <td>0.140661</td>\n",
       "      <td>0</td>\n",
       "      <td>153</td>\n",
       "    </tr>\n",
       "    <tr>\n",
       "      <th>2</th>\n",
       "      <td>1</td>\n",
       "      <td>B8622</td>\n",
       "      <td>REV10</td>\n",
       "      <td>2</td>\n",
       "      <td>TESTEXAMPLES</td>\n",
       "      <td>0.034</td>\n",
       "      <td>0.121931</td>\n",
       "      <td>0</td>\n",
       "      <td>153</td>\n",
       "    </tr>\n",
       "    <tr>\n",
       "      <th>3</th>\n",
       "      <td>1</td>\n",
       "      <td>B8622</td>\n",
       "      <td>REV10</td>\n",
       "      <td>3</td>\n",
       "      <td>TESTEXAMPLES</td>\n",
       "      <td>3.575</td>\n",
       "      <td>3.729380</td>\n",
       "      <td>0</td>\n",
       "      <td>153</td>\n",
       "    </tr>\n",
       "    <tr>\n",
       "      <th>4</th>\n",
       "      <td>1</td>\n",
       "      <td>B8622</td>\n",
       "      <td>REV10</td>\n",
       "      <td>4</td>\n",
       "      <td>TESTEXAMPLES</td>\n",
       "      <td>0.568</td>\n",
       "      <td>0.695644</td>\n",
       "      <td>0</td>\n",
       "      <td>153</td>\n",
       "    </tr>\n",
       "  </tbody>\n",
       "</table>\n",
       "</div>"
      ],
      "text/plain": [
       "   passed  build revision  project       machine  sim_time  elapsed_time  os  \\\n",
       "0       1  B8622    REV10        0  TESTEXAMPLES     1.284      1.455760   0   \n",
       "1       1  B8622    REV10        1  TESTEXAMPLES     0.034      0.140661   0   \n",
       "2       1  B8622    REV10        2  TESTEXAMPLES     0.034      0.121931   0   \n",
       "3       1  B8622    REV10        3  TESTEXAMPLES     3.575      3.729380   0   \n",
       "4       1  B8622    REV10        4  TESTEXAMPLES     0.568      0.695644   0   \n",
       "\n",
       "   aut  \n",
       "0  153  \n",
       "1  153  \n",
       "2  153  \n",
       "3  153  \n",
       "4  153  "
      ]
     },
     "execution_count": 7,
     "metadata": {},
     "output_type": "execute_result"
    }
   ],
   "source": [
    "df.head()"
   ]
  },
  {
   "cell_type": "markdown",
   "metadata": {
    "collapsed": false
   },
   "source": [
    "Need a way to identify a test run which is a combination of build/revision.  For now will just concat build/rev"
   ]
  },
  {
   "cell_type": "code",
   "execution_count": 14,
   "metadata": {
    "collapsed": false
   },
   "outputs": [
    {
     "data": {
      "text/html": [
       "<div>\n",
       "<table border=\"1\" class=\"dataframe\">\n",
       "  <thead>\n",
       "    <tr style=\"text-align: right;\">\n",
       "      <th></th>\n",
       "      <th>passed</th>\n",
       "      <th>build</th>\n",
       "      <th>revision</th>\n",
       "      <th>project</th>\n",
       "      <th>machine</th>\n",
       "      <th>sim_time</th>\n",
       "      <th>elapsed_time</th>\n",
       "      <th>os</th>\n",
       "      <th>aut</th>\n",
       "      <th>run_name</th>\n",
       "    </tr>\n",
       "  </thead>\n",
       "  <tbody>\n",
       "    <tr>\n",
       "      <th>0</th>\n",
       "      <td>1</td>\n",
       "      <td>B8622</td>\n",
       "      <td>REV10</td>\n",
       "      <td>0</td>\n",
       "      <td>TESTEXAMPLES</td>\n",
       "      <td>1.284</td>\n",
       "      <td>1.455760</td>\n",
       "      <td>0</td>\n",
       "      <td>153</td>\n",
       "      <td>B8622.REV10</td>\n",
       "    </tr>\n",
       "    <tr>\n",
       "      <th>1</th>\n",
       "      <td>1</td>\n",
       "      <td>B8622</td>\n",
       "      <td>REV10</td>\n",
       "      <td>1</td>\n",
       "      <td>TESTEXAMPLES</td>\n",
       "      <td>0.034</td>\n",
       "      <td>0.140661</td>\n",
       "      <td>0</td>\n",
       "      <td>153</td>\n",
       "      <td>B8622.REV10</td>\n",
       "    </tr>\n",
       "    <tr>\n",
       "      <th>2</th>\n",
       "      <td>1</td>\n",
       "      <td>B8622</td>\n",
       "      <td>REV10</td>\n",
       "      <td>2</td>\n",
       "      <td>TESTEXAMPLES</td>\n",
       "      <td>0.034</td>\n",
       "      <td>0.121931</td>\n",
       "      <td>0</td>\n",
       "      <td>153</td>\n",
       "      <td>B8622.REV10</td>\n",
       "    </tr>\n",
       "    <tr>\n",
       "      <th>3</th>\n",
       "      <td>1</td>\n",
       "      <td>B8622</td>\n",
       "      <td>REV10</td>\n",
       "      <td>3</td>\n",
       "      <td>TESTEXAMPLES</td>\n",
       "      <td>3.575</td>\n",
       "      <td>3.729380</td>\n",
       "      <td>0</td>\n",
       "      <td>153</td>\n",
       "      <td>B8622.REV10</td>\n",
       "    </tr>\n",
       "    <tr>\n",
       "      <th>4</th>\n",
       "      <td>1</td>\n",
       "      <td>B8622</td>\n",
       "      <td>REV10</td>\n",
       "      <td>4</td>\n",
       "      <td>TESTEXAMPLES</td>\n",
       "      <td>0.568</td>\n",
       "      <td>0.695644</td>\n",
       "      <td>0</td>\n",
       "      <td>153</td>\n",
       "      <td>B8622.REV10</td>\n",
       "    </tr>\n",
       "  </tbody>\n",
       "</table>\n",
       "</div>"
      ],
      "text/plain": [
       "   passed  build revision  project       machine  sim_time  elapsed_time  os  \\\n",
       "0       1  B8622    REV10        0  TESTEXAMPLES     1.284      1.455760   0   \n",
       "1       1  B8622    REV10        1  TESTEXAMPLES     0.034      0.140661   0   \n",
       "2       1  B8622    REV10        2  TESTEXAMPLES     0.034      0.121931   0   \n",
       "3       1  B8622    REV10        3  TESTEXAMPLES     3.575      3.729380   0   \n",
       "4       1  B8622    REV10        4  TESTEXAMPLES     0.568      0.695644   0   \n",
       "\n",
       "   aut     run_name  \n",
       "0  153  B8622.REV10  \n",
       "1  153  B8622.REV10  \n",
       "2  153  B8622.REV10  \n",
       "3  153  B8622.REV10  \n",
       "4  153  B8622.REV10  "
      ]
     },
     "execution_count": 14,
     "metadata": {},
     "output_type": "execute_result"
    }
   ],
   "source": [
    "df['run_name'] = df.build + '.' + df.revision\n",
    "df.head()"
   ]
  },
  {
   "cell_type": "code",
   "execution_count": 15,
   "metadata": {
    "collapsed": false
   },
   "outputs": [],
   "source": [
    "# write out to pickle file\n",
    "df.to_pickle('/Users/dane/src/datatools/ipy/notebooks/regtest/data/v14_B8600_B8658.pickle')"
   ]
  },
  {
   "cell_type": "code",
   "execution_count": null,
   "metadata": {
    "collapsed": false
   },
   "outputs": [],
   "source": [
    "%timeit pd.read_pickle('/Users/dane/src/datatools/ipy/notebooks/regtest/data/v14_B8600_B8658.pickle')"
   ]
  },
  {
   "cell_type": "code",
   "execution_count": null,
   "metadata": {
    "collapsed": true
   },
   "outputs": [],
   "source": []
  }
 ],
 "metadata": {
  "kernelspec": {
   "display_name": "Python 3",
   "language": "python",
   "name": "python3"
  },
  "language_info": {
   "codemirror_mode": {
    "name": "ipython",
    "version": 3
   },
   "file_extension": ".py",
   "mimetype": "text/x-python",
   "name": "python",
   "nbconvert_exporter": "python",
   "pygments_lexer": "ipython3",
   "version": "3.5.0"
  }
 },
 "nbformat": 4,
 "nbformat_minor": 0
}
