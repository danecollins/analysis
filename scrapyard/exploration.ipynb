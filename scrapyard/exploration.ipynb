{
 "cells": [
  {
   "cell_type": "markdown",
   "metadata": {},
   "source": [
    "# What correlates to starts\n",
    "\n",
    "This analysis is looking at what usage parameters correlates to program starts."
   ]
  },
  {
   "cell_type": "code",
   "execution_count": 50,
   "metadata": {
    "collapsed": true
   },
   "outputs": [],
   "source": [
    "%matplotlib inline\n",
    "import matplotlib.pyplot as plt\n",
    "import numpy as np\n",
    "import pandas as pd\n",
    "import xlrd\n",
    "import sys\n",
    "import pytz\n",
    "import datetime\n",
    "pacific = pytz.timezone('US/Pacific')\n",
    "import pylab\n",
    "pylab.rcParams['figure.figsize'] = (12,8)\n",
    "\n",
    "sys.path.append('/Users/dane/src/datatools')"
   ]
  },
  {
   "cell_type": "markdown",
   "metadata": {},
   "source": [
    "## Clean and filter data"
   ]
  },
  {
   "cell_type": "code",
   "execution_count": 28,
   "metadata": {
    "collapsed": false
   },
   "outputs": [
    {
     "data": {
      "text/html": [
       "<div style=\"max-height:1000px;max-width:1500px;overflow:auto;\">\n",
       "<table border=\"1\" class=\"dataframe\">\n",
       "  <thead>\n",
       "    <tr style=\"text-align: right;\">\n",
       "      <th></th>\n",
       "      <th>date</th>\n",
       "      <th>starts</th>\n",
       "      <th>all_sessions</th>\n",
       "      <th>has commands</th>\n",
       "    </tr>\n",
       "  </thead>\n",
       "  <tbody>\n",
       "    <tr>\n",
       "      <th>0</th>\n",
       "      <td>2016-12-16</td>\n",
       "      <td>260</td>\n",
       "      <td>316</td>\n",
       "      <td>211</td>\n",
       "    </tr>\n",
       "    <tr>\n",
       "      <th>1</th>\n",
       "      <td>2016-12-15</td>\n",
       "      <td>262</td>\n",
       "      <td>215</td>\n",
       "      <td>121</td>\n",
       "    </tr>\n",
       "    <tr>\n",
       "      <th>2</th>\n",
       "      <td>2016-12-14</td>\n",
       "      <td>227</td>\n",
       "      <td>254</td>\n",
       "      <td>174</td>\n",
       "    </tr>\n",
       "    <tr>\n",
       "      <th>3</th>\n",
       "      <td>2016-12-13</td>\n",
       "      <td>166</td>\n",
       "      <td>252</td>\n",
       "      <td>169</td>\n",
       "    </tr>\n",
       "    <tr>\n",
       "      <th>4</th>\n",
       "      <td>2016-12-12</td>\n",
       "      <td>71</td>\n",
       "      <td>89</td>\n",
       "      <td>62</td>\n",
       "    </tr>\n",
       "  </tbody>\n",
       "</table>\n",
       "</div>"
      ],
      "text/plain": [
       "        date  starts  all_sessions  has commands\n",
       "0 2016-12-16     260           316           211\n",
       "1 2016-12-15     262           215           121\n",
       "2 2016-12-14     227           254           174\n",
       "3 2016-12-13     166           252           169\n",
       "4 2016-12-12      71            89            62"
      ]
     },
     "execution_count": 28,
     "metadata": {},
     "output_type": "execute_result"
    }
   ],
   "source": [
    "stdf = pd.read_excel('/Users/dane/src/datatools/ipy/notebooks/starts_correlation/data/lds_starts.xlsx')\n",
    "stdf.head()"
   ]
  },
  {
   "cell_type": "code",
   "execution_count": 29,
   "metadata": {
    "collapsed": false
   },
   "outputs": [
    {
     "name": "stdout",
     "output_type": "stream",
     "text": [
      "Date Range: 2016-11-01 to 2016-12-16\n"
     ]
    },
    {
     "data": {
      "text/html": [
       "<div style=\"max-height:1000px;max-width:1500px;overflow:auto;\">\n",
       "<table border=\"1\" class=\"dataframe\">\n",
       "  <thead>\n",
       "    <tr style=\"text-align: right;\">\n",
       "      <th></th>\n",
       "      <th>date</th>\n",
       "      <th>starts</th>\n",
       "      <th>all_sessions</th>\n",
       "      <th>has commands</th>\n",
       "      <th>day</th>\n",
       "    </tr>\n",
       "  </thead>\n",
       "  <tbody>\n",
       "    <tr>\n",
       "      <th>45</th>\n",
       "      <td>2016-11-01</td>\n",
       "      <td>135</td>\n",
       "      <td>116</td>\n",
       "      <td>66</td>\n",
       "      <td>2016-11-01</td>\n",
       "    </tr>\n",
       "    <tr>\n",
       "      <th>44</th>\n",
       "      <td>2016-11-02</td>\n",
       "      <td>106</td>\n",
       "      <td>139</td>\n",
       "      <td>82</td>\n",
       "      <td>2016-11-02</td>\n",
       "    </tr>\n",
       "    <tr>\n",
       "      <th>43</th>\n",
       "      <td>2016-11-03</td>\n",
       "      <td>151</td>\n",
       "      <td>117</td>\n",
       "      <td>78</td>\n",
       "      <td>2016-11-03</td>\n",
       "    </tr>\n",
       "    <tr>\n",
       "      <th>42</th>\n",
       "      <td>2016-11-04</td>\n",
       "      <td>136</td>\n",
       "      <td>145</td>\n",
       "      <td>69</td>\n",
       "      <td>2016-11-04</td>\n",
       "    </tr>\n",
       "    <tr>\n",
       "      <th>41</th>\n",
       "      <td>2016-11-05</td>\n",
       "      <td>146</td>\n",
       "      <td>112</td>\n",
       "      <td>65</td>\n",
       "      <td>2016-11-05</td>\n",
       "    </tr>\n",
       "  </tbody>\n",
       "</table>\n",
       "</div>"
      ],
      "text/plain": [
       "         date  starts  all_sessions  has commands         day\n",
       "45 2016-11-01     135           116            66  2016-11-01\n",
       "44 2016-11-02     106           139            82  2016-11-02\n",
       "43 2016-11-03     151           117            78  2016-11-03\n",
       "42 2016-11-04     136           145            69  2016-11-04\n",
       "41 2016-11-05     146           112            65  2016-11-05"
      ]
     },
     "execution_count": 29,
     "metadata": {},
     "output_type": "execute_result"
    }
   ],
   "source": [
    "# resort dates and get date range and localize times\n",
    "######stdf.date = stdf.date.apply(lambda x: pacific.localize(x))\n",
    "stdf['day'] = stdf.date.apply(lambda x: x.strftime('%Y-%m-%d'))\n",
    "stdf.sort_index(by='date', inplace=True)\n",
    "print('Date Range: ' + str(stdf.day.min()) + ' to ' + str(stdf.day.max()))\n",
    "stdf.head()"
   ]
  },
  {
   "cell_type": "code",
   "execution_count": 30,
   "metadata": {
    "collapsed": false,
    "scrolled": true
   },
   "outputs": [
    {
     "name": "stdout",
     "output_type": "stream",
     "text": [
      "Date Range: 2016-11-01 to 2016-12-16\n"
     ]
    },
    {
     "data": {
      "text/html": [
       "<div style=\"max-height:1000px;max-width:1500px;overflow:auto;\">\n",
       "<table border=\"1\" class=\"dataframe\">\n",
       "  <thead>\n",
       "    <tr style=\"text-align: right;\">\n",
       "      <th></th>\n",
       "      <th>id</th>\n",
       "      <th>build_number</th>\n",
       "      <th>user</th>\n",
       "      <th>company</th>\n",
       "      <th>serial_num</th>\n",
       "      <th>has_commands</th>\n",
       "      <th>project_id</th>\n",
       "      <th>user_type</th>\n",
       "      <th>disp_name</th>\n",
       "      <th>user_name</th>\n",
       "      <th>custid</th>\n",
       "      <th>runtime</th>\n",
       "      <th>state</th>\n",
       "      <th>username</th>\n",
       "      <th>name</th>\n",
       "      <th>day</th>\n",
       "    </tr>\n",
       "  </thead>\n",
       "  <tbody>\n",
       "    <tr>\n",
       "      <th>131</th>\n",
       "      <td>38249</td>\n",
       "      <td>8263</td>\n",
       "      <td>Cust# 62</td>\n",
       "      <td>Gigacom Inc.</td>\n",
       "      <td>51957</td>\n",
       "      <td>False</td>\n",
       "      <td>None</td>\n",
       "      <td>customer</td>\n",
       "      <td>Matthew Bell at Gigacom</td>\n",
       "      <td>Mathew () id=62</td>\n",
       "      <td>62</td>\n",
       "      <td>0</td>\n",
       "      <td>C</td>\n",
       "      <td>Mathew ()</td>\n",
       "      <td>None</td>\n",
       "      <td>2016-11-16</td>\n",
       "    </tr>\n",
       "    <tr>\n",
       "      <th>548</th>\n",
       "      <td>48855</td>\n",
       "      <td>8275</td>\n",
       "      <td>Cust# 8905</td>\n",
       "      <td>Qorvo - FL</td>\n",
       "      <td>52989</td>\n",
       "      <td>True</td>\n",
       "      <td>None</td>\n",
       "      <td>customer</td>\n",
       "      <td>Pedro Zayas at Qorvo</td>\n",
       "      <td>pzayas id=8905</td>\n",
       "      <td>8905</td>\n",
       "      <td>5390</td>\n",
       "      <td>D</td>\n",
       "      <td>pzayas</td>\n",
       "      <td>None</td>\n",
       "      <td>2016-12-12</td>\n",
       "    </tr>\n",
       "    <tr>\n",
       "      <th>562</th>\n",
       "      <td>41452</td>\n",
       "      <td>8263</td>\n",
       "      <td>Cust# 2398</td>\n",
       "      <td>Kathrein-Werke KG</td>\n",
       "      <td>52975</td>\n",
       "      <td>False</td>\n",
       "      <td>None</td>\n",
       "      <td>customer</td>\n",
       "      <td>None</td>\n",
       "      <td>bauerj id=2398</td>\n",
       "      <td>2398</td>\n",
       "      <td>251734</td>\n",
       "      <td>D</td>\n",
       "      <td>bauerj</td>\n",
       "      <td>None</td>\n",
       "      <td>2016-11-25</td>\n",
       "    </tr>\n",
       "    <tr>\n",
       "      <th>645</th>\n",
       "      <td>46921</td>\n",
       "      <td>8275</td>\n",
       "      <td>Cust# 8905</td>\n",
       "      <td>Qorvo - FL</td>\n",
       "      <td>52989</td>\n",
       "      <td>False</td>\n",
       "      <td>None</td>\n",
       "      <td>customer</td>\n",
       "      <td>Sebastian Tanuz at Qorvo</td>\n",
       "      <td>stanuz id=8905</td>\n",
       "      <td>8905</td>\n",
       "      <td>7239</td>\n",
       "      <td>D</td>\n",
       "      <td>stanuz</td>\n",
       "      <td>None</td>\n",
       "      <td>2016-12-08</td>\n",
       "    </tr>\n",
       "    <tr>\n",
       "      <th>811</th>\n",
       "      <td>39387</td>\n",
       "      <td>8263</td>\n",
       "      <td>Cust# 8905</td>\n",
       "      <td>Qorvo - FL</td>\n",
       "      <td>52989</td>\n",
       "      <td>False</td>\n",
       "      <td>None</td>\n",
       "      <td>customer</td>\n",
       "      <td>None</td>\n",
       "      <td>ms031339 id=8905</td>\n",
       "      <td>8905</td>\n",
       "      <td>0</td>\n",
       "      <td>C</td>\n",
       "      <td>ms031339</td>\n",
       "      <td>None</td>\n",
       "      <td>2016-11-18</td>\n",
       "    </tr>\n",
       "  </tbody>\n",
       "</table>\n",
       "</div>"
      ],
      "text/plain": [
       "        id  build_number        user            company serial_num  \\\n",
       "131  38249          8263    Cust# 62       Gigacom Inc.      51957   \n",
       "548  48855          8275  Cust# 8905         Qorvo - FL      52989   \n",
       "562  41452          8263  Cust# 2398  Kathrein-Werke KG      52975   \n",
       "645  46921          8275  Cust# 8905         Qorvo - FL      52989   \n",
       "811  39387          8263  Cust# 8905         Qorvo - FL      52989   \n",
       "\n",
       "    has_commands project_id user_type                 disp_name  \\\n",
       "131        False       None  customer   Matthew Bell at Gigacom   \n",
       "548         True       None  customer      Pedro Zayas at Qorvo   \n",
       "562        False       None  customer                      None   \n",
       "645        False       None  customer  Sebastian Tanuz at Qorvo   \n",
       "811        False       None  customer                      None   \n",
       "\n",
       "            user_name  custid  runtime state   username  name         day  \n",
       "131   Mathew () id=62      62        0     C  Mathew ()  None  2016-11-16  \n",
       "548    pzayas id=8905    8905     5390     D     pzayas  None  2016-12-12  \n",
       "562    bauerj id=2398    2398   251734     D     bauerj  None  2016-11-25  \n",
       "645    stanuz id=8905    8905     7239     D     stanuz  None  2016-12-08  \n",
       "811  ms031339 id=8905    8905        0     C   ms031339  None  2016-11-18  "
      ]
     },
     "execution_count": 30,
     "metadata": {},
     "output_type": "execute_result"
    }
   ],
   "source": [
    "sdf = pd.read_pickle('/Users/dane/dropbox/work/datafiles/sessions.df')\n",
    "\n",
    "# cleanup the data: \n",
    "#   - keep only dates in stdf, remove features, convert dates to pst\n",
    "#   - add date column\n",
    "#   - remove internal sessions\n",
    "sdf['day'] = sdf.added.apply(lambda a: a.astimezone(pacific).strftime('%Y-%m-%d'))\n",
    "sdf.drop(['features', 'added'], axis=1, inplace=True)\n",
    "sdf = sdf[sdf.user_type != 'internal']\n",
    "sdf = sdf[(sdf.day >= stdf.day.min()) & (sdf.day <= stdf.day.max()) ]\n",
    "print('Date Range: ' + str(sdf.day.min()) + ' to ' + str(sdf.day.max()))\n",
    "sdf.head()"
   ]
  },
  {
   "cell_type": "code",
   "execution_count": null,
   "metadata": {
    "collapsed": false
   },
   "outputs": [],
   "source": [
    "sddf = pd.read_pickle('/Users/dane/Dropbox/work/datafiles/sessiondata.df')\n",
    "\n",
    "# cleanup data\n",
    "#   - remove user, machine, username, sn, project_id, build since these are all in session\n",
    "#   - only keep sd records for sessions we've kept\n",
    "sddf.drop(['user', 'machine', 'username', 'project_id', 'user_type'], axis=1, inplace=True)\n",
    "print(len(sddf))\n",
    "sddf = sddf[sddf.session_id.isin(sdf.id) ]\n",
    "print(len(sddf))\n",
    "sddf.head()"
   ]
  },
  {
   "cell_type": "markdown",
   "metadata": {},
   "source": [
    "## Test the data"
   ]
  },
  {
   "cell_type": "code",
   "execution_count": 31,
   "metadata": {
    "collapsed": false
   },
   "outputs": [
    {
     "name": "stdout",
     "output_type": "stream",
     "text": [
      "The total number of sessions in start spreadsheet is: 6768\n",
      "The total number of sessions is: 6871\n"
     ]
    }
   ],
   "source": [
    "# Sum of session counts should match\n",
    "print('The total number of sessions in start spreadsheet is: {}'.format(stdf.all_sessions.sum()))\n",
    "print('The total number of sessions is: {}'.format(sdf.id.count()))"
   ]
  },
  {
   "cell_type": "markdown",
   "metadata": {},
   "source": [
    "This is a little off but I'm not sure what timezone settings I used in the spreadsheet so it's possible that is the cause of the error."
   ]
  },
  {
   "cell_type": "markdown",
   "metadata": {
    "collapsed": false
   },
   "source": [
    "## Session based statistics\n",
    "\n",
    "### Looking at the number of commands per session\n",
    "\n",
    "For this we will only keep the sessions with commands."
   ]
  },
  {
   "cell_type": "code",
   "execution_count": 32,
   "metadata": {
    "collapsed": false
   },
   "outputs": [
    {
     "data": {
      "text/html": [
       "<div style=\"max-height:1000px;max-width:1500px;overflow:auto;\">\n",
       "<table border=\"1\" class=\"dataframe\">\n",
       "  <thead>\n",
       "    <tr style=\"text-align: right;\">\n",
       "      <th></th>\n",
       "      <th>id</th>\n",
       "      <th>custid</th>\n",
       "      <th>runtime</th>\n",
       "      <th>day</th>\n",
       "    </tr>\n",
       "  </thead>\n",
       "  <tbody>\n",
       "    <tr>\n",
       "      <th>548</th>\n",
       "      <td>48855</td>\n",
       "      <td>8905</td>\n",
       "      <td>5390</td>\n",
       "      <td>2016-12-12</td>\n",
       "    </tr>\n",
       "    <tr>\n",
       "      <th>1249</th>\n",
       "      <td>32864</td>\n",
       "      <td>10730</td>\n",
       "      <td>24140</td>\n",
       "      <td>2016-11-03</td>\n",
       "    </tr>\n",
       "    <tr>\n",
       "      <th>1373</th>\n",
       "      <td>40350</td>\n",
       "      <td>8905</td>\n",
       "      <td>786</td>\n",
       "      <td>2016-11-22</td>\n",
       "    </tr>\n",
       "    <tr>\n",
       "      <th>1387</th>\n",
       "      <td>39903</td>\n",
       "      <td>3597</td>\n",
       "      <td>0</td>\n",
       "      <td>2016-11-21</td>\n",
       "    </tr>\n",
       "    <tr>\n",
       "      <th>2081</th>\n",
       "      <td>50649</td>\n",
       "      <td>8905</td>\n",
       "      <td>0</td>\n",
       "      <td>2016-12-15</td>\n",
       "    </tr>\n",
       "  </tbody>\n",
       "</table>\n",
       "</div>"
      ],
      "text/plain": [
       "         id  custid  runtime         day\n",
       "548   48855    8905     5390  2016-12-12\n",
       "1249  32864   10730    24140  2016-11-03\n",
       "1373  40350    8905      786  2016-11-22\n",
       "1387  39903    3597        0  2016-11-21\n",
       "2081  50649    8905        0  2016-12-15"
      ]
     },
     "execution_count": 32,
     "metadata": {},
     "output_type": "execute_result"
    }
   ],
   "source": [
    "df = sdf[sdf.has_commands==True][['id', 'custid', 'runtime', 'day']]\n",
    "df.head()"
   ]
  },
  {
   "cell_type": "code",
   "execution_count": 85,
   "metadata": {
    "collapsed": false
   },
   "outputs": [],
   "source": [
    "cnt_by_session = sddf[sddf.category=='Command'].groupby('session_id').sum()"
   ]
  },
  {
   "cell_type": "code",
   "execution_count": 75,
   "metadata": {
    "collapsed": false
   },
   "outputs": [
    {
     "data": {
      "text/plain": [
       "<matplotlib.axes._subplots.AxesSubplot at 0x1126cea20>"
      ]
     },
     "execution_count": 75,
     "metadata": {},
     "output_type": "execute_result"
    },
    {
     "data": {
      "image/png": "[encoded data removed]",
      "text/plain": [
       "<matplotlib.figure.Figure at 0x1126c7a90>"
      ]
     },
     "metadata": {},
     "output_type": "display_data"
    }
   ],
   "source": [
    "count_cumsum = cnt_by_session.sort_index(by='count', ascending=False)['count'].cumsum()/cnt_by_session['count'].sum()\n",
    "x = count_cumsum\n",
    "x.index = np.arange(len(x))\n",
    "x.plot()"
   ]
  },
  {
   "cell_type": "code",
   "execution_count": 79,
   "metadata": {
    "collapsed": false
   },
   "outputs": [
    {
     "data": {
      "image/png": "[encoded data removed]",
      "text/plain": [
       "<matplotlib.figure.Figure at 0x112526550>"
      ]
     },
     "metadata": {},
     "output_type": "display_data"
    }
   ],
   "source": [
    "cbs = cnt_by_session[(cnt_by_session['count'] > 2) & (cnt_by_session['count'] < 400)]\n",
    "cbs['count'].hist(bins=40)\n",
    "plt.show()"
   ]
  },
  {
   "cell_type": "markdown",
   "metadata": {},
   "source": [
    "### Commands per day"
   ]
  },
  {
   "cell_type": "code",
   "execution_count": 134,
   "metadata": {
    "collapsed": false
   },
   "outputs": [
    {
     "data": {
      "text/plain": [
       "<matplotlib.legend.Legend at 0x1100347b8>"
      ]
     },
     "execution_count": 134,
     "metadata": {},
     "output_type": "execute_result"
    },
    {
     "data": {
      "image/png": "[encoded data removed]",
      "text/plain": [
       "<matplotlib.figure.Figure at 0x110034588>"
      ]
     },
     "metadata": {},
     "output_type": "display_data"
    }
   ],
   "source": [
    "# need add the command count to session df\n",
    "x=sdf\n",
    "x.index = x['id']  # need to set the index to the session id\n",
    "x['cmd_cnt'] = cnt_by_session['count']  # merge the command count in\n",
    "cmds_by_day = x.groupby('day').cmd_cnt.sum()\n",
    "sess_by_day = x.groupby('day').cmd_cnt.count()\n",
    "a = cmds_by_day\n",
    "a.index = np.arange(len(a))\n",
    "plt.plot(a)\n",
    "b = sess_by_day * 40\n",
    "\n",
    "b.index = np.arange(len(b))\n",
    "plt.plot(b)\n",
    "plt.legend(['sum', 'cnt'], bbox_to_anchor=[0.4,0.8])"
   ]
  },
  {
   "cell_type": "markdown",
   "metadata": {},
   "source": [
    "Scaling up the number of sessions we see that the session count correlates quite well with the total number of commands on a daily basis."
   ]
  },
  {
   "cell_type": "code",
   "execution_count": 119,
   "metadata": {
    "collapsed": false
   },
   "outputs": [
    {
     "data": {
      "text/plain": [
       "day\n",
       "2016-11-01    122\n",
       "2016-11-02    127\n",
       "2016-11-03     99\n",
       "2016-11-04    155\n",
       "2016-11-05     17\n",
       "Name: cmd_cnt, dtype: int64"
      ]
     },
     "execution_count": 119,
     "metadata": {},
     "output_type": "execute_result"
    }
   ],
   "source": []
  },
  {
   "cell_type": "code",
   "execution_count": null,
   "metadata": {
    "collapsed": true
   },
   "outputs": [],
   "source": []
  }
 ],
 "metadata": {
  "kernelspec": {
   "display_name": "Python 3",
   "language": "python",
   "name": "python3"
  },
  "language_info": {
   "codemirror_mode": {
    "name": "ipython",
    "version": 3
   },
   "file_extension": ".py",
   "mimetype": "text/x-python",
   "name": "python",
   "nbconvert_exporter": "python",
   "pygments_lexer": "ipython3",
   "version": "3.4.2"
  }
 },
 "nbformat": 4,
 "nbformat_minor": 0
}
