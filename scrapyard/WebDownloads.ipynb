{
 "cells": [
  {
   "cell_type": "code",
   "execution_count": null,
   "metadata": {
    "button": false,
    "collapsed": true,
    "new_sheet": false,
    "run_control": {
     "read_only": false
    }
   },
   "outputs": [],
   "source": [
    "import pandas as pd\n",
    "import numpy as np\n",
    "%matplotlib inline\n",
    "import matplotlib.pyplot as plt\n",
    "\n",
    "df_dl = pd.read_csv('./download_data.csv',\n",
    "                    names=['year','quarter','type','count','name','id'],\n",
    "                    header=None, index_col=None)\n",
    "df_dl_map = df_dl[df_dl.type == 'mapped_name']\n",
    "table = pd.pivot_table(df_dl_map, columns='id', values='count', index='name',\n",
    "                       aggfunc=sum, fill_value=0)\n",
    "def draw_line_chart(pivot_table, list_of_items, title, legend_bbox=False):\n",
    "    fig = plt.gcf()\n",
    "    fig.set_size_inches(12, 8)\n",
    "    data = pivot_table.loc[list_of_items]\n",
    "    data_t = data.T\n",
    "    x = plt.plot(np.arange(len(data_t)), data_t, linewidth=2.0, label=list_of_items)\n",
    "    plt.title(title)\n",
    "    if legend_bbox:\n",
    "        plt.legend(x, list_of_items, bbox_to_anchor=legend_bbox,\n",
    "                   bbox_transform=fig.transFigure)\n",
    "    else:\n",
    "        plt.legend(x, list_of_items)\n",
    "    plt.ylabel('Number of Unique Users')\n",
    "    plt.gca().set_xticks(np.arange(len(data.columns)))\n",
    "    plt.gca().set_xticklabels(data.columns)"
   ]
  },
  {
   "cell_type": "markdown",
   "metadata": {
    "button": false,
    "collapsed": true,
    "new_sheet": false,
    "run_control": {
     "read_only": false
    }
   },
   "source": [
    "# Analysis of Files Downloaded by Users\n",
    "\n",
    "Through our website we provide access to a large body of content such as training videos, application notes and documentation.  We track the users that download these files.  The data presented here is an analysis of that data.\n",
    "\n",
    "*Methodology:*\n",
    "* All data is based on our logging of registered user actions in CDB.\n",
    "* All users counts are unique users.\n",
    "* In cases where a training contains multiple files, each user is only counted once.\n",
    "* All data is based on the last 4 quarters. Monthly data was found to be too noisy which led to the choice to make these graphs quarterly.\n",
    "* You can <a href=\"/static/download_data.csv\">download</a> the raw data."
   ]
  },
  {
   "cell_type": "markdown",
   "metadata": {
    "button": false,
    "new_sheet": false,
    "run_control": {
     "read_only": false
    }
   },
   "source": [
    "### Getting Started Guides\n",
    "\n",
    "Starting in Q3 2017 we moved the getting started guides to the KnowledgeBase so we no longer have download statistics on these."
   ]
  },
  {
   "cell_type": "markdown",
   "metadata": {
    "button": false,
    "new_sheet": false,
    "run_control": {
     "read_only": false
    }
   },
   "source": [
    "## Application Notes\n",
    "\n",
    "We provide several application notes."
   ]
  },
  {
   "cell_type": "code",
   "execution_count": null,
   "metadata": {
    "button": false,
    "collapsed": true,
    "new_sheet": false,
    "run_control": {
     "read_only": false
    }
   },
   "outputs": [],
   "source": [
    "items = ['AppNote-Antenna', 'AppNote-MDLX', 'AppNote-WLAN',\n",
    "         'AppNote-designcon']\n",
    "title = 'Application Notes'\n",
    "draw_line_chart(table, items, title)"
   ]
  },
  {
   "cell_type": "markdown",
   "metadata": {
    "button": false,
    "new_sheet": false,
    "run_control": {
     "read_only": false
    }
   },
   "source": [
    "## Training\n",
    "\n",
    "Most of the training material are videos.  Since there are a few training 'series' produced I plot those separately.\n",
    "\n",
    "### Jump Start Training"
   ]
  },
  {
   "cell_type": "code",
   "execution_count": null,
   "metadata": {
    "button": false,
    "collapsed": true,
    "new_sheet": false,
    "run_control": {
     "read_only": false
    }
   },
   "outputs": [],
   "source": [
    "items = ['TR-jumpstart', 'TR-jumpstartEM', 'TR-jumpstartLayout']\n",
    "title = 'Jumpstart Training'\n",
    "draw_line_chart(table, items, title)"
   ]
  },
  {
   "cell_type": "markdown",
   "metadata": {
    "button": false,
    "new_sheet": false,
    "run_control": {
     "read_only": false
    }
   },
   "source": [
    "### In-Depth Training\n",
    "\n",
    "I find it interesting that harmonic balance is the area where the largest number of users download training. It would be interesting to determine why HB and Fornetti downloads bucked the trent and increased their downloads in Q4."
   ]
  },
  {
   "cell_type": "code",
   "execution_count": null,
   "metadata": {
    "button": false,
    "collapsed": true,
    "new_sheet": false,
    "run_control": {
     "read_only": false
    }
   },
   "outputs": [],
   "source": [
    "items = ['TR-Axiem', 'TR-emSetup', 'TR-HB', 'TR-fornetti', 'TR-planar']\n",
    "title = 'In-Depth Training'\n",
    "draw_line_chart(table, items, title)"
   ]
  },
  {
   "cell_type": "markdown",
   "metadata": {
    "button": false,
    "new_sheet": false,
    "run_control": {
     "read_only": false
    }
   },
   "source": [
    "## Special Downloads\n",
    "\n",
    "There are files we make available to customers that are for special circumstances.  We provide .iso disk images for customers that use electronic delivery (such as in California).  We also produce an installer for the vendor parts libraries so they can be installed locally and accessed even if the user is not on the internet.  The downloads for these are shown here.\n",
    "\n",
    "The huge increase in iso file downloads is interesting but a quick investigation showed that about 55% of these are academic users."
   ]
  },
  {
   "cell_type": "code",
   "execution_count": null,
   "metadata": {
    "button": false,
    "collapsed": true,
    "new_sheet": false,
    "run_control": {
     "read_only": false
    }
   },
   "outputs": [],
   "source": [
    "items = ['iso', 'Vendor_Libs', '3D_parts', 'SDK/MDK']\n",
    "title = 'Special Downloads (.iso files and local vendor part libraries)'\n",
    "draw_line_chart(table, items, title)"
   ]
  },
  {
   "cell_type": "markdown",
   "metadata": {
    "button": false,
    "new_sheet": false,
    "run_control": {
     "read_only": false
    }
   },
   "source": [
    "Starting in Q3 2017 we moved the special documents like the quick reference guides to the KnowledgeBase so we no longer have download statistics on these."
   ]
  }
 ],
 "metadata": {
  "kernelspec": {
   "display_name": "Python 3",
   "language": "python",
   "name": "python3"
  },
  "language_info": {
   "codemirror_mode": {
    "name": "ipython",
    "version": 3
   },
   "file_extension": ".py",
   "mimetype": "text/x-python",
   "name": "python",
   "nbconvert_exporter": "python",
   "pygments_lexer": "ipython3",
   "version": "3.4.1"
  }
 },
 "nbformat": 4,
 "nbformat_minor": 1
}
