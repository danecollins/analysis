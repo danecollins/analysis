{
 "cells": [
  {
   "cell_type": "markdown",
   "metadata": {},
   "source": [
    "# Analysis of EMSight usage in telemetry data\n",
    "\n",
    "## Setup\n",
    "\n",
    "Please skip to **Filtering Data**"
   ]
  },
  {
   "cell_type": "code",
   "execution_count": 1,
   "metadata": {
    "collapsed": true
   },
   "outputs": [],
   "source": [
    "# setup\n",
    "%matplotlib inline\n",
    "import matplotlib.pyplot as plt\n",
    "import numpy as np\n",
    "import pandas as pd\n",
    "import datetime\n",
    "from helper import *"
   ]
  },
  {
   "cell_type": "code",
   "execution_count": 2,
   "metadata": {},
   "outputs": [
    {
     "name": "stdout",
     "output_type": "stream",
     "text": [
      "There are 78,682 sessions from 2016-09-15 to 2017-05-25\n"
     ]
    }
   ],
   "source": [
    "# read in the data\n",
    "df = pd.read_csv('../data/sdf_featured.csv')\n",
    "data_range(df)"
   ]
  },
  {
   "cell_type": "code",
   "execution_count": 3,
   "metadata": {},
   "outputs": [
    {
     "data": {
      "text/plain": [
       "Index(['session_id', 'buildnum', 'guid', 'instid', 'sess_user', 'company',\n",
       "       'serial_num', 'created_time', 'has_commands', 'user_type', 'user_id',\n",
       "       'disp_name', 'iu_name', 'custid', 'runtime', 'state', 'start_user',\n",
       "       'proj_name', 'auto_proj', 'ele_created_n', 'commands_n', 'no_sim_b',\n",
       "       'lin_sim_n', 'nonlin_sim_n', 'HB_legacy_b', 'HB_aplac_b', 'transient_b',\n",
       "       'em_sim_b', 'load_pull_b', 'xmodels_b', 'ems_highcnt_b', 'ems_doc_b',\n",
       "       'ems_sim_n', 'vss_doc_b', 'vss_sim_n', 'vss_rfi_b', 'vss_rfb_b',\n",
       "       'vss_rfp_b', 'xem_sim_n', 'xem_doc_b', 'ana_sim_n', 'ana_doc_b',\n",
       "       'tuning_b', 'optim_b', 'yield_b', 'extract_b', 'measurements_n',\n",
       "       'lin_noise_b', 'osc_b', 'stability_b', 'cell_stretchers_b', 'antenna_b',\n",
       "       'ifilter_b', 'symbol_gen_b', 'board_import_b', 'scripts_b',\n",
       "       'script_ide_b', 'layout_b', 'gen_poly_b', 'pdk_b', 'layout_checks_b',\n",
       "       'enable_disable_b', 'markers_b', 'freeze_traces_b', 'schematic_eq_b',\n",
       "       'output_eq_b', 'add_mwo_elem_b', 'add_vss_elem_b', 'add_sim_doc_b',\n",
       "       'add_measurement_b'],\n",
       "      dtype='object')"
      ]
     },
     "execution_count": 3,
     "metadata": {},
     "output_type": "execute_result"
    }
   ],
   "source": [
    "df.columns"
   ]
  },
  {
   "cell_type": "markdown",
   "metadata": {},
   "source": [
    "## Filtering Data\n",
    "\n",
    "Not all data is important in performing this analysis.  We will exclude:\n",
    "\n",
    "* Data from internal users\n",
    "* Simulations using our examples that use EMSight\n",
    "* Sessions that do not have EMSight simulations"
   ]
  },
  {
   "cell_type": "code",
   "execution_count": 5,
   "metadata": {},
   "outputs": [
    {
     "name": "stdout",
     "output_type": "stream",
     "text": [
      "Number of sessions with an EMSight document or simulation is 791 out of 73863 external sessions.\n"
     ]
    }
   ],
   "source": [
    "# filter by build, external, emsight as applicable\n",
    "excl_beta = df.buildnum==8316\n",
    "external = df.user_type != 'internal'\n",
    "emsight = ((df.ems_doc_b == 1 ) | (df.ems_sim_n > 0))\n",
    "excl_ex = df.auto_proj != False\n",
    "\n",
    "ext = df[external & excl_ex]\n",
    "ems = df[external & emsight & excl_ex]  # change emsight to emsight & excl_beta to see only production builds\n",
    "print('Number of sessions with an EMSight document or simulation is {} out of {} external sessions.'.format(len(ems), len(ext)))"
   ]
  },
  {
   "cell_type": "markdown",
   "metadata": {},
   "source": [
    "## Users\n",
    "\n",
    "Rather than counting on the username produced in the start table, the telemetry system tries to identify unique users by combining other information such as machine and company to combine users with multiple user names.  This gives a more reliable user count."
   ]
  },
  {
   "cell_type": "code",
   "execution_count": 6,
   "metadata": {},
   "outputs": [
    {
     "name": "stdout",
     "output_type": "stream",
     "text": [
      "cnt  Company, User\n",
      " 75 - PoweRFul Microwave, Dominic Fitzpatric at PoweRFul\n",
      " 64 - AMCOM Communications, Amin Ezzeddine @ AMCOM\n",
      " 58 - Gigacom, Inc., Randy Bell\n",
      " 48 - AGH University of Science and Technology, Ilona Piekarz\n",
      " 29 - Wide Band Systems, Inc., Mark Stanley\n",
      " 24 - IBM Corp - TJ Watson Research Center, Salvatore Olivandese @ IBM\n",
      " 24 - Filtronic Broadband Ltd., Martin Holroyd @ Filtronic\n",
      " 21 - AGH University of Science and Technology, Jakub Sorocki\n",
      " 20 - University of Colorado at Boulder - Department of Electrical Engineering, Maxime Malnou\n",
      " 19 - Mercury Systems, Inc. - Corporate Headquarters, Jeff Miner @ Mercury\n",
      " 17 - Space Exploration Technologies Corporation (SpaceX), Daniel Meinzer at SpaceX\n",
      " 16 - Friends, nan\n",
      " 16 - University of Guanajuato, Gustavo Vallejo\n",
      " 14 - AR RF/Microwave Instrumentation, Gene Akin @ AR\n",
      " 13 - Virginia Tech, Kanika Saini\n",
      " 13 - Ecole SupÃ©rieure des Technologies Electronique Informatique Infographie (ESTEI), LAPORTE Martin\n",
      " 12 - Cree, Inc. - Research Triangle Park Technology Center, nan\n",
      " 11 - Phil Jobson Consulting, nan\n",
      " 10 - California Institute of Technology (Caltech) - Electrical Engineering Department, Stephen Smith\n",
      " 10 - Ecole SupÃ©rieure des Technologies Electronique Informatique Infographie (ESTEI), antoine martin\n",
      " 10 - Universidad de Chile, David Monasterio\n",
      " 10 - Agile Microwave Technology Inc, nan\n",
      "  9 - Linearizer Technology, Inc., nan\n",
      "  9 - Microwave Solutions Ltd, Dave Glynn\n",
      "  8 - Radiocomp, LLC, nan\n",
      "  8 - Vihaan Networks Limited (VNL), nan\n",
      "  8 - US Naval Research Laboratory, Sanghoon Shin, Ph.D.\n",
      "  7 - University of New Haven, Harissou Biao\n",
      "  7 - Aeye, Ted Dudziak\n",
      "  7 - SAAB Grintek Defence (PTY) Ltd., nan\n",
      "  6 - Midwest Microwave Solutions Inc., nan\n",
      "  6 - California Institute of Technology (Caltech) - Electrical Engineering Department, Sander Weinreb\n",
      "  6 - Filtronic Broadband Ltd., nan\n",
      "  6 - Texas Tech University - Department of Electrical and Computer Engineering, Michael Gresham\n"
     ]
    }
   ],
   "source": [
    "# Let's look at each user that's used emsight by session count (those > 5 sessions)\n",
    "large_users = ems.user_id.value_counts()\n",
    "print('cnt  Company, User')\n",
    "for user_id, count in large_users[large_users > 5].iteritems():\n",
    "    n, c = get_name_and_company(ems, user_id)\n",
    "    print('{:3d} - {}, {}'.format(count, c, n))"
   ]
  },
  {
   "cell_type": "markdown",
   "metadata": {},
   "source": [
    "Unfortunately this only tells part of the story because EMSight is also used by XModels.  Let's if these users also use XModels and Axiem."
   ]
  },
  {
   "cell_type": "code",
   "execution_count": 8,
   "metadata": {},
   "outputs": [
    {
     "name": "stdout",
     "output_type": "stream",
     "text": [
      "75 sessions for \"PoweRFul Microwave\" - Dominic Fitzpatric at PoweRFul\n",
      "    ems_sim_n - 2719.0\n",
      "    ems_doc_b - 0.0\n",
      "    xmodels_b - 75.0\n",
      "    ems_highcnt_b - 4.0\n",
      "    xem_doc_b - 0.0\n",
      "    xem_sim_n - 4190.0\n",
      "17 sessions for \"Space Exploration Technologies Corporation (SpaceX)\" - Daniel Meinzer at SpaceX\n",
      "    ems_sim_n - 160.0\n",
      "    ems_doc_b - 1.0\n",
      "    xmodels_b - 13.0\n",
      "    ems_highcnt_b - 0.0\n",
      "    xem_doc_b - 0.0\n",
      "    xem_sim_n - 0.0\n",
      "19 sessions for \"Mercury Systems, Inc. - Corporate Headquarters\" - Jeff Miner @ Mercury\n",
      "    ems_sim_n - 2100.0\n",
      "    ems_doc_b - 1.0\n",
      "    xmodels_b - 19.0\n",
      "    ems_highcnt_b - 1.0\n",
      "    xem_doc_b - 0.0\n",
      "    xem_sim_n - 0.0\n",
      "29 sessions for \"Wide Band Systems, Inc.\" - Mark Stanley\n",
      "    ems_sim_n - 101.0\n",
      "    ems_doc_b - 0.0\n",
      "    xmodels_b - 0.0\n",
      "    ems_highcnt_b - 0.0\n",
      "    xem_doc_b - 2.0\n",
      "    xem_sim_n - 9.0\n",
      "10 sessions for \"Agile Microwave Technology Inc\" - nan\n",
      "    ems_sim_n - 20.0\n",
      "    ems_doc_b - 0.0\n",
      "    xmodels_b - 9.0\n",
      "    ems_highcnt_b - 0.0\n",
      "    xem_doc_b - 0.0\n",
      "    xem_sim_n - 0.0\n",
      "21 sessions for \"AGH University of Science and Technology\" - Jakub Sorocki\n",
      "    ems_sim_n - 219.0\n",
      "    ems_doc_b - 1.0\n",
      "    xmodels_b - 0.0\n",
      "    ems_highcnt_b - 0.0\n",
      "    xem_doc_b - 0.0\n",
      "    xem_sim_n - 44.0\n",
      "24 sessions for \"IBM Corp - TJ Watson Research Center\" - Salvatore Olivandese @ IBM\n",
      "    ems_sim_n - 7913.0\n",
      "    ems_doc_b - 0.0\n",
      "    xmodels_b - 24.0\n",
      "    ems_highcnt_b - 5.0\n",
      "    xem_doc_b - 0.0\n",
      "    xem_sim_n - 305.0\n",
      "24 sessions for \"Filtronic Broadband Ltd.\" - Martin Holroyd @ Filtronic\n",
      "    ems_sim_n - 556.0\n",
      "    ems_doc_b - 1.0\n",
      "    xmodels_b - 0.0\n",
      "    ems_highcnt_b - 0.0\n",
      "    xem_doc_b - 0.0\n",
      "    xem_sim_n - 0.0\n",
      "20 sessions for \"University of Colorado at Boulder - Department of Electrical Engineering\" - Maxime Malnou\n",
      "    ems_sim_n - 473.0\n",
      "    ems_doc_b - 1.0\n",
      "    xmodels_b - 19.0\n",
      "    ems_highcnt_b - 2.0\n",
      "    xem_doc_b - 3.0\n",
      "    xem_sim_n - 569.0\n",
      "10 sessions for \"Ecole SupÃ©rieure des Technologies Electronique Informatique Infographie (ESTEI)\" - antoine martin\n",
      "    ems_sim_n - 40.0\n",
      "    ems_doc_b - 0.0\n",
      "    xmodels_b - 0.0\n",
      "    ems_highcnt_b - 0.0\n",
      "    xem_doc_b - 0.0\n",
      "    xem_sim_n - 0.0\n",
      "13 sessions for \"Ecole SupÃ©rieure des Technologies Electronique Informatique Infographie (ESTEI)\" - LAPORTE Martin\n",
      "    ems_sim_n - 34.0\n",
      "    ems_doc_b - 0.0\n",
      "    xmodels_b - 0.0\n",
      "    ems_highcnt_b - 0.0\n",
      "    xem_doc_b - 0.0\n",
      "    xem_sim_n - 0.0\n",
      "64 sessions for \"AMCOM Communications\" - Amin Ezzeddine @ AMCOM\n",
      "    ems_sim_n - 69.0\n",
      "    ems_doc_b - 0.0\n",
      "    xmodels_b - 36.0\n",
      "    ems_highcnt_b - 0.0\n",
      "    xem_doc_b - 0.0\n",
      "    xem_sim_n - 0.0\n",
      "16 sessions for \"University of Guanajuato\" - Gustavo Vallejo\n",
      "    ems_sim_n - 69.0\n",
      "    ems_doc_b - 7.0\n",
      "    xmodels_b - 1.0\n",
      "    ems_highcnt_b - 0.0\n",
      "    xem_doc_b - 0.0\n",
      "    xem_sim_n - 0.0\n",
      "7 sessions for \"University of New Haven\" - Harissou Biao\n",
      "    ems_sim_n - 13.0\n",
      "    ems_doc_b - 7.0\n",
      "    xmodels_b - 0.0\n",
      "    ems_highcnt_b - 0.0\n",
      "    xem_doc_b - 4.0\n",
      "    xem_sim_n - 23.0\n",
      "8 sessions for \"Radiocomp, LLC\" - nan\n",
      "    ems_sim_n - 9.0\n",
      "    ems_doc_b - 5.0\n",
      "    xmodels_b - 0.0\n",
      "    ems_highcnt_b - 0.0\n",
      "    xem_doc_b - 0.0\n",
      "    xem_sim_n - 0.0\n",
      "7 sessions for \"SAAB Grintek Defence (PTY) Ltd.\" - nan\n",
      "    ems_sim_n - 7.0\n",
      "    ems_doc_b - 0.0\n",
      "    xmodels_b - 7.0\n",
      "    ems_highcnt_b - 0.0\n",
      "    xem_doc_b - 0.0\n",
      "    xem_sim_n - 0.0\n",
      "14 sessions for \"AR RF/Microwave Instrumentation\" - Gene Akin @ AR\n",
      "    ems_sim_n - 81.0\n",
      "    ems_doc_b - 0.0\n",
      "    xmodels_b - 0.0\n",
      "    ems_highcnt_b - 0.0\n",
      "    xem_doc_b - 0.0\n",
      "    xem_sim_n - 14.0\n",
      "6 sessions for \"Filtronic Broadband Ltd.\" - nan\n",
      "    ems_sim_n - 167.0\n",
      "    ems_doc_b - 0.0\n",
      "    xmodels_b - 1.0\n",
      "    ems_highcnt_b - 1.0\n",
      "    xem_doc_b - 0.0\n",
      "    xem_sim_n - 0.0\n",
      "16 sessions for \"Friends\" - nan\n",
      "    ems_sim_n - 6773.0\n",
      "    ems_doc_b - 0.0\n",
      "    xmodels_b - 12.0\n",
      "    ems_highcnt_b - 3.0\n",
      "    xem_doc_b - 0.0\n",
      "    xem_sim_n - 0.0\n",
      "9 sessions for \"Linearizer Technology, Inc.\" - nan\n",
      "    ems_sim_n - 166.0\n",
      "    ems_doc_b - 1.0\n",
      "    xmodels_b - 9.0\n",
      "    ems_highcnt_b - 0.0\n",
      "    xem_doc_b - 0.0\n",
      "    xem_sim_n - 0.0\n",
      "6 sessions for \"Texas Tech University - Department of Electrical and Computer Engineering\" - Michael Gresham\n",
      "    ems_sim_n - 22.0\n",
      "    ems_doc_b - 1.0\n",
      "    xmodels_b - 0.0\n",
      "    ems_highcnt_b - 0.0\n",
      "    xem_doc_b - 0.0\n",
      "    xem_sim_n - 0.0\n",
      "10 sessions for \"Universidad de Chile\" - David Monasterio\n",
      "    ems_sim_n - 17.0\n",
      "    ems_doc_b - 2.0\n",
      "    xmodels_b - 4.0\n",
      "    ems_highcnt_b - 0.0\n",
      "    xem_doc_b - 3.0\n",
      "    xem_sim_n - 17.0\n",
      "58 sessions for \"Gigacom, Inc.\" - Randy Bell\n",
      "    ems_sim_n - 114.0\n",
      "    ems_doc_b - 0.0\n",
      "    xmodels_b - 6.0\n",
      "    ems_highcnt_b - 0.0\n",
      "    xem_doc_b - 1.0\n",
      "    xem_sim_n - 136.0\n",
      "12 sessions for \"Cree, Inc. - Research Triangle Park Technology Center\" - nan\n",
      "    ems_sim_n - 508.0\n",
      "    ems_doc_b - 0.0\n",
      "    xmodels_b - 11.0\n",
      "    ems_highcnt_b - 1.0\n",
      "    xem_doc_b - 3.0\n",
      "    xem_sim_n - 11.0\n",
      "8 sessions for \"US Naval Research Laboratory\" - Sanghoon Shin, Ph.D.\n",
      "    ems_sim_n - 9988.0\n",
      "    ems_doc_b - 4.0\n",
      "    xmodels_b - 4.0\n",
      "    ems_highcnt_b - 2.0\n",
      "    xem_doc_b - 2.0\n",
      "    xem_sim_n - 22.0\n",
      "6 sessions for \"California Institute of Technology (Caltech) - Electrical Engineering Department\" - Sander Weinreb\n",
      "    ems_sim_n - 2036.0\n",
      "    ems_doc_b - 0.0\n",
      "    xmodels_b - 6.0\n",
      "    ems_highcnt_b - 2.0\n",
      "    xem_doc_b - 0.0\n",
      "    xem_sim_n - 0.0\n",
      "13 sessions for \"Virginia Tech\" - Kanika Saini\n",
      "    ems_sim_n - 98.0\n",
      "    ems_doc_b - 0.0\n",
      "    xmodels_b - 0.0\n",
      "    ems_highcnt_b - 0.0\n",
      "    xem_doc_b - 0.0\n",
      "    xem_sim_n - 0.0\n",
      "7 sessions for \"Aeye\" - Ted Dudziak\n",
      "    ems_sim_n - 391.0\n",
      "    ems_doc_b - 0.0\n",
      "    xmodels_b - 7.0\n",
      "    ems_highcnt_b - 1.0\n",
      "    xem_doc_b - 0.0\n",
      "    xem_sim_n - 0.0\n",
      "10 sessions for \"California Institute of Technology (Caltech) - Electrical Engineering Department\" - Stephen Smith\n",
      "    ems_sim_n - 1979.0\n",
      "    ems_doc_b - 0.0\n",
      "    xmodels_b - 10.0\n",
      "    ems_highcnt_b - 1.0\n",
      "    xem_doc_b - 0.0\n",
      "    xem_sim_n - 0.0\n",
      "6 sessions for \"Midwest Microwave Solutions Inc.\" - nan\n",
      "    ems_sim_n - 8.0\n",
      "    ems_doc_b - 1.0\n",
      "    xmodels_b - 6.0\n",
      "    ems_highcnt_b - 0.0\n",
      "    xem_doc_b - 0.0\n",
      "    xem_sim_n - 0.0\n",
      "11 sessions for \"Phil Jobson Consulting\" - nan\n",
      "    ems_sim_n - 86.0\n",
      "    ems_doc_b - 0.0\n",
      "    xmodels_b - 0.0\n",
      "    ems_highcnt_b - 0.0\n",
      "    xem_doc_b - 0.0\n",
      "    xem_sim_n - 32.0\n",
      "8 sessions for \"Vihaan Networks Limited (VNL)\" - nan\n",
      "    ems_sim_n - 27501.0\n",
      "    ems_doc_b - 0.0\n",
      "    xmodels_b - 8.0\n",
      "    ems_highcnt_b - 4.0\n",
      "    xem_doc_b - 0.0\n",
      "    xem_sim_n - 0.0\n",
      "48 sessions for \"AGH University of Science and Technology\" - Ilona Piekarz\n",
      "    ems_sim_n - 608.0\n",
      "    ems_doc_b - 1.0\n",
      "    xmodels_b - 0.0\n",
      "    ems_highcnt_b - 0.0\n",
      "    xem_doc_b - 1.0\n",
      "    xem_sim_n - 114.0\n",
      "9 sessions for \"Microwave Solutions Ltd\" - Dave Glynn\n",
      "    ems_sim_n - 35.0\n",
      "    ems_doc_b - 0.0\n",
      "    xmodels_b - 0.0\n",
      "    ems_highcnt_b - 0.0\n",
      "    xem_doc_b - 0.0\n",
      "    xem_sim_n - 0.0\n"
     ]
    }
   ],
   "source": [
    "for uid, grp_df in ems.groupby('user_id'):\n",
    "    if len(grp_df) > 5:\n",
    "        n, c = get_name_and_company(ems, uid)\n",
    "        print('{} sessions for \"{}\" - {}'.format(len(grp_df), c, n))\n",
    "        for col in ['ems_sim_n', 'ems_doc_b', 'xmodels_b', 'ems_highcnt_b', 'xem_doc_b', 'xem_sim_n']:\n",
    "            print('    {} - {}'.format(col, grp_df[col].sum()))\n",
    "    "
   ]
  },
  {
   "cell_type": "markdown",
   "metadata": {},
   "source": [
    "## Conclusion on EMSight Use\n",
    "\n",
    "**CAVEAT**: we have to remember that only 40% of customer sessions are sending telemetry so this is an incomplete analysis.  It is not clear whether we can just scale these results to the wider audience.\n",
    "\n",
    "Looking at the data, 2 of these users, Dominic and Salvatore) show all sessions containing XModels and several sessions with a large number of EMSight simulations (>50) which is very indicative of XModel use rather than using EMSight as their EM simulator.  These users also show many Axiem simulations which is re-enforces the idea that EMSight is just being used for Xmodels.  In digging into it, Meinzer at SpaceX is also only using EMSight for XModels.\n",
    "\n",
    "Agile microwave is an interesting case.  They have 10 sessions, all with exactly 2 simulations in EMSight.\n",
    "\n",
    "Mark Stanley at Wide Band is the one user that is definitely using EMSight.\n",
    "\n"
   ]
  },
  {
   "cell_type": "markdown",
   "metadata": {},
   "source": [
    "## XModels\n",
    "\n",
    "Just to close the loop let us look at the number of sessions and users that use XModels, regardless of whether they have used EMSight to fill tables."
   ]
  },
  {
   "cell_type": "code",
   "execution_count": 11,
   "metadata": {},
   "outputs": [
    {
     "data": {
      "text/plain": [
       "7624.0"
      ]
     },
     "execution_count": 11,
     "metadata": {},
     "output_type": "execute_result"
    }
   ],
   "source": [
    "ext.xmodels_b.sum()"
   ]
  },
  {
   "cell_type": "code",
   "execution_count": 12,
   "metadata": {
    "scrolled": true
   },
   "outputs": [
    {
     "name": "stdout",
     "output_type": "stream",
     "text": [
      "Out of 73,863 external sessions, 7,624 (10%) of them contain XModels\n"
     ]
    }
   ],
   "source": [
    "print('Out of {:,} external sessions, {:,.0f} ({:2.0f}%) of them contain XModels'.format(len(ext), \n",
    "                                                                                  ext.xmodels_b.sum(), \n",
    "                                                                                  100*ext.xmodels_b.sum()/len(ext)))"
   ]
  },
  {
   "cell_type": "markdown",
   "metadata": {},
   "source": [
    "Let's take a look at the biggest XModel users.  This list is the number of sessions per user that use XModels.  This only shows those with more than 20 sessions.  Note, sessions using our examples is excluded in this."
   ]
  },
  {
   "cell_type": "code",
   "execution_count": 14,
   "metadata": {},
   "outputs": [
    {
     "name": "stdout",
     "output_type": "stream",
     "text": [
      "cnt  Company, User\n",
      "334 - Cobham Sensor Systems - TX, Robert Flynt @ Cobham\n",
      "283 - Qorvo, Inc. - TX Government, Gary Burgin at Qorvo\n",
      "278 - Mitsubishi Electric Co., Ltd. - HF & Optical Device Works, HF Device Department, Kanaya Ko at Mitsubishi\n",
      "216 - Ivan Boshnakov, Ivan Boshnakov Consultant\n",
      "211 - Cobham SATCOM, nan\n",
      "201 - Advanced Semiconductor Business, Inc. (ASB), user6 @ ASB\n",
      "199 - Cobham, Morten Hagensen, Ioannis Nissopoulos\n",
      "184 - Analog Devices - Chelmsford, nan\n",
      "173 - Friends, nan\n",
      "140 - AMCOM Communications, Amin Ezzeddine @ AMCOM\n",
      "136 - PoweRFul Microwave, Dominic Fitzpatric at PoweRFul\n",
      "128 - Qorvo, Inc. - TX IDP, csanabria @ Qorvo TX\n",
      "125 - MACOM Technology Solutions - AU, MAU59429 @ MA-COM\n",
      "113 - (unknown), Suresh Ojha\n",
      " 98 - Skyware Global, Andrew McGregor\n",
      " 97 - Advanced Semiconductor Business, Inc. (ASB), user5 @ ASB\n",
      " 94 - Mercury Systems, Inc. - Corporate Headquarters, Jeff Miner @ Mercury\n",
      " 90 - Active Wave Technology, David Farkas @ Active Wave\n",
      " 84 - Ericsson AB - Kista (WWserver), nan\n",
      " 83 - Nuhertz Technologies, LLC, Jeff Kahler\n",
      " 82 - Cobham Sensor Systems - TX, Brian Dillaman @ Cobham\n",
      " 78 - Istanbul Technical University - Faculty of Electrical and Electronic Engineering, Deniz ---\n",
      " 77 - Cree, Inc. - Research Triangle Park Technology Center, nan\n",
      " 66 - WorldCast Systems, Inc., Frederic Navarro at WorldCast\n",
      " 66 - SAAB Grintek Defence (PTY) Ltd., nan\n",
      " 64 - University of Technology Dresden, Martin Laabs\n",
      " 58 - James Cook University - The College of Science, Technology and Engineering, Alan Liang\n",
      " 58 - Universidad Politecnica de Valencia, Guillem Peris Cuesta\n",
      " 58 - Samsung Electronics Co., Ltd., nan\n",
      " 56 - Nokia Corporation, nan\n",
      " 55 - Kwangwoon University, bukheung Yoo\n",
      " 54 - University of Colorado at Boulder - Department of Electrical Engineering, Maxime Malnou\n",
      " 53 - Skyware Technologies UK Ltd., Peter Binns @ Skyware\n",
      " 52 - Ericsson AB - Kista (WWserver), nan\n",
      " 52 - Syrlinks, Simon Mener @ Syrlinks\n",
      " 51 - Modelithics, Inc, Isabella Bedford @ Modelithics\n",
      " 50 - James Cook University - The College of Science, Technology and Engineering, Oliver May\n",
      " 48 - University of Liverpool, Anqi Chen\n",
      " 47 - Weizmann insitute, Meir Alon\n",
      " 46 - Cree, Inc. - Research Triangle Park Technology Center, nan\n",
      " 46 - US Naval Research Laboratory, Sanghoon Shin, Ph.D.\n",
      " 45 - Midwest Microwave Solutions Inc., nan\n",
      " 45 - Rockwell Collins - Collins Road, CG Xie @ Rockwell\n",
      " 44 - Mercury Systems, Inc. - Corporate Headquarters, Dylan Hensley @ Mercury\n",
      " 43 - Ericsson AB - Kista (WWserver), nan\n",
      " 41 - Sonnet Software, Inc. - NY, shegde @ Sonnet\n",
      " 41 - IBM Corp - TJ Watson Research Center, Salvatore Olivandese @ IBM\n",
      " 40 - Microkim, Hanan Friedman\n",
      " 39 - Friends, nan\n",
      " 39 - KMW, Inc. - Head Office, nan\n",
      " 38 - GigaLane, Kwan-jin Oh @ Gigalane\n",
      " 38 - National Instruments - Santa Rosa, Brian Avenell at NISR\n",
      " 37 - Ericsson AB - Kista (WWserver), nan\n",
      " 36 - Boeing Satellite Systems - Phoenix, zk890c @ Boeing\n",
      " 35 - Qorvo, Inc. - TX Government, Luis Ledezma @ Qorvo\n",
      " 34 - Ericsson AB - Kista (WWserver), liangxie yao @ Ericsson\n",
      " 32 - James Cook University - The College of Science, Technology and Engineering, Zane Cahill\n",
      " 32 - Universidad Politecnica De Madrid (UPM) - Escuela Universitaria de IngenierÃ­a TÃ©cnica de TelecomunicaciÃ³n (EUITT), nan\n",
      " 31 - Capitol Technology University, Keenan Johnson\n",
      " 31 - Commtact, Vadim Peker\n",
      " 31 - Universidad Politecnica De Madrid (UPM) - Escuela Universitaria de IngenierÃ­a TÃ©cnica de TelecomunicaciÃ³n (EUITT), nan\n",
      " 31 - Ericsson AB - Kista (WWserver), Ericsson missing starts\n",
      " 31 - AAC Technologies Pte. Ltd., Denz Choe @ AAC Tech\n",
      " 30 - Rockwell Collins - Collins Road, nan\n",
      " 30 - Filtronic Wireless Ltd., asanadi @ Filtronic Wireless\n",
      " 30 - Universidad de Concepcion, Pablo Cartes\n",
      " 29 - Mercury Systems, Inc. - Corporate Headquarters, Mercury missing starts\n",
      " 29 - University of Technology Dresden, Martin Laabs\n",
      " 29 - Samsung Electronics Co., Ltd., nan\n",
      " 29 - Istanbul Technical University - Faculty of Electrical and Electronic Engineering, Emrecan GIDIK\n",
      " 29 - California Institute of Technology (Caltech) - Electrical Engineering Department, Eun Jong Kim\n",
      " 28 - California Institute of Technology (Caltech) - Electrical Engineering Department, Hyounghan Kwon\n",
      " 28 - Mercury Systems, Inc. - Corporate Headquarters, Kyl;e Roseberry @ Mercury\n",
      " 27 - Ericsson AB - Kista (WWserver), nan\n",
      " 27 - Mercury Systems, Inc. - Corporate Headquarters, Adnan Zaloglu @ Mercury\n",
      " 26 - Mercury Systems, Inc. - Corporate Headquarters, Frank Leonardo @ Mercury\n",
      " 26 - Utsunomiya University, nan\n",
      " 26 - University of Oklahoma, Phousana Malilay\n",
      " 26 - Futurewei Technologies, Inc. - dba Huawei Technologies, Inc. (USA), Michael Russo @ Futurewei\n",
      " 25 - Instituto Federal de Educacao, Ciencia e Tecnologia da Paraiba - IFPB, Erik Farias Silva\n",
      " 25 - Space Exploration Technologies Corporation (SpaceX), Daniel Meinzer at SpaceX\n",
      " 25 - Space Systems Loral - MDA, nan\n",
      " 22 - Qorvo, Inc. - TX Government, Mike Roberg at Qorvo\n",
      " 22 - National Institute of Nuclear Physics (INFN) - Bologna, nan\n",
      " 21 - Exodus Advanced Communications, nan\n",
      " 21 - Commtact LTD, Oleg Chermoshniuk\n"
     ]
    }
   ],
   "source": [
    "xmod = ext[ext.xmodels_b  == 1]\n",
    "large_users = xmod.user_id.value_counts()\n",
    "print('cnt  Company, User')\n",
    "for user_id, count in large_users[large_users > 20].iteritems():\n",
    "    n, c = get_name_and_company(xmod, user_id)\n",
    "    print('{:3d} - {}, {}'.format(count, c, n))"
   ]
  }
 ],
 "metadata": {
  "anaconda-cloud": {},
  "hide_input": false,
  "kernelspec": {
   "display_name": "Python 3",
   "language": "python",
   "name": "python3"
  },
  "language_info": {
   "codemirror_mode": {
    "name": "ipython",
    "version": 3
   },
   "file_extension": ".py",
   "mimetype": "text/x-python",
   "name": "python",
   "nbconvert_exporter": "python",
   "pygments_lexer": "ipython3",
   "version": "3.6.5"
  }
 },
 "nbformat": 4,
 "nbformat_minor": 1
}
