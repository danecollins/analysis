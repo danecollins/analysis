{
 "cells": [
  {
   "cell_type": "markdown",
   "metadata": {},
   "source": [
    "# Analyzing VSS in Universities\n",
    "\n",
    "This notebook analyzes the use of VSS in academia.\n",
    "\n",
    "From Mark:\n",
    "\n",
    ">We think that academic VSS usage is heavily weighted toward RFB/RFI,so it would be >helpful if we could get a report that compares:\n",
    "> \n",
    ">  - VSS usage vs. MWO usage (what % of academic usage is [any form of] VSS?)\n",
    ">  - RFB/RFI usage vs. VSS time domain usage\n",
    "> \n",
    ">If possible, VSS usage on non-example projects, so either a new,\n",
    ">user-created project or a user-modified example project\n",
    "\n",
    "## Setup the Data"
   ]
  },
  {
   "cell_type": "code",
   "execution_count": 1,
   "metadata": {
    "collapsed": true
   },
   "outputs": [],
   "source": [
    "import sys\n",
    "from datetime import datetime\n",
    "from IPython.display import Markdown as md\n",
    "%matplotlib inline\n",
    "import matplotlib.pyplot as plt\n",
    "import numpy as np\n",
    "import pandas as pd\n",
    "import pylab\n",
    "pylab.rcParams['figure.figsize'] = (12,8)  # set default plot size"
   ]
  },
  {
   "cell_type": "code",
   "execution_count": 2,
   "metadata": {
    "collapsed": false
   },
   "outputs": [
    {
     "name": "stdout",
     "output_type": "stream",
     "text": [
      "Total sessions = 992414\n",
      "Total sessiondata records =  18997239\n"
     ]
    }
   ],
   "source": [
    "data_path = '/data/a/tlm/sessions/'\n",
    "sdf = pd.read_csv(data_path + 'session.csv', encoding='latin1', low_memory=False)\n",
    "print('Total sessions = {}'.format(len(sdf)))\n",
    "sddf = pd.read_csv(data_path + 'sessiondata.csv', low_memory=False)\n",
    "\n",
    "# cleanup things that we don't want to count\n",
    "mask1 = sddf.ident.isin(['SYM2BITS', 'PORT', 'PORT_TN', 'Miscellaneous:Separator'])\n",
    "mask2 = sddf.ident.notnull()\n",
    "sddf = sddf[~mask1 & mask2]\n",
    "print('Total sessiondata records = ', len(sddf))\n",
    "\n",
    "s = dict(academic={}, commercial={})"
   ]
  },
  {
   "cell_type": "code",
   "execution_count": 3,
   "metadata": {
    "collapsed": false
   },
   "outputs": [
    {
     "name": "stdout",
     "output_type": "stream",
     "text": [
      "Number of academic sessions: 217159\n",
      "Academic sessions this semester 30431\n",
      "Sessions with commands 23591\n"
     ]
    }
   ],
   "source": [
    "# get only academics\n",
    "adf = sdf[(sdf.user_type == 'academic') & (sdf.app == 'M')]\n",
    "print('Number of academic sessions:', len(adf))\n",
    "\n",
    "# let's keep only those in this academic semester\n",
    "adf = adf[adf.created_time >= '2018-08-15']\n",
    "print('Academic sessions this semester', len(adf))\n",
    "\n",
    "# remove sessions that have no commands\n",
    "adf = adf[adf.has_commands]\n",
    "print('Sessions with commands', len(adf))\n",
    "s['academic']['Sessions with commands'] = len(adf)"
   ]
  },
  {
   "cell_type": "code",
   "execution_count": 4,
   "metadata": {
    "collapsed": true
   },
   "outputs": [],
   "source": [
    "# convert create time from string to datetime\n",
    "adf['created_time'] = pd.to_datetime(adf.created_time)\n",
    "# add week\n",
    "adf['week'] = adf.created_time.apply(lambda x: (x.year - 2010) * 100 + int(x.strftime('%U')))\n",
    "\n",
    "# add user-week\n",
    "adf['user_week'] = adf.user_id * 1000 + adf.week\n",
    "\n",
    "# cleanup columns\n",
    "to_drop = ['has_commands', 'user_type', 'custid', 'runtime', 'state', 'auto_proj',\n",
    "           'guid', 'instid', 'app', 'start_user', 'iu_name', 'created_time']\n",
    "adf = adf.drop(to_drop, axis=1)"
   ]
  },
  {
   "cell_type": "code",
   "execution_count": 5,
   "metadata": {
    "collapsed": true
   },
   "outputs": [],
   "source": [
    "# cleanup sddf columns\n",
    "sddf.drop(['id', 'opncnt'], axis=1, inplace=True)"
   ]
  },
  {
   "cell_type": "code",
   "execution_count": 6,
   "metadata": {
    "collapsed": false
   },
   "outputs": [
    {
     "data": {
      "text/plain": [
       "510199"
      ]
     },
     "execution_count": 6,
     "metadata": {},
     "output_type": "execute_result"
    }
   ],
   "source": [
    "# merge sdf and sddf\n",
    "df = pd.merge(adf, sddf, on='session_id')\n",
    "len(df)"
   ]
  },
  {
   "cell_type": "markdown",
   "metadata": {},
   "source": [
    "## Define what we are looking for\n",
    "\n",
    "In this section we will define the used features that we are looking for in each user."
   ]
  },
  {
   "cell_type": "code",
   "execution_count": 7,
   "metadata": {
    "collapsed": true
   },
   "outputs": [],
   "source": [
    "def placed_vss_element(udf):\n",
    "    mask1 = udf.newcnt > 0\n",
    "    mask2 = udf.category == 'VSSElement'\n",
    "    return 1 if len(udf[mask1 & mask2]) > 0 else 0"
   ]
  },
  {
   "cell_type": "code",
   "execution_count": 8,
   "metadata": {
    "collapsed": true
   },
   "outputs": [],
   "source": [
    "def placed_mwo_element(udf):\n",
    "    mask1 = udf.newcnt > 0\n",
    "    mask2 = udf.category == 'MWOElement'\n",
    "    return 1 if len(udf[mask1 & mask2]) > 0 else 0"
   ]
  },
  {
   "cell_type": "code",
   "execution_count": 9,
   "metadata": {
    "collapsed": true
   },
   "outputs": [],
   "source": [
    "def ran_linear_simulation(udf):\n",
    "    sim_idents = ['LinCktSimAWR', 'Default Linear', 'APLAC Linear']\n",
    "    sim_count = udf[udf.ident.isin(sim_idents)]['count'].sum()\n",
    "    return 1 if (sim_count > 5) else 0"
   ]
  },
  {
   "cell_type": "code",
   "execution_count": 10,
   "metadata": {
    "collapsed": true
   },
   "outputs": [],
   "source": [
    "def ran_vss_simulation(udf):\n",
    "    sim_idents = ['VSS Time Domain']\n",
    "    sim_count = udf[udf.ident.isin(sim_idents)]['count'].sum()\n",
    "    return 1 if (sim_count > 5) else 0"
   ]
  },
  {
   "cell_type": "code",
   "execution_count": 11,
   "metadata": {
    "collapsed": true
   },
   "outputs": [],
   "source": [
    "def ran_rfb_simulation(udf):\n",
    "    sim_idents = ['VSS RF Budget Analysis']\n",
    "    sim_count = udf[udf.ident.isin(sim_idents)]['count'].sum()\n",
    "    return 1 if (sim_count > 5) else 0"
   ]
  },
  {
   "cell_type": "code",
   "execution_count": 12,
   "metadata": {
    "collapsed": true
   },
   "outputs": [],
   "source": [
    "def ran_rfi_simulation(udf):\n",
    "    sim_idents = ['VSS RF Inspector']\n",
    "    sim_count = udf[udf.ident.isin(sim_idents)]['count'].sum()\n",
    "    return 1 if (sim_count > 5) else 0"
   ]
  },
  {
   "cell_type": "markdown",
   "metadata": {},
   "source": [
    "### Filter out the simulations that are based on example projects"
   ]
  },
  {
   "cell_type": "code",
   "execution_count": 13,
   "metadata": {
    "collapsed": true
   },
   "outputs": [],
   "source": [
    "df_noex = df[df.proj_name.isnull()]"
   ]
  },
  {
   "cell_type": "code",
   "execution_count": 14,
   "metadata": {
    "collapsed": true
   },
   "outputs": [],
   "source": [
    "v = 0\n",
    "m = 0\n",
    "users = set()\n",
    "for uid, udf in df_noex.groupby('user_id'):\n",
    "    rv = placed_vss_element(udf)\n",
    "    v += rv\n",
    "    rm = placed_mwo_element(udf)\n",
    "    m += rm\n",
    "    if rm or rv:\n",
    "        users.add(uid)\n",
    "    \n",
    "tot_users = len(df_noex.user_id.unique())\n",
    "with_ele = len(users)\n",
    "\n",
    "md(\"\"\"\n",
    "First, let's look at the number of users that have placed elements in a schematic or\n",
    "system diagram. This gives us an indication of creation of a new document and eliminates\n",
    "the people that are just opening documents and running them.\n",
    "\n",
    "* {} users placed an element in a schematic ({}%)\n",
    "* {} users placed an element in a system diagram ({}%)\n",
    "\n",
    "Note there are {} total users and out of those {} has placed an element of either type.\n",
    "\"\"\".format(m, int(round(100*m/tot_users)),\n",
    "           v, int(round(100*v/tot_users)), tot_users, with_ele))\n",
    "s['academic']['Pct users placing schematic element'] = int(round(100*m/tot_users))\n",
    "s['academic']['Pct users placing system element'] = int(round(100*v/tot_users))"
   ]
  },
  {
   "cell_type": "code",
   "execution_count": 15,
   "metadata": {
    "collapsed": true
   },
   "outputs": [],
   "source": [
    "v = 0\n",
    "rfb = 0\n",
    "rfi = 0\n",
    "m = 0\n",
    "for uid, udf in df_noex.groupby('user_id'):\n",
    "    v += ran_vss_simulation(udf)\n",
    "    m += ran_linear_simulation(udf)\n",
    "    rfb += ran_rfb_simulation(udf)\n",
    "    rfi += ran_rfi_simulation(udf)\n",
    "md(\"\"\"\n",
    "Let's look at the number of users that have run simulations and the types\n",
    "of simulations they run.\n",
    "\n",
    "* {} users ran a linear simulation\n",
    "* {} users ran a system simulation\n",
    "* {} users ran an rfi simulation\n",
    "* {} users ran an rfb simulation\n",
    "\"\"\".format(m, v, rfi, rfb))\n",
    "s['academic']['Users linear sim'] = m\n",
    "s['academic']['Users system sim'] = v\n",
    "s['academic']['Users rfi sim'] = rfi\n",
    "s['academic']['Users rfb sim'] = rfb"
   ]
  },
  {
   "cell_type": "markdown",
   "metadata": {},
   "source": [
    "## Comparing to Commercial Customers\n",
    "\n",
    "These numbers seem reasonable but without context it is hard to know if they are good or bad.  Let's look at these same metrics for our commercial customers to get a feel of what these ratios should be."
   ]
  },
  {
   "cell_type": "code",
   "execution_count": 16,
   "metadata": {
    "collapsed": false
   },
   "outputs": [
    {
     "name": "stdout",
     "output_type": "stream",
     "text": [
      "Number of customer sessions: 348880\n",
      "Customer sessions this semester 49911\n",
      "Sessions with commands 39925\n"
     ]
    },
    {
     "data": {
      "text/plain": [
       "964671"
      ]
     },
     "execution_count": 16,
     "metadata": {},
     "output_type": "execute_result"
    }
   ],
   "source": [
    "# get only customers\n",
    "cdf = sdf[(sdf.user_type == 'customer') & (sdf.app == 'M')]\n",
    "print('Number of customer sessions:', len(cdf))\n",
    "\n",
    "# let's keep only those in this academic semester\n",
    "cdf = cdf[cdf.created_time >= '2018-08-15']\n",
    "print('Customer sessions this semester', len(cdf))\n",
    "\n",
    "# remove sessions that have no commands\n",
    "cdf = cdf[cdf.has_commands]\n",
    "print('Sessions with commands', len(cdf))\n",
    "s['commercial']['Sessions with commands'] = len(cdf)\n",
    "\n",
    "# convert create time from string to datetime\n",
    "cdf['created_time'] = pd.to_datetime(cdf.created_time)\n",
    "# add week\n",
    "cdf['week'] = cdf.created_time.apply(lambda x: (x.year - 2010) * 100 + int(x.strftime('%U')))\n",
    "\n",
    "# add user-week\n",
    "cdf['user_week'] = cdf.user_id * 1000 + cdf.week\n",
    "\n",
    "# cleanup columns\n",
    "to_drop = ['has_commands', 'user_type', 'custid', 'runtime', 'state', 'auto_proj',\n",
    "           'guid', 'instid', 'app', 'start_user', 'iu_name', 'created_time']\n",
    "cdf = cdf.drop(to_drop, axis=1)\n",
    "\n",
    "# merge sdf and sddf\n",
    "df = pd.merge(cdf, sddf, on='session_id')\n",
    "len(df)"
   ]
  },
  {
   "cell_type": "code",
   "execution_count": 17,
   "metadata": {
    "collapsed": false
   },
   "outputs": [
    {
     "data": {
      "text/plain": [
       "934250"
      ]
     },
     "execution_count": 17,
     "metadata": {},
     "output_type": "execute_result"
    }
   ],
   "source": [
    "df_noex = df[df.proj_name.isnull()]\n",
    "len(df_noex)"
   ]
  },
  {
   "cell_type": "code",
   "execution_count": 18,
   "metadata": {
    "collapsed": true
   },
   "outputs": [],
   "source": [
    "v = 0\n",
    "m = 0\n",
    "users = set()\n",
    "for uid, udf in df_noex.groupby('user_id'):\n",
    "    rv = placed_vss_element(udf)\n",
    "    v += rv\n",
    "    rm = placed_mwo_element(udf)\n",
    "    m += rm\n",
    "    if rm or rv:\n",
    "        users.add(uid)\n",
    "    \n",
    "tot_users = len(df_noex.user_id.unique())\n",
    "with_ele = len(users)\n",
    "\n",
    "md(\"\"\"\n",
    "First, let's look at the number of users that have placed elements in a schematic or\n",
    "system diagram. This gives us an indication of creation of a new document and eliminates\n",
    "the people that are just opening documents and running them.\n",
    "\n",
    "* {} users placed an element in a schematic ({}%)\n",
    "* {} users placed an element in a system diagram ({}%)\n",
    "\n",
    "Note there are {} total users and out of those {} has placed an element of either type.\n",
    "\"\"\".format(m, int(round(100*m/tot_users)),\n",
    "           v, int(round(100*v/tot_users)), tot_users, with_ele))\n",
    "s['commercial']['Pct users placing schematic element'] = int(round(100*m/tot_users))\n",
    "s['commercial']['Pct users placing system element'] = int(round(100*v/tot_users))"
   ]
  },
  {
   "cell_type": "code",
   "execution_count": 19,
   "metadata": {
    "collapsed": false
   },
   "outputs": [
    {
     "data": {
      "text/markdown": [
       "\n",
       "Let's look at the number of users that have run simulations and the types\n",
       "of simulations they run.\n",
       "\n",
       "* 890 users ran a linear simulation\n",
       "* 35 users ran a system simulation\n",
       "* 16 users ran an rfi simulation\n",
       "* 42 users ran an rfb simulation\n"
      ],
      "text/plain": [
       "<IPython.core.display.Markdown object>"
      ]
     },
     "execution_count": 19,
     "metadata": {},
     "output_type": "execute_result"
    }
   ],
   "source": [
    "v = 0\n",
    "rfb = 0\n",
    "rfi = 0\n",
    "m = 0\n",
    "for uid, udf in df_noex.groupby('user_id'):\n",
    "    v += ran_vss_simulation(udf)\n",
    "    m += ran_linear_simulation(udf)\n",
    "    rfb += ran_rfb_simulation(udf)\n",
    "    rfi += ran_rfi_simulation(udf)\n",
    "\n",
    "s['commercial']['Users linear sim'] = m\n",
    "s['commercial']['Users system sim'] = v\n",
    "s['commercial']['Users rfi sim'] = rfi\n",
    "s['commercial']['Users rfb sim'] = rfb\n",
    "\n",
    "md(\"\"\"\n",
    "Let's look at the number of users that have run simulations and the types\n",
    "of simulations they run.\n",
    "\n",
    "* {} users ran a linear simulation\n",
    "* {} users ran a system simulation\n",
    "* {} users ran an rfi simulation\n",
    "* {} users ran an rfb simulation\n",
    "\"\"\".format(m, v, rfi, rfb))"
   ]
  },
  {
   "cell_type": "code",
   "execution_count": 20,
   "metadata": {
    "collapsed": false
   },
   "outputs": [
    {
     "data": {
      "text/html": [
       "<div>\n",
       "<style scoped>\n",
       "    .dataframe tbody tr th:only-of-type {\n",
       "        vertical-align: middle;\n",
       "    }\n",
       "\n",
       "    .dataframe tbody tr th {\n",
       "        vertical-align: top;\n",
       "    }\n",
       "\n",
       "    .dataframe thead th {\n",
       "        text-align: right;\n",
       "    }\n",
       "</style>\n",
       "<table border=\"1\" class=\"dataframe\">\n",
       "  <thead>\n",
       "    <tr style=\"text-align: right;\">\n",
       "      <th></th>\n",
       "      <th>academic</th>\n",
       "      <th>commercial</th>\n",
       "    </tr>\n",
       "  </thead>\n",
       "  <tbody>\n",
       "    <tr>\n",
       "      <th>Pct users placing schematic element</th>\n",
       "      <td>80</td>\n",
       "      <td>74</td>\n",
       "    </tr>\n",
       "    <tr>\n",
       "      <th>Pct users placing system element</th>\n",
       "      <td>12</td>\n",
       "      <td>7</td>\n",
       "    </tr>\n",
       "    <tr>\n",
       "      <th>Sessions with commands</th>\n",
       "      <td>23591</td>\n",
       "      <td>39925</td>\n",
       "    </tr>\n",
       "    <tr>\n",
       "      <th>Users linear sim</th>\n",
       "      <td>906</td>\n",
       "      <td>890</td>\n",
       "    </tr>\n",
       "    <tr>\n",
       "      <th>Users rfb sim</th>\n",
       "      <td>58</td>\n",
       "      <td>42</td>\n",
       "    </tr>\n",
       "    <tr>\n",
       "      <th>Users rfi sim</th>\n",
       "      <td>15</td>\n",
       "      <td>16</td>\n",
       "    </tr>\n",
       "    <tr>\n",
       "      <th>Users system sim</th>\n",
       "      <td>74</td>\n",
       "      <td>35</td>\n",
       "    </tr>\n",
       "  </tbody>\n",
       "</table>\n",
       "</div>"
      ],
      "text/plain": [
       "                                     academic  commercial\n",
       "Pct users placing schematic element        80          74\n",
       "Pct users placing system element           12           7\n",
       "Sessions with commands                  23591       39925\n",
       "Users linear sim                          906         890\n",
       "Users rfb sim                              58          42\n",
       "Users rfi sim                              15          16\n",
       "Users system sim                           74          35"
      ]
     },
     "execution_count": 20,
     "metadata": {},
     "output_type": "execute_result"
    }
   ],
   "source": [
    "pd.DataFrame(s)"
   ]
  },
  {
   "cell_type": "code",
   "execution_count": 21,
   "metadata": {
    "collapsed": true
   },
   "outputs": [],
   "source": [
    "# "
   ]
  }
 ],
 "metadata": {
  "anaconda-cloud": {},
  "hide_input": false,
  "kernelspec": {
   "display_name": "Python [default]",
   "language": "python",
   "name": "python3"
  },
  "language_info": {
   "codemirror_mode": {
    "name": "ipython",
    "version": 3
   },
   "file_extension": ".py",
   "mimetype": "text/x-python",
   "name": "python",
   "nbconvert_exporter": "python",
   "pygments_lexer": "ipython3",
   "version": "3.5.2"
  }
 },
 "nbformat": 4,
 "nbformat_minor": 2
}
