{
 "cells": [
  {
   "cell_type": "markdown",
   "metadata": {},
   "source": [
    "# Analysis of Phased Array usage in telemetry data\n",
    "\n",
    "## Setup"
   ]
  },
  {
   "cell_type": "code",
   "execution_count": 9,
   "metadata": {},
   "outputs": [],
   "source": [
    "# setup\n",
    "%matplotlib inline\n",
    "import matplotlib.pyplot as plt\n",
    "import numpy as np\n",
    "import pandas as pd\n",
    "import datetime\n",
    "import dtutil.configs as dtc  # import the datatools config variables\n",
    "from helpers import get_name_and_company"
   ]
  },
  {
   "cell_type": "code",
   "execution_count": 14,
   "metadata": {},
   "outputs": [
    {
     "data": {
      "text/html": [
       "<div>\n",
       "<style scoped>\n",
       "    .dataframe tbody tr th:only-of-type {\n",
       "        vertical-align: middle;\n",
       "    }\n",
       "\n",
       "    .dataframe tbody tr th {\n",
       "        vertical-align: top;\n",
       "    }\n",
       "\n",
       "    .dataframe thead th {\n",
       "        text-align: right;\n",
       "    }\n",
       "</style>\n",
       "<table border=\"1\" class=\"dataframe\">\n",
       "  <thead>\n",
       "    <tr style=\"text-align: right;\">\n",
       "      <th></th>\n",
       "      <th>week</th>\n",
       "      <th>company</th>\n",
       "      <th>disp_name</th>\n",
       "      <th>phased_array_b</th>\n",
       "      <th>user_id</th>\n",
       "      <th>user_type</th>\n",
       "      <th>activity</th>\n",
       "      <th>scope</th>\n",
       "    </tr>\n",
       "  </thead>\n",
       "  <tbody>\n",
       "    <tr>\n",
       "      <th>0</th>\n",
       "      <td>800</td>\n",
       "      <td>National Instruments - AWR Group</td>\n",
       "      <td>Christian Bean</td>\n",
       "      <td>0</td>\n",
       "      <td>190</td>\n",
       "      <td>internal</td>\n",
       "      <td>0.887080</td>\n",
       "      <td>42.253521</td>\n",
       "    </tr>\n",
       "    <tr>\n",
       "      <th>1</th>\n",
       "      <td>801</td>\n",
       "      <td>National Instruments - AWR Group</td>\n",
       "      <td>Christian Bean</td>\n",
       "      <td>0</td>\n",
       "      <td>190</td>\n",
       "      <td>internal</td>\n",
       "      <td>0.731519</td>\n",
       "      <td>36.619718</td>\n",
       "    </tr>\n",
       "    <tr>\n",
       "      <th>2</th>\n",
       "      <td>802</td>\n",
       "      <td>National Instruments - AWR Group</td>\n",
       "      <td>Christian Bean</td>\n",
       "      <td>0</td>\n",
       "      <td>190</td>\n",
       "      <td>internal</td>\n",
       "      <td>0.706761</td>\n",
       "      <td>33.802817</td>\n",
       "    </tr>\n",
       "    <tr>\n",
       "      <th>3</th>\n",
       "      <td>803</td>\n",
       "      <td>National Instruments - AWR Group</td>\n",
       "      <td>Christian Bean</td>\n",
       "      <td>0</td>\n",
       "      <td>190</td>\n",
       "      <td>internal</td>\n",
       "      <td>0.847624</td>\n",
       "      <td>46.478873</td>\n",
       "    </tr>\n",
       "    <tr>\n",
       "      <th>4</th>\n",
       "      <td>804</td>\n",
       "      <td>National Instruments - AWR Group</td>\n",
       "      <td>Christian Bean</td>\n",
       "      <td>0</td>\n",
       "      <td>190</td>\n",
       "      <td>internal</td>\n",
       "      <td>0.858357</td>\n",
       "      <td>42.253521</td>\n",
       "    </tr>\n",
       "  </tbody>\n",
       "</table>\n",
       "</div>"
      ],
      "text/plain": [
       "   week                           company       disp_name  phased_array_b  \\\n",
       "0   800  National Instruments - AWR Group  Christian Bean               0   \n",
       "1   801  National Instruments - AWR Group  Christian Bean               0   \n",
       "2   802  National Instruments - AWR Group  Christian Bean               0   \n",
       "3   803  National Instruments - AWR Group  Christian Bean               0   \n",
       "4   804  National Instruments - AWR Group  Christian Bean               0   \n",
       "\n",
       "   user_id user_type  activity      scope  \n",
       "0      190  internal  0.887080  42.253521  \n",
       "1      190  internal  0.731519  36.619718  \n",
       "2      190  internal  0.706761  33.802817  \n",
       "3      190  internal  0.847624  46.478873  \n",
       "4      190  internal  0.858357  42.253521  "
      ]
     },
     "execution_count": 14,
     "metadata": {},
     "output_type": "execute_result"
    }
   ],
   "source": [
    "# read in the data\n",
    "df = pd.read_csv(dtc.paths.tlm_uwdata_file)  # this is the path to the features file\n",
    "interesting_cols = ['week', 'company', 'disp_name', 'phased_array_b', 'user_id', 'user_type', 'activity', 'scope']\n",
    "df[interesting_cols].head()"
   ]
  },
  {
   "cell_type": "code",
   "execution_count": 23,
   "metadata": {},
   "outputs": [
    {
     "data": {
      "text/plain": [
       "user_type  user_id\n",
       "academic   10087      2\n",
       "           10924      2\n",
       "           11867      3\n",
       "           16698      2\n",
       "customer   678        3\n",
       "           11832      2\n",
       "           13209      2\n",
       "           16234      2\n",
       "           16994      3\n",
       "           17395      2\n",
       "           17854      3\n",
       "demo       5013       5\n",
       "           16886      4\n",
       "           17894      2\n",
       "           18324      2\n",
       "           19625      2\n",
       "licensed   275        2\n",
       "           9670       2\n",
       "           9792       4\n",
       "           14236      4\n",
       "pirate     14400      7\n",
       "           14416      2\n",
       "           18087      2\n",
       "           18200      5\n",
       "           18748      2\n",
       "           19913      2\n",
       "           20569      2\n",
       "Name: weeks_of_use, dtype: int64"
      ]
     },
     "execution_count": 23,
     "metadata": {},
     "output_type": "execute_result"
    }
   ],
   "source": [
    "pharr_use = df[df.user_type != 'internal'].groupby(['user_type', 'user_id']).phased_array_b.sum()\n",
    "pharr_use.name = 'weeks_of_use'\n",
    "pharr_use[pharr_use > 1]"
   ]
  },
  {
   "cell_type": "code",
   "execution_count": 28,
   "metadata": {},
   "outputs": [
    {
     "name": "stdout",
     "output_type": "stream",
     "text": [
      "cnt  Company, User\n",
      "  2 - National Instruments - Santa Rosa, Brian Avenell at NISR (275)\n",
      "  3 - Syrlinks, Simon Mener @ Syrlinks (678)\n",
      "  5 - Sierzega Elektronik GmbH, Robert Sierzega (5013)\n",
      "  2 - RFD&C, Hyun-jin Kim (9670)\n",
      "  4 - Microwave Innovation Centre (MIC), Boris Kalinin (9792)\n",
      "  2 - University of Surrey, Yasin KABIRI (10087)\n",
      "  2 - University of Colorado at Boulder - Department of Electrical Engineering, Shane Verploegh (10924)\n",
      "  2 - SARAS Technology Limited, nan (11832)\n",
      "  3 - Binghamton University - Thomas J Watson School of Engineering and Applied Science (SUNY), Max Robertson (11867)\n",
      "  2 - Qorvo - TQTX IDP Richardson, nan (13209)\n",
      "  4 - Icon Design Automation Pvt. Ltd., Pratik Mewada (14236)\n",
      "  7 - TaPa Friends, nan (14400)\n",
      "  2 - TaPa Friends, nan (14416)\n",
      "  2 - Oculus/Facebook, nan (16234)\n",
      "  2 - Fachhochschule Rosenheim, Paul Leather (16698)\n",
      "  4 - DSTO, Leigh Milner (16886)\n",
      "  3 - Dynetics, nan (16994)\n",
      "  2 - Konkuk University - Electronic Engineering, nan (17395)\n",
      "  3 - Konkuk University - Electronic Engineering, nan (17854)\n",
      "  2 - OKB MEL, Andrei V. Romanov (17894)\n",
      "  2 - Friends, nan (18087)\n",
      "  5 - Friends, nan (18200)\n",
      "  2 - Compound Semiconductor Applications Catapult, Hassan Hirshy (18324)\n",
      "  2 - Friends, nan (18748)\n",
      "  2 - L-3 Mustang Technology, David Nail (19625)\n",
      "  2 - Friends, nan (19913)\n",
      "  2 - Friends, nan (20569)\n"
     ]
    }
   ],
   "source": [
    "pharr_use = df[df.user_type != 'internal'].groupby(['user_id']).phased_array_b.sum()\n",
    "pharr_use[pharr_use > 1]\n",
    "\n",
    "print('cnt  Company, User')\n",
    "for user_id, count in pharr_use[pharr_use > 1].iteritems():\n",
    "    n, c = get_name_and_company(df, user_id)\n",
    "    print('{:3d} - {}, {} ({})'.format(count, c, n, user_id))"
   ]
  },
  {
   "cell_type": "code",
   "execution_count": null,
   "metadata": {},
   "outputs": [],
   "source": []
  }
 ],
 "metadata": {
  "anaconda-cloud": {},
  "hide_input": false,
  "kernelspec": {
   "display_name": "Python 3",
   "language": "python",
   "name": "python3"
  },
  "language_info": {
   "codemirror_mode": {
    "name": "ipython",
    "version": 3
   },
   "file_extension": ".py",
   "mimetype": "text/x-python",
   "name": "python",
   "nbconvert_exporter": "python",
   "pygments_lexer": "ipython3",
   "version": "3.6.5"
  }
 },
 "nbformat": 4,
 "nbformat_minor": 1
}
