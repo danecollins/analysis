{
 "cells": [
  {
   "cell_type": "markdown",
   "metadata": {},
   "source": [
    "# Tuning and Yield Analysis\n",
    "\n",
    "This notebook looks at how many user-weeks use yield analysis and compares that to those that use tuning as a reference point.\n",
    "\n",
    "Analysis date: **February 11, 2019**"
   ]
  },
  {
   "cell_type": "code",
   "execution_count": 11,
   "metadata": {},
   "outputs": [
    {
     "name": "stdout",
     "output_type": "stream",
     "text": [
      "Percentage of user-weeks with capability by user-type\n"
     ]
    },
    {
     "data": {
      "text/html": [
       "<div>\n",
       "<style scoped>\n",
       "    .dataframe tbody tr th:only-of-type {\n",
       "        vertical-align: middle;\n",
       "    }\n",
       "\n",
       "    .dataframe tbody tr th {\n",
       "        vertical-align: top;\n",
       "    }\n",
       "\n",
       "    .dataframe thead th {\n",
       "        text-align: right;\n",
       "    }\n",
       "</style>\n",
       "<table border=\"1\" class=\"dataframe\">\n",
       "  <thead>\n",
       "    <tr style=\"text-align: right;\">\n",
       "      <th></th>\n",
       "      <th>customer</th>\n",
       "      <th>demo</th>\n",
       "      <th>academic</th>\n",
       "    </tr>\n",
       "  </thead>\n",
       "  <tbody>\n",
       "    <tr>\n",
       "      <th>yield</th>\n",
       "      <td>2.148609</td>\n",
       "      <td>2.930934</td>\n",
       "      <td>2.150885</td>\n",
       "    </tr>\n",
       "    <tr>\n",
       "      <th>tuning</th>\n",
       "      <td>40.167156</td>\n",
       "      <td>37.753918</td>\n",
       "      <td>37.430258</td>\n",
       "    </tr>\n",
       "    <tr>\n",
       "      <th>lin_sim</th>\n",
       "      <td>70.591154</td>\n",
       "      <td>63.987232</td>\n",
       "      <td>67.211126</td>\n",
       "    </tr>\n",
       "  </tbody>\n",
       "</table>\n",
       "</div>"
      ],
      "text/plain": [
       "          customer       demo   academic\n",
       "yield     2.148609   2.930934   2.150885\n",
       "tuning   40.167156  37.753918  37.430258\n",
       "lin_sim  70.591154  63.987232  67.211126"
      ]
     },
     "execution_count": 11,
     "metadata": {},
     "output_type": "execute_result"
    }
   ],
   "source": [
    "print('Percentage of user-weeks with capability by user-type')\n",
    "results"
   ]
  },
  {
   "cell_type": "markdown",
   "metadata": {},
   "source": [
    "From this we see that over 50% of user-weeks with a linear simulation also contain tuning but only about 1-in-30 have a yield analysis.\n",
    "\n",
    "It is interesting to note that evaluators are more likely as customers to try yield analysis.\n",
    "\n",
    "----\n",
    "\n",
    "# Analysis\n"
   ]
  },
  {
   "cell_type": "code",
   "execution_count": 3,
   "metadata": {
    "button": false,
    "new_sheet": false,
    "run_control": {
     "read_only": false
    }
   },
   "outputs": [],
   "source": [
    "import pandas as pd\n",
    "import os\n",
    "import datetime\n",
    "import dtutil.configs as dtc  # import the datatools config variables"
   ]
  },
  {
   "cell_type": "code",
   "execution_count": 4,
   "metadata": {},
   "outputs": [
    {
     "name": "stdout",
     "output_type": "stream",
     "text": [
      "The data file is dated: 2019-02-11 16:16:36.383594\n"
     ]
    }
   ],
   "source": [
    "fn = dtc.paths.tlm_uwdata_file\n",
    "df = pd.read_csv(fn, encoding='latin1')\n",
    "print('The data file is dated: {}'.format(datetime.datetime.fromtimestamp((os.path.getmtime(fn)))))"
   ]
  },
  {
   "cell_type": "code",
   "execution_count": 6,
   "metadata": {},
   "outputs": [],
   "source": [
    "dfi = df[['yield_b', 'lin_sim_n', 'tuning_b','user_type']].copy()\n",
    "dfi['lin_sim_b'] = dfi.lin_sim_n.apply(lambda x: min(1, x))  # just count user-weeks with linsim\n",
    "#dfi=dfi.drop('lin_sim_n',axis=1)"
   ]
  },
  {
   "cell_type": "code",
   "execution_count": 7,
   "metadata": {},
   "outputs": [],
   "source": [
    "pvt = dfi.groupby('user_type').aggregate([len, sum])"
   ]
  },
  {
   "cell_type": "code",
   "execution_count": 8,
   "metadata": {},
   "outputs": [
    {
     "data": {
      "text/html": [
       "<div>\n",
       "<style scoped>\n",
       "    .dataframe tbody tr th:only-of-type {\n",
       "        vertical-align: middle;\n",
       "    }\n",
       "\n",
       "    .dataframe tbody tr th {\n",
       "        vertical-align: top;\n",
       "    }\n",
       "\n",
       "    .dataframe thead th {\n",
       "        text-align: right;\n",
       "    }\n",
       "</style>\n",
       "<table border=\"1\" class=\"dataframe\">\n",
       "  <thead>\n",
       "    <tr style=\"text-align: right;\">\n",
       "      <th></th>\n",
       "      <th>customer</th>\n",
       "      <th>demo</th>\n",
       "      <th>academic</th>\n",
       "    </tr>\n",
       "  </thead>\n",
       "  <tbody>\n",
       "    <tr>\n",
       "      <th>yield</th>\n",
       "      <td>2.148609</td>\n",
       "      <td>2.930934</td>\n",
       "      <td>2.150885</td>\n",
       "    </tr>\n",
       "    <tr>\n",
       "      <th>tuning</th>\n",
       "      <td>40.167156</td>\n",
       "      <td>37.753918</td>\n",
       "      <td>37.430258</td>\n",
       "    </tr>\n",
       "    <tr>\n",
       "      <th>lin_sim</th>\n",
       "      <td>70.591154</td>\n",
       "      <td>63.987232</td>\n",
       "      <td>67.211126</td>\n",
       "    </tr>\n",
       "  </tbody>\n",
       "</table>\n",
       "</div>"
      ],
      "text/plain": [
       "          customer       demo   academic\n",
       "yield     2.148609   2.930934   2.150885\n",
       "tuning   40.167156  37.753918  37.430258\n",
       "lin_sim  70.591154  63.987232  67.211126"
      ]
     },
     "execution_count": 8,
     "metadata": {},
     "output_type": "execute_result"
    }
   ],
   "source": [
    "results = pd.DataFrame()\n",
    "for ut in ['customer', 'demo', 'academic']:\n",
    "    results.loc['yield', ut] = 100 * pvt.loc[ut, ('yield_b', 'sum')] / pvt.loc[ut, ('yield_b', 'len')]\n",
    "    results.loc['tuning', ut] = 100 * pvt.loc[ut, ('tuning_b', 'sum')] / pvt.loc[ut, ('tuning_b', 'len')]\n",
    "    results.loc['lin_sim', ut] = 100 * pvt.loc[ut, ('lin_sim_b', 'sum')] / pvt.loc[ut, ('lin_sim_b', 'len')]\n",
    "results"
   ]
  },
  {
   "cell_type": "code",
   "execution_count": 10,
   "metadata": {},
   "outputs": [
    {
     "data": {
      "text/plain": [
       "563"
      ]
     },
     "execution_count": 10,
     "metadata": {},
     "output_type": "execute_result"
    }
   ],
   "source": [
    "pvt.loc['customer', ('yield_b', 'sum')]"
   ]
  },
  {
   "cell_type": "code",
   "execution_count": null,
   "metadata": {
    "collapsed": true
   },
   "outputs": [],
   "source": []
  }
 ],
 "metadata": {
  "hide_input": false,
  "kernelspec": {
   "display_name": "Python 3",
   "language": "python",
   "name": "python3"
  },
  "language_info": {
   "codemirror_mode": {
    "name": "ipython",
    "version": 3
   },
   "file_extension": ".py",
   "mimetype": "text/x-python",
   "name": "python",
   "nbconvert_exporter": "python",
   "pygments_lexer": "ipython3",
   "version": "3.6.5"
  }
 },
 "nbformat": 4,
 "nbformat_minor": 1
}
