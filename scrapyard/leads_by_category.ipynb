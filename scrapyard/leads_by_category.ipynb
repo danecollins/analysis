{
 "cells": [
  {
   "cell_type": "markdown",
   "metadata": {
    "button": false,
    "new_sheet": false,
    "run_control": {
     "read_only": false
    }
   },
   "source": [
    "# Leads from Marketing Collateral/Events\n",
    "\n",
    "This page shows the number of leads (distinct email addresses per month) that access each type of marketing information.  These charts:\n",
    "\n",
    "* Show the number of leads per month by category\n",
    "* The same lead can be in more than one category\n",
    "* A lead is only counted one per month per category\n",
    "* Each category is on a different scale\n",
    "\n",
    "## Leads by Category"
   ]
  },
  {
   "cell_type": "code",
   "execution_count": null,
   "metadata": {
    "button": false,
    "new_sheet": false,
    "run_control": {
     "read_only": false
    }
   },
   "outputs": [],
   "source": [
    "import os\n",
    "pp = '/Users/dane/src/datatools/analytics:/Users/dane/src/datatools'\n",
    "os.environ.setdefault(\"PYTHONPATH\", pp)\n",
    "\n",
    "%matplotlib inline\n",
    "import matplotlib.pyplot as plt\n",
    "import numpy as np\n",
    "import pandas as pd\n",
    "\n",
    "# standard python includes\n",
    "import os\n",
    "import sys\n",
    "import datetime\n",
    "from collections import defaultdict, OrderedDict\n",
    "\n",
    "# my includes\n",
    "from dtutil.util import print_counters\n",
    "from dtutil.util import init_cdb\n",
    "from dtutil.util import Dates\n",
    "\n",
    "dates = Dates()\n",
    "month_start = Dates.fmt(dates.month_start)\n",
    "begin = dates.month_start - datetime.timedelta(days=18*30)\n",
    "begin = datetime.datetime(begin.year, begin.month, 1)  # get first day of month\n",
    "begin = Dates.fmt(begin)\n",
    "\n",
    "# produces:\n",
    "#    year, month, lead_type, count \n",
    "#  where lead_type is one of Event, Training, Webinar, Collateral and TX-LINE\n",
    "#\n",
    "query = \"\"\"\n",
    "with tmp as (\n",
    "select distinct email,\n",
    "    case\n",
    "        when download like '%TX-LINE%' then 'TX-LINE'\n",
    "        when download like '%White Paper%' then 'Collateral'\n",
    "        when download like '%eBook%'       then 'Collateral'\n",
    "        when download like '%Document%'    then 'Collateral'\n",
    "        when download like '%Publication%' then 'Collateral'\n",
    "        when download like '%App Note%'    then 'Collateral'\n",
    "        when download like '%Newsletter%'  then 'Collateral'\n",
    "        when download like 'EuMW%'         then 'Collateral'\n",
    "        when download like '%Workshop%'  then 'Event'\n",
    "        when download like '%Webinar%'   then 'Webinar'\n",
    "        when download like '%PA Forum%'  then 'Event'\n",
    "        when download like '%ADF%'       then 'Event'\n",
    "        when download like '%Tradeshow%' then 'Event'\n",
    "        when download like '%Event Reg%' then 'Event'\n",
    "        when download like '%Party%'     then 'Event'\n",
    "        when download like '%Training%' then 'Training'\n",
    "        when download like '%AntSyn%'   then 'AntSyn'\n",
    "        when download like '%X5%'       then 'AntSyn'\n",
    "        else download\n",
    "    end as lead_type,\n",
    "    datepart(year, entered_date) as year,\n",
    "    datepart(month, entered_date) as month\n",
    "  from lds_ip_history with(nolock)\n",
    "    where entered_date between '{0}' and '{1}'\n",
    "    and source='registered'\n",
    "    and download not in ('Preferred University', 'Evaluator', 'University Graduate',\n",
    "                         'Marketing Lead', 'Existing Customer')\n",
    "    and download not like '%Not Successful%'\n",
    ")\n",
    "select year, month, lead_type, count(lead_type) from tmp\n",
    "    where lead_type in ('Event', 'Training', 'Collateral', 'TX-LINE', 'Webinar')\n",
    "    group by year, month, lead_type;\n",
    "\n",
    "\"\"\".format(begin, month_start)\n",
    "\n",
    "conn = init_cdb()\n",
    "results = defaultdict(OrderedDict)\n",
    "cur = conn.cursor()\n",
    "cur.execute(query)\n",
    "for row in cur.fetchall():\n",
    "    (year, month, lead_type, count) = row\n",
    "    label = '{}-{:02}'.format(year, month)\n",
    "    results[lead_type][label] = count\n",
    "\n",
    "df = pd.DataFrame(results)"
   ]
  },
  {
   "cell_type": "code",
   "execution_count": null,
   "metadata": {},
   "outputs": [],
   "source": [
    "plt.figure(1, figsize=(12, 12))\n",
    "for sp, typ in enumerate(['Event', 'Training', 'Collateral', 'TX-LINE', 'Webinar']):\n",
    "    plt.subplot(5, 1, sp+1)  # numrows, numcols, fignum\n",
    "    plt.tight_layout()\n",
    "    plt.title(typ)\n",
    "    # changed to add x range when updated version of matplotlib\n",
    "    plt.plot(np.arange(len(df)), df[typ], linewidth=2.0)\n",
    "    plt.ylabel('Lead Count')\n",
    "    xlabels = df[typ].index\n",
    "    plt.xticks(range(len(xlabels)), xlabels, rotation=30)\n",
    "plt.show()"
   ]
  },
  {
   "cell_type": "markdown",
   "metadata": {},
   "source": [
    "# Backup Data\n",
    "\n",
    "For completeness, here is the above data in tabular form."
   ]
  },
  {
   "cell_type": "code",
   "execution_count": null,
   "metadata": {
    "button": false,
    "new_sheet": false,
    "run_control": {
     "read_only": false
    }
   },
   "outputs": [],
   "source": [
    "df"
   ]
  },
  {
   "cell_type": "code",
   "execution_count": null,
   "metadata": {
    "collapsed": true
   },
   "outputs": [],
   "source": []
  }
 ],
 "metadata": {
  "kernelspec": {
   "display_name": "Python 3",
   "language": "python",
   "name": "python3"
  },
  "language_info": {
   "codemirror_mode": {
    "name": "ipython",
    "version": 3
   },
   "file_extension": ".py",
   "mimetype": "text/x-python",
   "name": "python",
   "nbconvert_exporter": "python",
   "pygments_lexer": "ipython3",
   "version": "3.4.1"
  }
 },
 "nbformat": 4,
 "nbformat_minor": 1
}
