{
 "cells": [
  {
   "cell_type": "code",
   "execution_count": 1,
   "metadata": {},
   "outputs": [
    {
     "name": "stderr",
     "output_type": "stream",
     "text": [
      "/Users/dane/env/dt/lib/python3.6/importlib/_bootstrap.py:219: RuntimeWarning: numpy.dtype size changed, may indicate binary incompatibility. Expected 96, got 88\n",
      "  return f(*args, **kwds)\n"
     ]
    }
   ],
   "source": [
    "import sys\n",
    "%matplotlib inline\n",
    "import matplotlib.pyplot as plt\n",
    "import numpy as np\n",
    "import pandas as pd\n",
    "import pylab\n",
    "pylab.rcParams['figure.figsize'] = (12,8)  # set default plot size\n",
    "\n",
    "sys.path.append('/Users/dane/src/datatools/ipy/notebooks/session_data/dev')\n",
    "from features import define_feature"
   ]
  },
  {
   "cell_type": "code",
   "execution_count": 2,
   "metadata": {},
   "outputs": [
    {
     "name": "stdout",
     "output_type": "stream",
     "text": [
      "71679\n"
     ]
    },
    {
     "data": {
      "text/plain": [
       "Index(['Unnamed: 0', 'HB_aplac_b', 'HB_legacy_b', 'add_measurement_b',\n",
       "       'add_mwo_elem_b', 'add_sim_doc_b', 'add_vss_elem_b', 'ana_doc_b',\n",
       "       'ana_sim_n', 'annotation_b', 'antenna_b', 'bindkeys_b',\n",
       "       'board_import_b', 'cell_stretchers_b', 'commands_n', 'company',\n",
       "       'create_process_b', 'disp_name', 'doc_sets_b', 'drc_b', 'ele_created_n',\n",
       "       'em_sim_b', 'ems_doc_b', 'ems_highcnt_b', 'ems_sim_n',\n",
       "       'enable_disable_b', 'envelope_sim_b', 'extract_b',\n",
       "       'floating_load_pull_b', 'freeze_traces_b', 'gen_poly_b', 'ifilter_b',\n",
       "       'insert_window', 'job_rich_text_b', 'job_scheduler_b', 'layout_b',\n",
       "       'layout_checks_b', 'lin_noise_b', 'lin_sim_n', 'load_pull_b',\n",
       "       'load_pull_script_b', 'lvs_b', 'markers_b', 'measurements_n',\n",
       "       'network_synthesis_b', 'new_HB_meas_b', 'no_sim_b', 'nonlin_sim_n',\n",
       "       'optim_b', 'osc_b', 'output_eq_b', 'pcb_improved_clipping_b',\n",
       "       'pcb_point_ports_b', 'pcb_shape_flow_b', 'pdk_b', 'phased_array_b',\n",
       "       'project_import_b', 'schematic_eq_b', 'script_ide_b', 'scripts_b',\n",
       "       'sim_filters_b', 'stability_b', 'switch_lists_b', 'symbol_gen_b',\n",
       "       'transient_b', 'tuning_b', 'user_folder_b', 'user_id', 'user_type',\n",
       "       'vss_doc_b', 'vss_rfb_b', 'vss_rfi_b', 'vss_rfp_b', 'vss_sim_n', 'week',\n",
       "       'xem_doc_b', 'xem_sim_n', 'xmodels_b', 'yield_b', 'activity', 'scope'],\n",
       "      dtype='object')"
      ]
     },
     "execution_count": 2,
     "metadata": {},
     "output_type": "execute_result"
    }
   ],
   "source": [
    "all_df = pd.read_csv('/Users/dane/data/a/tlm/features/featured_user_weeks.csv', encoding='latin1')\n",
    "print(len(all_df))\n",
    "all_df.columns"
   ]
  },
  {
   "cell_type": "code",
   "execution_count": 6,
   "metadata": {},
   "outputs": [
    {
     "name": "stdout",
     "output_type": "stream",
     "text": [
      "11938\n",
      "11938\n",
      "11938\n"
     ]
    }
   ],
   "source": [
    "# get only academics\n",
    "adf = all_df[all_df.user_type == 'academic']\n",
    "print(len(demo_df))\n",
    "\n",
    "# let's keep only those in this academic year\n",
    "adf = demo_df[demo_df.week >= 800]\n",
    "print(len(demo_df))\n",
    "\n",
    "# remove user-weeks that have basically no commands\n",
    "adf = demo_df[demo_df.commands_n >= 5]\n",
    "print(len(demo_df))"
   ]
  },
  {
   "cell_type": "code",
   "execution_count": 7,
   "metadata": {},
   "outputs": [
    {
     "data": {
      "text/plain": [
       "Index(['Unnamed: 0', 'HB_aplac_b', 'HB_legacy_b', 'add_measurement_b',\n",
       "       'add_mwo_elem_b', 'add_sim_doc_b', 'add_vss_elem_b', 'ana_doc_b',\n",
       "       'annotation_b', 'antenna_b', 'bindkeys_b', 'board_import_b',\n",
       "       'cell_stretchers_b', 'company', 'create_process_b', 'disp_name',\n",
       "       'doc_sets_b', 'drc_b', 'em_sim_b', 'ems_doc_b', 'ems_highcnt_b',\n",
       "       'enable_disable_b', 'envelope_sim_b', 'extract_b',\n",
       "       'floating_load_pull_b', 'freeze_traces_b', 'gen_poly_b', 'ifilter_b',\n",
       "       'insert_window', 'job_rich_text_b', 'job_scheduler_b', 'layout_b',\n",
       "       'layout_checks_b', 'lin_noise_b', 'load_pull_b', 'load_pull_script_b',\n",
       "       'lvs_b', 'markers_b', 'network_synthesis_b', 'new_HB_meas_b',\n",
       "       'no_sim_b', 'optim_b', 'osc_b', 'output_eq_b',\n",
       "       'pcb_improved_clipping_b', 'pcb_point_ports_b', 'pcb_shape_flow_b',\n",
       "       'pdk_b', 'phased_array_b', 'project_import_b', 'schematic_eq_b',\n",
       "       'script_ide_b', 'scripts_b', 'sim_filters_b', 'stability_b',\n",
       "       'switch_lists_b', 'symbol_gen_b', 'transient_b', 'tuning_b',\n",
       "       'user_folder_b', 'user_id', 'user_type', 'vss_doc_b', 'vss_rfb_b',\n",
       "       'vss_rfi_b', 'vss_rfp_b', 'week', 'xem_doc_b', 'xmodels_b', 'yield_b',\n",
       "       'activity', 'scope', 'ele_created_n2b', 'commands_n2b', 'lin_sim_n2b',\n",
       "       'nonlin_sim_n2b', 'ems_sim_n2b', 'vss_sim_n2b', 'xem_sim_n2b',\n",
       "       'ana_sim_n2b', 'measurements_n2b'],\n",
       "      dtype='object')"
      ]
     },
     "execution_count": 7,
     "metadata": {},
     "output_type": "execute_result"
    }
   ],
   "source": [
    "adf = define_feature.convert_int_to_bool(adf)\n",
    "adf.columns"
   ]
  },
  {
   "cell_type": "code",
   "execution_count": 17,
   "metadata": {},
   "outputs": [],
   "source": [
    "features = ['xem_sim_n2b', 'ana_sim_n2b', 'lin_sim_n2b', 'vss_rfi_b', 'vss_rfp_b', 'vss_sim_n2b', 'nonlin_sim_n2b', 'load_pull_b', 'tuning_b', 'layout_b']\n",
    "res = adf[features].agg([len, sum])\n",
    "res = res.rename(columns={'xem_sim_n2b': 'Axiem Simulation',\n",
    "                          'ana_sim_n2b': 'Analyst Simulation',\n",
    "                          'lin_sim_n2b': 'Linear Simulation',\n",
    "                          'nonlin_sim_n2b': 'Non-linear Simulation',\n",
    "                          'load_pull_b': 'Load Pull',\n",
    "                          'tuning_b': 'Used Tuning',\n",
    "                          'layout_b': 'Used Layout',\n",
    "                          'vss_rfi_b': 'RFI Simulation',\n",
    "                          'vss_rfp_b': 'RFP Simulation',\n",
    "                          'vss_sim_n2b': 'VSS Time Domain Sim'}).T\n",
    "res = res.rename(columns={'len': 'total_user_weeks', 'sum': 'weeks_feature_used'})\n",
    "res['Percent'] = round(100 * res.weeks_feature_used / res.total_user_weeks, 1)"
   ]
  },
  {
   "cell_type": "code",
   "execution_count": 18,
   "metadata": {},
   "outputs": [
    {
     "data": {
      "text/html": [
       "<div>\n",
       "<style scoped>\n",
       "    .dataframe tbody tr th:only-of-type {\n",
       "        vertical-align: middle;\n",
       "    }\n",
       "\n",
       "    .dataframe tbody tr th {\n",
       "        vertical-align: top;\n",
       "    }\n",
       "\n",
       "    .dataframe thead th {\n",
       "        text-align: right;\n",
       "    }\n",
       "</style>\n",
       "<table border=\"1\" class=\"dataframe\">\n",
       "  <thead>\n",
       "    <tr style=\"text-align: right;\">\n",
       "      <th></th>\n",
       "      <th>total_user_weeks</th>\n",
       "      <th>weeks_feature_used</th>\n",
       "      <th>Percent</th>\n",
       "    </tr>\n",
       "  </thead>\n",
       "  <tbody>\n",
       "    <tr>\n",
       "      <th>Axiem Simulation</th>\n",
       "      <td>11938</td>\n",
       "      <td>2388</td>\n",
       "      <td>20.0</td>\n",
       "    </tr>\n",
       "    <tr>\n",
       "      <th>Analyst Simulation</th>\n",
       "      <td>11938</td>\n",
       "      <td>235</td>\n",
       "      <td>2.0</td>\n",
       "    </tr>\n",
       "    <tr>\n",
       "      <th>Linear Simulation</th>\n",
       "      <td>11938</td>\n",
       "      <td>8996</td>\n",
       "      <td>75.4</td>\n",
       "    </tr>\n",
       "    <tr>\n",
       "      <th>RFI Simulation</th>\n",
       "      <td>11938</td>\n",
       "      <td>73</td>\n",
       "      <td>0.6</td>\n",
       "    </tr>\n",
       "    <tr>\n",
       "      <th>RFP Simulation</th>\n",
       "      <td>11938</td>\n",
       "      <td>60</td>\n",
       "      <td>0.5</td>\n",
       "    </tr>\n",
       "    <tr>\n",
       "      <th>VSS Time Domain Sim</th>\n",
       "      <td>11938</td>\n",
       "      <td>825</td>\n",
       "      <td>6.9</td>\n",
       "    </tr>\n",
       "    <tr>\n",
       "      <th>Non-linear Simulation</th>\n",
       "      <td>11938</td>\n",
       "      <td>2208</td>\n",
       "      <td>18.5</td>\n",
       "    </tr>\n",
       "    <tr>\n",
       "      <th>Load Pull</th>\n",
       "      <td>11938</td>\n",
       "      <td>538</td>\n",
       "      <td>4.5</td>\n",
       "    </tr>\n",
       "    <tr>\n",
       "      <th>Used Tuning</th>\n",
       "      <td>11938</td>\n",
       "      <td>5320</td>\n",
       "      <td>44.6</td>\n",
       "    </tr>\n",
       "    <tr>\n",
       "      <th>Used Layout</th>\n",
       "      <td>11938</td>\n",
       "      <td>3875</td>\n",
       "      <td>32.5</td>\n",
       "    </tr>\n",
       "  </tbody>\n",
       "</table>\n",
       "</div>"
      ],
      "text/plain": [
       "                       total_user_weeks  weeks_feature_used  Percent\n",
       "Axiem Simulation                  11938                2388     20.0\n",
       "Analyst Simulation                11938                 235      2.0\n",
       "Linear Simulation                 11938                8996     75.4\n",
       "RFI Simulation                    11938                  73      0.6\n",
       "RFP Simulation                    11938                  60      0.5\n",
       "VSS Time Domain Sim               11938                 825      6.9\n",
       "Non-linear Simulation             11938                2208     18.5\n",
       "Load Pull                         11938                 538      4.5\n",
       "Used Tuning                       11938                5320     44.6\n",
       "Used Layout                       11938                3875     32.5"
      ]
     },
     "execution_count": 18,
     "metadata": {},
     "output_type": "execute_result"
    }
   ],
   "source": [
    "res"
   ]
  },
  {
   "cell_type": "code",
   "execution_count": null,
   "metadata": {},
   "outputs": [],
   "source": []
  }
 ],
 "metadata": {
  "hide_input": false,
  "kernelspec": {
   "display_name": "Python 3",
   "language": "python",
   "name": "python3"
  },
  "language_info": {
   "codemirror_mode": {
    "name": "ipython",
    "version": 3
   },
   "file_extension": ".py",
   "mimetype": "text/x-python",
   "name": "python",
   "nbconvert_exporter": "python",
   "pygments_lexer": "ipython3",
   "version": "3.6.5"
  }
 },
 "nbformat": 4,
 "nbformat_minor": 2
}
