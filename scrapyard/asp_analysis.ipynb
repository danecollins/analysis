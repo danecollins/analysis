{
 "cells": [
  {
   "cell_type": "markdown",
   "metadata": {},
   "source": [
    "# Analysis on Average Sales Price (ASP)\n",
    "\n",
    "\n",
    "ASP figures get thrown around a lot. It's easy to throw around numbers but if you want something meaningful you need to define what you mean by ASP.  The typical goal of this metric is to give you an estimate for the per/seat price of software. This analysis looks at different definitions of ASP for AWR products.\n",
    "\n",
    "Some Notes:\n",
    "  * ASP is sometimes used to mean Average Order Value. This is not covered in this document.  Here we only look at price per seat/price per product.\n",
    "  * We only have product data since 1/1/2015 so that is all that is included in this document"
   ]
  },
  {
   "cell_type": "code",
   "execution_count": 23,
   "metadata": {
    "collapsed": false
   },
   "outputs": [],
   "source": [
    "%matplotlib inline\n",
    "import matplotlib.pyplot as plt\n",
    "import numpy as np\n",
    "import pandas as pd\n",
    "import sys\n",
    "import math\n",
    "import pylab\n",
    "pylab.rcParams['figure.figsize'] = (12,8)\n",
    "def fd(x):\n",
    "    return \"{:,}\".format(int(x))"
   ]
  },
  {
   "cell_type": "code",
   "execution_count": 24,
   "metadata": {
    "collapsed": false
   },
   "outputs": [],
   "source": [
    "import os\n",
    "os.chdir('/Users/dane/src/datatools/ipy/notebooks/products/dev') # this output cleaner than using %cd"
   ]
  },
  {
   "cell_type": "code",
   "execution_count": 25,
   "metadata": {
    "collapsed": false
   },
   "outputs": [
    {
     "name": "stdout",
     "output_type": "stream",
     "text": [
      "This analysis covers 3683 opportunities from 2015 to 2017\n"
     ]
    }
   ],
   "source": [
    "opps = pd.read_csv('../data/exported_products.csv')\n",
    "\n",
    "# required cleaning\n",
    "\n",
    "# 1 - some test orders have close dates > today\n",
    "mask1 = opps.close_year < 2018\n",
    "\n",
    "# 2 - remove hardware keys\n",
    "mask2 = opps.base_pn != 'HWK_200'\n",
    "\n",
    "# 3 - training and university products don't matter\n",
    "mask3 = ~opps.base_pn.isin(['UNV_999', 'TRN_100', 'TRN_200', 'LHC_100'])\n",
    "\n",
    "# 4 - eliminate things put in at $0\n",
    "mask4 = opps.amt_usd > 0\n",
    "\n",
    "opps = opps[mask1 & mask2 & mask3 & mask4]\n",
    "\n",
    "print('This analysis covers {} opportunities '.format(len(opps)), end='')\n",
    "print('from {} to {}'.format(opps.close_year.min(), opps.close_year.max()))"
   ]
  },
  {
   "cell_type": "code",
   "execution_count": 26,
   "metadata": {
    "collapsed": false
   },
   "outputs": [],
   "source": [
    "# check which products have bad part numbers\n",
    "import re\n",
    "pat = re.compile('[A-Z][A-Z][A-Z]_[0-9][0-9][0-9]_[A-Z][A-Z0-9][A-Z]')\n",
    "bad_pn = opps[opps.full_pn.apply(lambda x: True if pat.match(x)==None else False)]\n",
    "good_pn = opps[~opps.full_pn.apply(lambda x: True if pat.match(x)==None else False)].copy()\n"
   ]
  },
  {
   "cell_type": "markdown",
   "metadata": {},
   "source": [
    "## Product ASP\n",
    "\n",
    "ASP is usually determined at the product level.  When determining ASP we have to remember that:\n",
    "\n",
    "  * It does not make sense to combine term, perpetual and maintenance products together\n",
    "  * Maintenance and Term products are for various terms and need to be normalized to a /year ASP\n",
    "  \n",
    "We have a lot of different part numbers.  Looking at the ASP of all part numbers will just get us a sea of data which will be hard to absorb so we'll focus on just some representative products.\n",
    "\n",
    "36% of our term/perpetual licenses sold in 2015-2016 were of MWO-226, MWO-246, MWO-106 or VSS-250 so we will look at those.\n"
   ]
  },
  {
   "cell_type": "code",
   "execution_count": 27,
   "metadata": {
    "collapsed": false
   },
   "outputs": [],
   "source": [
    "keep = ['MWO_246', 'MWO_226', 'MWO_106', 'VSS_250']\n",
    "pmt = good_pn[good_pn.base_pn.isin(keep)].copy()\n",
    "\n",
    "# make sure all purchase orders have years set to 1 so per_year computes correctly\n",
    "pmt.loc[pmt.order_type=='Purchase','years'] = 1"
   ]
  },
  {
   "cell_type": "markdown",
   "metadata": {},
   "source": [
    "Perpetual licenses are the simplest since we can just compute the ASP directly by taking the total sales and dividing by the total quantity."
   ]
  },
  {
   "cell_type": "code",
   "execution_count": 28,
   "metadata": {
    "collapsed": false
   },
   "outputs": [
    {
     "name": "stdout",
     "output_type": "stream",
     "text": [
      "For Perpetual\n",
      "    MWO_246 ASP = $33,845\n",
      "    MWO_226 ASP = $18,300\n",
      "    MWO_106 ASP = $14,625\n",
      "    VSS_250 ASP = $14,449\n"
     ]
    }
   ],
   "source": [
    "print('For Perpetual')\n",
    "for pn in keep:\n",
    "    perp = pmt[(pmt.order_code=='P') & (pmt.base_pn == pn)]\n",
    "    print('    {} ASP = ${}'.format(pn, fd(perp.amt_usd.sum() / perp.quantity.sum())))"
   ]
  },
  {
   "cell_type": "markdown",
   "metadata": {},
   "source": [
    "For term and maintenance products we will look at the per-year value."
   ]
  },
  {
   "cell_type": "code",
   "execution_count": 29,
   "metadata": {
    "collapsed": false
   },
   "outputs": [
    {
     "name": "stdout",
     "output_type": "stream",
     "text": [
      "For Term\n",
      "    MWO_246 ASP = $13,059\n",
      "    MWO_226 ASP = $10,838\n",
      "    MWO_106 ASP = $6,210\n",
      "    VSS_250 ASP = $7,462\n",
      "For Maintenance\n",
      "    MWO_246 ASP = $9,494\n",
      "    MWO_226 ASP = $6,427\n",
      "    MWO_106 ASP = $3,452\n",
      "    VSS_250 ASP = $4,086\n"
     ]
    }
   ],
   "source": [
    "# add the per_year column\n",
    "pmt['per_year'] = pmt.amt_usd / pmt.years\n",
    "\n",
    "for code, typ in [('T', 'Term'), ('M', 'Maintenance')]:\n",
    "    print('For {}'.format(typ))\n",
    "    for pn in keep:\n",
    "        df = pmt[(pmt.order_code==code) & (pmt.base_pn == pn)]\n",
    "        print('    {} ASP = ${}'.format(pn, fd(df.per_year.sum() / df.quantity.sum())))"
   ]
  },
  {
   "cell_type": "markdown",
   "metadata": {
    "collapsed": false
   },
   "source": [
    "## Overall ASP\n",
    "\n",
    "We can apply the same methodology to the overall product line by combining all products.\n"
   ]
  },
  {
   "cell_type": "code",
   "execution_count": 30,
   "metadata": {
    "collapsed": false
   },
   "outputs": [
    {
     "name": "stdout",
     "output_type": "stream",
     "text": [
      "For Perpetual\n",
      "    ASP = $19,470\n",
      "For Maintenance\n",
      "    ASP = $5,956\n",
      "For Term\n",
      "    ASP = $9,221\n"
     ]
    }
   ],
   "source": [
    "good_pn['per_year'] = good_pn.amt_usd / good_pn.years\n",
    "for code, typ in [('P', 'Perpetual'), ('M', 'Maintenance'), ('T', 'Term')]:\n",
    "    print('For {}'.format(typ))\n",
    "    df = pmt[(pmt.order_code==code)]\n",
    "    print('    ASP = ${}'.format(fd(df.per_year.sum() / df.quantity.sum())))"
   ]
  },
  {
   "cell_type": "markdown",
   "metadata": {
    "collapsed": true
   },
   "source": [
    "So this figure gives us the overall ASP but is that useful?  How many FIL-300's are in that ASP, or IGS-002's.  When people think of ASP it tends to represent the average price of a seat and we have many add-on products that are being counted here but don't actually create new seats.\n",
    "\n",
    "And this is where things get somewhat ambiguous.  What is a \"seat\" of our software.  It's easy to say that MWO-226 is a seat but is XEM-100?  Is VSS-250?  This gets tricker.  You can't run XEM-100 without a MWO-226 license (or equivalent) but you can run VSS-250, but very few people do (for 2017 0.2%).  For most of our customers, vss is an add-on to MWO.\n",
    "\n",
    "In addition, sometimes we combine EM simulators into kits so they are not counted in the kit version but they are counted in the stand-alone version in the computations above.\n",
    "\n",
    "The most reasonable thing to do, is to treat the number of front-end MWO seats as the number of seats rather than counting all of the part numbers."
   ]
  },
  {
   "cell_type": "markdown",
   "metadata": {},
   "source": [
    "First, let's just compute the ASP of just the MWO-XXX products."
   ]
  },
  {
   "cell_type": "code",
   "execution_count": 31,
   "metadata": {
    "collapsed": false
   },
   "outputs": [
    {
     "name": "stdout",
     "output_type": "stream",
     "text": [
      "For Perpetual\n",
      "   ASP = $ 20,884\n",
      "For Maintenance\n",
      "   ASP = $ 6,016\n",
      "For Term\n",
      "   ASP = $ 10,582\n"
     ]
    }
   ],
   "source": [
    "gains = pd.DataFrame(columns = ['base_mwo', 'with_options'], index=['Perpetual', 'Maintenance', 'Term'])\n",
    "mwo = good_pn[good_pn.base_pn.apply(lambda x: x[:3] == 'MWO')]\n",
    "for code, typ in [('P', 'Perpetual'), ('M', 'Maintenance'), ('T', 'Term')]:\n",
    "    print('For {}'.format(typ))\n",
    "    df = mwo[(mwo.order_code==code)]\n",
    "    asp = df.per_year.sum() / df.quantity.sum()\n",
    "    gains.loc[typ, 'base_mwo'] = asp\n",
    "    print('   ASP = $', fd(asp))\n"
   ]
  },
  {
   "cell_type": "markdown",
   "metadata": {},
   "source": [
    "Next we want to see how the add-on products add to this ASP.  We will do this by including the revenue for products such as VSS, Axiem and Analyst but not increasing the seat count."
   ]
  },
  {
   "cell_type": "code",
   "execution_count": 32,
   "metadata": {
    "collapsed": false
   },
   "outputs": [
    {
     "name": "stdout",
     "output_type": "stream",
     "text": [
      "For Perpetual\n",
      "   ASP = $ 27,424\n",
      "For Maintenance\n",
      "   ASP = $ 8,224\n",
      "For Term\n",
      "   ASP = $ 17,221\n"
     ]
    }
   ],
   "source": [
    "mwo = good_pn[good_pn.base_pn.apply(lambda x: x[:3] == 'MWO')]\n",
    "for code, typ in [('P', 'Perpetual'), ('M', 'Maintenance'), ('T', 'Term')]:\n",
    "    print('For {}'.format(typ))\n",
    "    df = good_pn[(good_pn.order_code==code)]\n",
    "    asp = df.per_year.sum() / mwo[mwo.order_code==code].quantity.sum()\n",
    "    print('   ASP = $', fd(asp))\n",
    "    gains.loc[typ, 'with_options'] = asp"
   ]
  },
  {
   "cell_type": "markdown",
   "metadata": {},
   "source": [
    "From this we can see that add-on products (VSS+EM mostly) add a significant amount to the overall ASP, especially in the case of the term products."
   ]
  },
  {
   "cell_type": "code",
   "execution_count": 33,
   "metadata": {
    "collapsed": false
   },
   "outputs": [
    {
     "data": {
      "image/png": "[encoded data removed]",
      "text/plain": [
       "<matplotlib.figure.Figure at 0x105d8df28>"
      ]
     },
     "metadata": {},
     "output_type": "display_data"
    }
   ],
   "source": [
    "gains.iloc[[1,0,2],[1,0]].plot(kind='barh', stacked=False)\n",
    "plt.show()"
   ]
  },
  {
   "cell_type": "markdown",
   "metadata": {},
   "source": [
    "## ASP increases in bundles\n",
    "\n",
    "When we create bundles we determine the markup for the products we're including but how does that translate to what happens in the field once we've applied discounts?\n",
    "\n",
    "For example, the markup for going from MWO-226 to MWO-246 (which adds Axiem) is 19,400 (floating). \n",
    "As we saw above, this translates to an increased ASP of 15,901 which is substantial.  Let's see if that applies to other bundles as well."
   ]
  },
  {
   "cell_type": "code",
   "execution_count": 34,
   "metadata": {
    "collapsed": false
   },
   "outputs": [
    {
     "name": "stdout",
     "output_type": "stream",
     "text": [
      "    MWO_226 ASP = $18,300\n",
      "    MWO_246 ASP = $33,845\n",
      "    MWO_286 ASP = $48,543\n",
      "    MWO_106 ASP = $14,625\n",
      "    MWO_146 ASP = $29,937\n",
      "    MWO_186 ASP = $34,497\n"
     ]
    }
   ],
   "source": [
    "keep = ['MWO_226', 'MWO_246', 'MWO_286', 'MWO_106', 'MWO_146', 'MWO_186']\n",
    "compare = pd.DataFrame(index=keep, columns=['Perp_List', 'ASP'])\n",
    "compare.loc[:, 'Perp_List'] = [41200, 60600, 91000, 21700, 47700, 73700]\n",
    "\n",
    "pmt = good_pn[good_pn.base_pn.isin(keep)].copy()\n",
    "for pn in keep:\n",
    "    perp = pmt[(pmt.order_code=='P') & (pmt.base_pn == pn)]\n",
    "    asp = perp.amt_usd.sum() / perp.quantity.sum()\n",
    "    print('    {} ASP = ${}'.format(pn, fd(asp)))\n",
    "    compare.loc[pn, 'ASP'] = asp"
   ]
  },
  {
   "cell_type": "code",
   "execution_count": 35,
   "metadata": {
    "collapsed": false
   },
   "outputs": [
    {
     "data": {
      "text/html": [
       "<div>\n",
       "<table border=\"1\" class=\"dataframe\">\n",
       "  <thead>\n",
       "    <tr style=\"text-align: right;\">\n",
       "      <th></th>\n",
       "      <th>Perp_List</th>\n",
       "      <th>ASP</th>\n",
       "      <th>ASP_PCT</th>\n",
       "      <th>List_delta</th>\n",
       "      <th>ASP_delta</th>\n",
       "    </tr>\n",
       "  </thead>\n",
       "  <tbody>\n",
       "    <tr>\n",
       "      <th>MWO_226</th>\n",
       "      <td>41200</td>\n",
       "      <td>18300.77</td>\n",
       "      <td>44.4</td>\n",
       "      <td>NaN</td>\n",
       "      <td>NaN</td>\n",
       "    </tr>\n",
       "    <tr>\n",
       "      <th>MWO_246</th>\n",
       "      <td>60600</td>\n",
       "      <td>33845.21</td>\n",
       "      <td>55.9</td>\n",
       "      <td>19400</td>\n",
       "      <td>15544</td>\n",
       "    </tr>\n",
       "    <tr>\n",
       "      <th>MWO_286</th>\n",
       "      <td>91000</td>\n",
       "      <td>48543.4</td>\n",
       "      <td>53.3</td>\n",
       "      <td>49800</td>\n",
       "      <td>30242</td>\n",
       "    </tr>\n",
       "    <tr>\n",
       "      <th>MWO_106</th>\n",
       "      <td>21700</td>\n",
       "      <td>14625.46</td>\n",
       "      <td>67.4</td>\n",
       "      <td>NaN</td>\n",
       "      <td>NaN</td>\n",
       "    </tr>\n",
       "    <tr>\n",
       "      <th>MWO_146</th>\n",
       "      <td>47700</td>\n",
       "      <td>29937.63</td>\n",
       "      <td>62.8</td>\n",
       "      <td>26000</td>\n",
       "      <td>15312</td>\n",
       "    </tr>\n",
       "    <tr>\n",
       "      <th>MWO_186</th>\n",
       "      <td>73700</td>\n",
       "      <td>34497.96</td>\n",
       "      <td>46.8</td>\n",
       "      <td>52000</td>\n",
       "      <td>19872</td>\n",
       "    </tr>\n",
       "  </tbody>\n",
       "</table>\n",
       "</div>"
      ],
      "text/plain": [
       "         Perp_List       ASP  ASP_PCT  List_delta  ASP_delta\n",
       "MWO_226      41200  18300.77     44.4         NaN        NaN\n",
       "MWO_246      60600  33845.21     55.9       19400      15544\n",
       "MWO_286      91000   48543.4     53.3       49800      30242\n",
       "MWO_106      21700  14625.46     67.4         NaN        NaN\n",
       "MWO_146      47700  29937.63     62.8       26000      15312\n",
       "MWO_186      73700  34497.96     46.8       52000      19872"
      ]
     },
     "execution_count": 35,
     "metadata": {},
     "output_type": "execute_result"
    }
   ],
   "source": [
    "pairs = [('MWO_246', 'MWO_226'), ('MWO_286', 'MWO_226'), ('MWO_146', 'MWO_106'),('MWO_186', 'MWO_106')]\n",
    "compare['ASP_PCT'] = 100 * compare.ASP / compare.Perp_List\n",
    "compare['ASP_PCT'] = compare.ASP_PCT.apply(lambda x: round(x, 1))\n",
    "for addon, base in pairs:\n",
    "    compare.loc[addon, 'List_delta'] = int(compare.loc[addon, 'Perp_List'] - compare.loc[base, 'Perp_List'])\n",
    "    compare.loc[addon, 'ASP_delta'] = int(compare.loc[addon, 'ASP'] - compare.loc[base, 'ASP'])\n",
    "\n",
    "compare"
   ]
  },
  {
   "cell_type": "markdown",
   "metadata": {},
   "source": [
    "This table is quite interesting.  We see that even though the list price deltas for adding Axiem and Axiem+Analyst are higher for MWO_1xx the average selling price is lower (significantly lower in the case of Analyst)."
   ]
  }
 ],
 "metadata": {
  "kernelspec": {
   "display_name": "Python 3",
   "language": "python",
   "name": "python3"
  },
  "language_info": {
   "codemirror_mode": {
    "name": "ipython",
    "version": 3
   },
   "file_extension": ".py",
   "mimetype": "text/x-python",
   "name": "python",
   "nbconvert_exporter": "python",
   "pygments_lexer": "ipython3",
   "version": "3.5.0"
  }
 },
 "nbformat": 4,
 "nbformat_minor": 0
}
