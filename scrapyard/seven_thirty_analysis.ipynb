{
 "cells": [
  {
   "cell_type": "markdown",
   "metadata": {},
   "source": [
    "# Results from 7/30 licensing program\n",
    "\n",
    "At the end of last year we changed our demo licensing program with the goals of:\n",
    "\n",
    "1. being able to better track sales evaluations\n",
    "2. having a mechanism to give customers and academics temporary licenses\n",
    "3. improving the ability of new users to get started right away\n",
    "\n",
    "This was difficult to evaluate through the holidays as they interfere with the standard usage patters but now that we're in the new year we want to start tracking this program and understanding whether it is achieving its goals.\n",
    "\n",
    "In the beginning we ran into some issues with academic users so I will only analyze the data from April 1 onwards.\n",
    "\n",
    "## Overall Summary"
   ]
  },
  {
   "cell_type": "code",
   "execution_count": 23,
   "metadata": {
    "collapsed": false
   },
   "outputs": [
    {
     "name": "stdout",
     "output_type": "stream",
     "text": [
      "This analysis covert licenses generated between 2017-04-01 and 2017-06-30\n",
      "524 7-day licenses were generated\n",
      "Of those, 244 were converted to something else, 271 just expired\n"
     ]
    }
   ],
   "source": [
    "print('This analysis covers licenses generated between', start_date, 'and', end_date)\n",
    "print('{} 7-day licenses were generated'.format(len(df[df.period==7].email.unique())))\n",
    "print('Of those, {} were converted to something else, {} just expired'.format(num_cvt, len(temp_users)-num_cvt))"
   ]
  },
  {
   "cell_type": "markdown",
   "metadata": {},
   "source": [
    "That include academic licenses though.  Once we will exclude academic users since our focus is on commercial evaluations."
   ]
  },
  {
   "cell_type": "code",
   "execution_count": 25,
   "metadata": {
    "collapsed": false
   },
   "outputs": [
    {
     "name": "stdout",
     "output_type": "stream",
     "text": [
      "Number of commercial demoers is 139\n"
     ]
    }
   ],
   "source": [
    "print('Number of commercial demoers is {}'.format(len(demos.email.unique())))"
   ]
  },
  {
   "cell_type": "markdown",
   "metadata": {},
   "source": [
    "## Self Identification\n",
    "\n",
    "These evaluators, at registration time, identify their interests.  Let's look at how they breakdown."
   ]
  },
  {
   "cell_type": "code",
   "execution_count": 26,
   "metadata": {
    "collapsed": false
   },
   "outputs": [
    {
     "name": "stdout",
     "output_type": "stream",
     "text": [
      "Breakdown by Application Interest\n"
     ]
    },
    {
     "data": {
      "text/plain": [
       "RF/Microwave Circuits        118\n",
       "RF/Communications Systems      9\n",
       "Academic                       7\n",
       "Name: applicationinterest, dtype: int64"
      ]
     },
     "execution_count": 26,
     "metadata": {},
     "output_type": "execute_result"
    }
   ],
   "source": [
    "print('Breakdown by Application Interest')\n",
    "demo_info.applicationinterest.value_counts()"
   ]
  },
  {
   "cell_type": "code",
   "execution_count": 27,
   "metadata": {
    "collapsed": false
   },
   "outputs": [
    {
     "name": "stdout",
     "output_type": "stream",
     "text": [
      "Breakdown by Design Technology\n"
     ]
    },
    {
     "data": {
      "text/plain": [
       "4:PCB                                 58\n",
       "4:Other                               24\n",
       "4:RFIC                                16\n",
       "4:Modules                             10\n",
       "4:MMIC                                10\n",
       "1:Classroom Instruction (Labs)         4\n",
       "3:Circuit and System Co-Simulation     3\n",
       "1:Mix of the Above                     3\n",
       "3:Other                                3\n",
       "3:Radar and Phased-Array               2\n",
       "3:5G/Communication Systems             1\n",
       "Name: designtechnology, dtype: int64"
      ]
     },
     "execution_count": 27,
     "metadata": {},
     "output_type": "execute_result"
    }
   ],
   "source": [
    "print('Breakdown by Design Technology')\n",
    "demo_info.designtechnology.value_counts()"
   ]
  },
  {
   "cell_type": "code",
   "execution_count": 28,
   "metadata": {
    "collapsed": false
   },
   "outputs": [
    {
     "name": "stdout",
     "output_type": "stream",
     "text": [
      "Breakdown by Design Focus\n"
     ]
    },
    {
     "data": {
      "text/plain": [
       "4:Other                         45\n",
       "4:Amplifiers                    36\n",
       "4:Filters                       27\n",
       "4:Mixers                         5\n",
       "4:Oscillators                    5\n",
       "1:RF/Microwave Circuits          4\n",
       "3:End-to-End Architecture        3\n",
       "3:RF/Microwave Front-End         3\n",
       "1:Mix of the Above               2\n",
       "3:Baseband Signal Processing     2\n",
       "1:RF/Communications Systems      1\n",
       "3:Other                          1\n",
       "Name: designfocus, dtype: int64"
      ]
     },
     "execution_count": 28,
     "metadata": {},
     "output_type": "execute_result"
    }
   ],
   "source": [
    "print('Breakdown by Design Focus')\n",
    "demo_info.designfocus.value_counts()"
   ]
  },
  {
   "cell_type": "markdown",
   "metadata": {
    "collapsed": true
   },
   "source": [
    "## Internal Categorization\n",
    "\n",
    "We also have some internal variables we can categorize them by."
   ]
  },
  {
   "cell_type": "code",
   "execution_count": 31,
   "metadata": {
    "collapsed": false
   },
   "outputs": [
    {
     "name": "stdout",
     "output_type": "stream",
     "text": [
      "Breakdown by Rep Territory\n"
     ]
    },
    {
     "data": {
      "text/plain": [
       "AWR-CN,BLC,CRI,UNI        17\n",
       "AWR-DE                    11\n",
       "ANE                       10\n",
       "AWR-SE                     9\n",
       "IDA                        9\n",
       "AWR-NW                     8\n",
       "AWR-UK                     8\n",
       "AWR-NE                     8\n",
       "WLB                        8\n",
       "AWR-RU,MIC,PEL,ROD,SOF     6\n",
       "AWR-SW                     5\n",
       "AWR-SP                     5\n",
       "AWR-AU                     4\n",
       "AWR-FR                     3\n",
       "SMC                        3\n",
       "AWR-KR                     3\n",
       "AWR-IT                     3\n",
       "CONTROL                    2\n",
       "AWR-CE                     2\n",
       "AWR-TSM,MTP                1\n",
       "VIM                        1\n",
       "AWR-EU                     1\n",
       "RSA                        1\n",
       "AWR-AP                     1\n",
       "NI-PL                      1\n",
       "AWR-AP,MTP                 1\n",
       "AWR-JP,NI-JP               1\n",
       "SOF                        1\n",
       "AWR-SP,DSC                 1\n",
       "Name: territory, dtype: int64"
      ]
     },
     "execution_count": 31,
     "metadata": {},
     "output_type": "execute_result"
    }
   ],
   "source": [
    "print('Breakdown by Rep Territory')\n",
    "demo_info.territory.value_counts()"
   ]
  },
  {
   "cell_type": "code",
   "execution_count": 32,
   "metadata": {
    "collapsed": false
   },
   "outputs": [
    {
     "name": "stdout",
     "output_type": "stream",
     "text": [
      "Breakdown by Sales Person\n"
     ]
    },
    {
     "data": {
      "text/plain": [
       "nbasha      34\n",
       "pxu         18\n",
       "firekonh    10\n",
       "smaynard     9\n",
       "uksania      8\n",
       "ukwallaa     8\n",
       "filambem     7\n",
       "vjensen      7\n",
       "dniven       7\n",
       "lnakamur     6\n",
       "rmcadam      6\n",
       "aoh          3\n",
       "pfagerud     3\n",
       "jgebhard     2\n",
       "cebertow     2\n",
       "grpelhao     2\n",
       "ntadokor     1\n",
       "ukkhant      1\n",
       "Name: gen_by, dtype: int64"
      ]
     },
     "execution_count": 32,
     "metadata": {},
     "output_type": "execute_result"
    }
   ],
   "source": [
    "print('Breakdown by Sales Person')\n",
    "demo_info.gen_by.value_counts()"
   ]
  },
  {
   "cell_type": "markdown",
   "metadata": {},
   "source": [
    "---\n",
    "# Analysis Details - Stop Reading Here"
   ]
  },
  {
   "cell_type": "code",
   "execution_count": 1,
   "metadata": {
    "collapsed": true
   },
   "outputs": [],
   "source": [
    "import sys\n",
    "sys.path.append('/Users/dane/src/datatools')\n",
    "import pandas as pd\n",
    "from dtutil.util import init_cdb\n",
    "from dtutil.sqltools import query_to_dataframe"
   ]
  },
  {
   "cell_type": "code",
   "execution_count": 2,
   "metadata": {
    "collapsed": false
   },
   "outputs": [
    {
     "name": "stdout",
     "output_type": "stream",
     "text": [
      "There are 776 records for 524 users\n"
     ]
    }
   ],
   "source": [
    "# look only at users that have received a 7-day license and get all their licenses\n",
    "start_date = '2017-04-01'\n",
    "end_date = '2017-06-30'\n",
    "conn = init_cdb()\n",
    "cursor = conn.cursor()\n",
    "query = \"\"\"\n",
    "select email, hostid, cast(gen_date as date) as gen, period, serial_num, description \n",
    "from lds_lic_history\n",
    "\tinner join lds_lic_types \n",
    "\t\ton lds_lic_history.lictypeid = lds_lic_types.lictypeid\n",
    "where email in (select distinct email from lds_lic_history where period=7 \n",
    "                and gen_date > '{0}')\n",
    "\tand gen_date between '{0}' and '{1}'\n",
    "order by email, gen\n",
    "\"\"\".format(start_date, end_date)\n",
    "df = query_to_dataframe(cursor, query)\n",
    "print('There are {} records for {} users'.format(len(df), len(df.email.unique())))"
   ]
  },
  {
   "cell_type": "code",
   "execution_count": 22,
   "metadata": {
    "collapsed": false
   },
   "outputs": [
    {
     "data": {
      "text/plain": [
       "524"
      ]
     },
     "execution_count": 22,
     "metadata": {},
     "output_type": "execute_result"
    }
   ],
   "source": [
    "len(df[df.period==7].email.unique())"
   ]
  },
  {
   "cell_type": "code",
   "execution_count": 4,
   "metadata": {
    "collapsed": false
   },
   "outputs": [
    {
     "name": "stdout",
     "output_type": "stream",
     "text": [
      "There were 521 temp licenses for 515 users generated\n"
     ]
    }
   ],
   "source": [
    "temp = df[df.description=='Temp']\n",
    "non_temp = df[df.period > 7]\n",
    "temp_users = temp.email.unique()\n",
    "print('There were {} temp licenses for {} users generated'.format(len(temp), len(temp_users)))"
   ]
  },
  {
   "cell_type": "code",
   "execution_count": 5,
   "metadata": {
    "collapsed": false
   },
   "outputs": [
    {
     "name": "stdout",
     "output_type": "stream",
     "text": [
      "Of those, 244 were converted to something else, 271 just expired\n"
     ]
    }
   ],
   "source": [
    "converted_users = non_temp[non_temp.email.isin(temp_users)]\n",
    "num_cvt = len(converted_users)\n",
    "print('Of those, {} were converted to something else, {} just expired'.format(num_cvt, len(temp_users)-num_cvt))"
   ]
  },
  {
   "cell_type": "code",
   "execution_count": 6,
   "metadata": {
    "collapsed": false
   },
   "outputs": [
    {
     "data": {
      "text/plain": [
       "Demo           157\n",
       "Educational     87\n",
       "Name: description, dtype: int64"
      ]
     },
     "execution_count": 6,
     "metadata": {},
     "output_type": "execute_result"
    }
   ],
   "source": [
    "converted_users.description.value_counts()"
   ]
  },
  {
   "cell_type": "code",
   "execution_count": 7,
   "metadata": {
    "collapsed": false
   },
   "outputs": [
    {
     "data": {
      "text/html": [
       "<div>\n",
       "<style>\n",
       "    .dataframe thead tr:only-child th {\n",
       "        text-align: right;\n",
       "    }\n",
       "\n",
       "    .dataframe thead th {\n",
       "        text-align: left;\n",
       "    }\n",
       "\n",
       "    .dataframe tbody tr th {\n",
       "        vertical-align: top;\n",
       "    }\n",
       "</style>\n",
       "<table border=\"1\" class=\"dataframe\">\n",
       "  <thead>\n",
       "    <tr style=\"text-align: right;\">\n",
       "      <th></th>\n",
       "      <th>email</th>\n",
       "      <th>hostid</th>\n",
       "      <th>gen</th>\n",
       "      <th>period</th>\n",
       "      <th>serial_num</th>\n",
       "      <th>description</th>\n",
       "    </tr>\n",
       "  </thead>\n",
       "  <tbody>\n",
       "    <tr>\n",
       "      <th>4</th>\n",
       "      <td>13608333720@163.com</td>\n",
       "      <td>28E347AD2028</td>\n",
       "      <td>2017-05-15</td>\n",
       "      <td>30</td>\n",
       "      <td>90064383</td>\n",
       "      <td>Demo</td>\n",
       "    </tr>\n",
       "    <tr>\n",
       "      <th>6</th>\n",
       "      <td>15211070500@163.com</td>\n",
       "      <td>201701261804</td>\n",
       "      <td>2017-04-28</td>\n",
       "      <td>30</td>\n",
       "      <td>90064035</td>\n",
       "      <td>Demo</td>\n",
       "    </tr>\n",
       "    <tr>\n",
       "      <th>9</th>\n",
       "      <td>18729098353@163.com</td>\n",
       "      <td>80A5895DE8A9</td>\n",
       "      <td>2017-04-28</td>\n",
       "      <td>30</td>\n",
       "      <td>90064126</td>\n",
       "      <td>Demo</td>\n",
       "    </tr>\n",
       "    <tr>\n",
       "      <th>11</th>\n",
       "      <td>1945055657@qq.com</td>\n",
       "      <td>847beb1cc68b</td>\n",
       "      <td>2017-04-28</td>\n",
       "      <td>30</td>\n",
       "      <td>90064188</td>\n",
       "      <td>Demo</td>\n",
       "    </tr>\n",
       "    <tr>\n",
       "      <th>13</th>\n",
       "      <td>1952729015@qq.com</td>\n",
       "      <td>DISK_SERIAL_NUM=524688cf</td>\n",
       "      <td>2017-04-28</td>\n",
       "      <td>30</td>\n",
       "      <td>90064104</td>\n",
       "      <td>Demo</td>\n",
       "    </tr>\n",
       "  </tbody>\n",
       "</table>\n",
       "</div>"
      ],
      "text/plain": [
       "                  email                    hostid         gen  period  \\\n",
       "4   13608333720@163.com              28E347AD2028  2017-05-15      30   \n",
       "6   15211070500@163.com              201701261804  2017-04-28      30   \n",
       "9   18729098353@163.com              80A5895DE8A9  2017-04-28      30   \n",
       "11    1945055657@qq.com              847beb1cc68b  2017-04-28      30   \n",
       "13    1952729015@qq.com  DISK_SERIAL_NUM=524688cf  2017-04-28      30   \n",
       "\n",
       "    serial_num description  \n",
       "4     90064383        Demo  \n",
       "6     90064035        Demo  \n",
       "9     90064126        Demo  \n",
       "11    90064188        Demo  \n",
       "13    90064104        Demo  "
      ]
     },
     "execution_count": 7,
     "metadata": {},
     "output_type": "execute_result"
    }
   ],
   "source": [
    "# let's drop the educational\n",
    "demos = converted_users[converted_users.description != 'Educational']\n",
    "demos.head(5)"
   ]
  },
  {
   "cell_type": "code",
   "execution_count": 8,
   "metadata": {
    "collapsed": false
   },
   "outputs": [
    {
     "name": "stdout",
     "output_type": "stream",
     "text": [
      "Number of actual demoers is 139\n"
     ]
    }
   ],
   "source": [
    "# that does not get all the academic\n",
    "from dtutil.util import EmailChecker\n",
    "checker = EmailChecker()\n",
    "\n",
    "l = []\n",
    "for email in demos.email.unique():\n",
    "    if checker.email_type(email) == 'academic':\n",
    "        l.append(email)\n",
    "demos = demos[~demos.email.isin(l)]\n",
    "print('Number of actual demoers is {}'.format(len(demos.email.unique())))"
   ]
  },
  {
   "cell_type": "code",
   "execution_count": 14,
   "metadata": {
    "collapsed": false
   },
   "outputs": [
    {
     "data": {
      "text/html": [
       "<div>\n",
       "<style>\n",
       "    .dataframe thead tr:only-child th {\n",
       "        text-align: right;\n",
       "    }\n",
       "\n",
       "    .dataframe thead th {\n",
       "        text-align: left;\n",
       "    }\n",
       "\n",
       "    .dataframe tbody tr th {\n",
       "        vertical-align: top;\n",
       "    }\n",
       "</style>\n",
       "<table border=\"1\" class=\"dataframe\">\n",
       "  <thead>\n",
       "    <tr style=\"text-align: right;\">\n",
       "      <th></th>\n",
       "      <th>territory</th>\n",
       "      <th>fullname</th>\n",
       "      <th>email</th>\n",
       "      <th>companyname</th>\n",
       "      <th>serial_num</th>\n",
       "      <th>gen_by</th>\n",
       "      <th>designfocus</th>\n",
       "      <th>applicationinterest</th>\n",
       "      <th>designtechnology</th>\n",
       "    </tr>\n",
       "  </thead>\n",
       "  <tbody>\n",
       "    <tr>\n",
       "      <th>0</th>\n",
       "      <td>AWR-FR</td>\n",
       "      <td>Plet, Sullivan</td>\n",
       "      <td>sullivan.plet@macom.com</td>\n",
       "      <td>Macom</td>\n",
       "      <td>90064469</td>\n",
       "      <td>pfagerud</td>\n",
       "      <td>4:Amplifiers</td>\n",
       "      <td>RF/Microwave Circuits</td>\n",
       "      <td>4:MMIC</td>\n",
       "    </tr>\n",
       "    <tr>\n",
       "      <th>1</th>\n",
       "      <td>AWR-KR</td>\n",
       "      <td>Kim, Eunseob</td>\n",
       "      <td>keslloddy@gmail.com</td>\n",
       "      <td>None</td>\n",
       "      <td>90064366</td>\n",
       "      <td>aoh</td>\n",
       "      <td>4:Amplifiers</td>\n",
       "      <td>RF/Microwave Circuits</td>\n",
       "      <td>4:MMIC</td>\n",
       "    </tr>\n",
       "    <tr>\n",
       "      <th>2</th>\n",
       "      <td>AWR-CN,BLC,CRI,UNI</td>\n",
       "      <td>pi, liming</td>\n",
       "      <td>piliming@ponted.com</td>\n",
       "      <td>SHENZHEN PONTED BIO-MED CO.,LTD.</td>\n",
       "      <td>90064219</td>\n",
       "      <td>pxu</td>\n",
       "      <td>4:Mixers</td>\n",
       "      <td>RF/Microwave Circuits</td>\n",
       "      <td>4:MMIC</td>\n",
       "    </tr>\n",
       "    <tr>\n",
       "      <th>3</th>\n",
       "      <td>IDA</td>\n",
       "      <td>Mallesh, Tvn</td>\n",
       "      <td>helatesting@hela.in</td>\n",
       "      <td>HBL Elta Avionics Systems Pvt. Ltd. - Hyderabad</td>\n",
       "      <td>90064340</td>\n",
       "      <td>nbasha</td>\n",
       "      <td>4:Amplifiers</td>\n",
       "      <td>RF/Microwave Circuits</td>\n",
       "      <td>4:MMIC</td>\n",
       "    </tr>\n",
       "    <tr>\n",
       "      <th>4</th>\n",
       "      <td>AWR-SW</td>\n",
       "      <td>Chamberlin, Richard</td>\n",
       "      <td>cham314@hotmail.com</td>\n",
       "      <td>None</td>\n",
       "      <td>90064038</td>\n",
       "      <td>lnakamur</td>\n",
       "      <td>4:Amplifiers</td>\n",
       "      <td>RF/Microwave Circuits</td>\n",
       "      <td>4:MMIC</td>\n",
       "    </tr>\n",
       "  </tbody>\n",
       "</table>\n",
       "</div>"
      ],
      "text/plain": [
       "            territory             fullname                    email  \\\n",
       "0              AWR-FR       Plet, Sullivan  sullivan.plet@macom.com   \n",
       "1              AWR-KR         Kim, Eunseob      keslloddy@gmail.com   \n",
       "2  AWR-CN,BLC,CRI,UNI           pi, liming      piliming@ponted.com   \n",
       "3                 IDA         Mallesh, Tvn      helatesting@hela.in   \n",
       "4              AWR-SW  Chamberlin, Richard      cham314@hotmail.com   \n",
       "\n",
       "                                       companyname  serial_num    gen_by  \\\n",
       "0                                            Macom    90064469  pfagerud   \n",
       "1                                             None    90064366       aoh   \n",
       "2                 SHENZHEN PONTED BIO-MED CO.,LTD.    90064219       pxu   \n",
       "3  HBL Elta Avionics Systems Pvt. Ltd. - Hyderabad    90064340    nbasha   \n",
       "4                                             None    90064038  lnakamur   \n",
       "\n",
       "    designfocus    applicationinterest designtechnology  \n",
       "0  4:Amplifiers  RF/Microwave Circuits           4:MMIC  \n",
       "1  4:Amplifiers  RF/Microwave Circuits           4:MMIC  \n",
       "2      4:Mixers  RF/Microwave Circuits           4:MMIC  \n",
       "3  4:Amplifiers  RF/Microwave Circuits           4:MMIC  \n",
       "4  4:Amplifiers  RF/Microwave Circuits           4:MMIC  "
      ]
     },
     "execution_count": 14,
     "metadata": {},
     "output_type": "execute_result"
    }
   ],
   "source": [
    "demo_emails = demos.email.unique()\n",
    "query = \"\"\"\n",
    "select CFSrepterritory as Territory, FullName, EmailAddress1 as Email, CompanyName, serial_num, gen_by,\n",
    "       df.value as DesignFocus, ai.value as ApplicationInterest, dt.value as DesignTechnology\n",
    "from lds_lic_history as h\n",
    "    inner join Applied_Wave_Research_MSCRM.dbo.LeadBase as lb  on h.leadid = lb.leadid\n",
    "    inner join Applied_Wave_Research_MSCRM.dbo.LeadExtensionBase as leb on lb.leadid = leb.leadid\n",
    "\tinner join Applied_Wave_Research_MSCRM.dbo.stringmap as df\n",
    "\t\ton df.attributename = 'awr_designfocus' and df.attributevalue = AWR_designfocus\n",
    "\tinner join Applied_Wave_Research_MSCRM.dbo.stringmap as ai\n",
    "\t\ton ai.attributename = 'awr_applicationinterest' and ai.attributevalue = AWR_applicationinterest\n",
    "\tinner join Applied_Wave_Research_MSCRM.dbo.stringmap as dt\n",
    "\t\ton dt.attributename = 'awr_designtechnology' and dt.attributevalue = AWR_designtechnology\n",
    "where EmailAddress1 in ( {} )\n",
    "and period != 7\n",
    "\"\"\".format(','.join([\"'{}'\".format(x) for x in demo_emails]))\n",
    "demo_info = query_to_dataframe(cursor, query)\n",
    "demo_info.head()"
   ]
  },
  {
   "cell_type": "code",
   "execution_count": null,
   "metadata": {
    "collapsed": true
   },
   "outputs": [],
   "source": []
  }
 ],
 "metadata": {
  "anaconda-cloud": {},
  "kernelspec": {
   "display_name": "Python 3",
   "language": "python",
   "name": "python3"
  },
  "language_info": {
   "codemirror_mode": {
    "name": "ipython",
    "version": 3
   },
   "file_extension": ".py",
   "mimetype": "text/x-python",
   "name": "python",
   "nbconvert_exporter": "python",
   "pygments_lexer": "ipython3",
   "version": "3.5.0"
  }
 },
 "nbformat": 4,
 "nbformat_minor": 1
}
