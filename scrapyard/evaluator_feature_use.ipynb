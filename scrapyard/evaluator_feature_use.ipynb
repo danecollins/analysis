{
 "cells": [
  {
   "cell_type": "code",
   "execution_count": 1,
   "metadata": {},
   "outputs": [],
   "source": [
    "import sys\n",
    "%matplotlib inline\n",
    "import matplotlib.pyplot as plt\n",
    "import numpy as np\n",
    "import pandas as pd\n",
    "import pylab\n",
    "pylab.rcParams['figure.figsize'] = (12,8)  # set default plot size"
   ]
  },
  {
   "cell_type": "code",
   "execution_count": 5,
   "metadata": {},
   "outputs": [
    {
     "name": "stdout",
     "output_type": "stream",
     "text": [
      "14577\n"
     ]
    },
    {
     "data": {
      "text/plain": [
       "Index(['Unnamed: 0', 'HB_aplac_b', 'HB_legacy_b', 'add_measurement_b',\n",
       "       'add_mwo_elem_b', 'add_sim_doc_b', 'add_vss_elem_b', 'ana_doc_b',\n",
       "       'ana_sim_n', 'antenna_b', 'board_import_b', 'cell_stretchers_b',\n",
       "       'commands_n', 'company', 'disp_name', 'ele_created_n', 'em_sim_b',\n",
       "       'ems_doc_b', 'ems_highcnt_b', 'ems_sim_n', 'enable_disable_b',\n",
       "       'extract_b', 'freeze_traces_b', 'gen_poly_b', 'ifilter_b', 'layout_b',\n",
       "       'layout_checks_b', 'lin_noise_b', 'lin_sim_n', 'load_pull_b',\n",
       "       'markers_b', 'measurements_n', 'no_sim_b', 'nonlin_sim_n', 'optim_b',\n",
       "       'osc_b', 'output_eq_b', 'pdk_b', 'schematic_eq_b', 'script_ide_b',\n",
       "       'scripts_b', 'stability_b', 'symbol_gen_b', 'transient_b', 'tuning_b',\n",
       "       'user_id', 'user_type', 'vss_doc_b', 'vss_rfb_b', 'vss_rfi_b',\n",
       "       'vss_rfp_b', 'vss_sim_n', 'week', 'xem_doc_b', 'xem_sim_n', 'xmodels_b',\n",
       "       'yield_b', 'activity', 'scope'],\n",
       "      dtype='object')"
      ]
     },
     "execution_count": 5,
     "metadata": {},
     "output_type": "execute_result"
    }
   ],
   "source": [
    "all_df = pd.read_csv('~/data/a/tlm/features/featured_user_weeks.csv')\n",
    "print(len(all_df))\n",
    "all_df.columns"
   ]
  },
  {
   "cell_type": "code",
   "execution_count": 8,
   "metadata": {},
   "outputs": [
    {
     "data": {
      "text/plain": [
       "customer    5520\n",
       "academic    4056\n",
       "internal    2374\n",
       "pirate      1126\n",
       "demo        1083\n",
       "licensed     270\n",
       "loan         144\n",
       "unknown        4\n",
       "Name: user_type, dtype: int64"
      ]
     },
     "execution_count": 8,
     "metadata": {},
     "output_type": "execute_result"
    }
   ],
   "source": [
    "all_df.user_type.value_counts()"
   ]
  },
  {
   "cell_type": "code",
   "execution_count": 57,
   "metadata": {},
   "outputs": [
    {
     "name": "stdout",
     "output_type": "stream",
     "text": [
      "1083\n",
      "1001\n",
      "858\n"
     ]
    }
   ],
   "source": [
    "# get only demoers\n",
    "demo_df = all_df[all_df.user_type == 'demo']\n",
    "print(len(demo_df))\n",
    "\n",
    "# let's keep only those in 2017\n",
    "demo_df = demo_df[demo_df.week >= 700]\n",
    "print(len(demo_df))\n",
    "\n",
    "# remove user-weeks that have basically no commands\n",
    "demo_df = demo_df[demo_df.commands_n >= 5]\n",
    "print(len(demo_df))"
   ]
  },
  {
   "cell_type": "code",
   "execution_count": 58,
   "metadata": {},
   "outputs": [],
   "source": [
    "total_denom = len(demo_df) / 100."
   ]
  },
  {
   "cell_type": "code",
   "execution_count": 59,
   "metadata": {},
   "outputs": [
    {
     "data": {
      "text/plain": [
       "29.13752913752914"
      ]
     },
     "execution_count": 59,
     "metadata": {},
     "output_type": "execute_result"
    }
   ],
   "source": [
    "len(demo_df[demo_df.xem_sim_n != 0]) / total_denom"
   ]
  },
  {
   "cell_type": "code",
   "execution_count": 60,
   "metadata": {},
   "outputs": [
    {
     "data": {
      "text/plain": [
       "12.587412587412587"
      ]
     },
     "execution_count": 60,
     "metadata": {},
     "output_type": "execute_result"
    }
   ],
   "source": [
    "len(demo_df[demo_df.ana_sim_n != 0]) / total_denom"
   ]
  },
  {
   "cell_type": "code",
   "execution_count": 61,
   "metadata": {},
   "outputs": [
    {
     "data": {
      "text/plain": [
       "12.237762237762238"
      ]
     },
     "execution_count": 61,
     "metadata": {},
     "output_type": "execute_result"
    }
   ],
   "source": [
    "len(demo_df[demo_df.vss_sim_n != 0]) / total_denom"
   ]
  },
  {
   "cell_type": "code",
   "execution_count": 62,
   "metadata": {},
   "outputs": [
    {
     "data": {
      "text/plain": [
       "15.384615384615385"
      ]
     },
     "execution_count": 62,
     "metadata": {},
     "output_type": "execute_result"
    }
   ],
   "source": [
    "len(demo_df[demo_df.nonlin_sim_n != 0]) / total_denom"
   ]
  },
  {
   "cell_type": "code",
   "execution_count": 63,
   "metadata": {},
   "outputs": [
    {
     "data": {
      "text/plain": [
       "68.06526806526807"
      ]
     },
     "execution_count": 63,
     "metadata": {},
     "output_type": "execute_result"
    }
   ],
   "source": [
    "len(demo_df[demo_df.lin_sim_n != 0]) / total_denom"
   ]
  },
  {
   "cell_type": "code",
   "execution_count": 64,
   "metadata": {},
   "outputs": [
    {
     "data": {
      "text/plain": [
       "29.72027972027972"
      ]
     },
     "execution_count": 64,
     "metadata": {},
     "output_type": "execute_result"
    }
   ],
   "source": [
    "len(demo_df[demo_df.layout_b != 0]) / total_denom"
   ]
  },
  {
   "cell_type": "code",
   "execution_count": 65,
   "metadata": {},
   "outputs": [
    {
     "data": {
      "text/plain": [
       "91.4918414918415"
      ]
     },
     "execution_count": 65,
     "metadata": {},
     "output_type": "execute_result"
    }
   ],
   "source": [
    "len(demo_df[demo_df.measurements_n != 0]) / total_denom"
   ]
  },
  {
   "cell_type": "code",
   "execution_count": 66,
   "metadata": {
    "collapsed": true
   },
   "outputs": [],
   "source": [
    "ic = ['week', 'user_id', 'scope', 'activity']"
   ]
  },
  {
   "cell_type": "code",
   "execution_count": 67,
   "metadata": {},
   "outputs": [
    {
     "name": "stdout",
     "output_type": "stream",
     "text": [
      "5520\n",
      "5026\n",
      "4481\n"
     ]
    }
   ],
   "source": [
    "# get only demoers\n",
    "demo_df = all_df[all_df.user_type == 'customer']\n",
    "print(len(demo_df))\n",
    "\n",
    "# let's keep only those in 2017\n",
    "demo_df = demo_df[demo_df.week >= 700]\n",
    "print(len(demo_df))\n",
    "\n",
    "# remove user-weeks that have basically no commands\n",
    "demo_df = demo_df[demo_df.commands_n >= 5]\n",
    "print(len(demo_df))"
   ]
  },
  {
   "cell_type": "code",
   "execution_count": 27,
   "metadata": {},
   "outputs": [
    {
     "data": {
      "text/html": [
       "<div>\n",
       "<style>\n",
       "    .dataframe thead tr:only-child th {\n",
       "        text-align: right;\n",
       "    }\n",
       "\n",
       "    .dataframe thead th {\n",
       "        text-align: left;\n",
       "    }\n",
       "\n",
       "    .dataframe tbody tr th {\n",
       "        vertical-align: top;\n",
       "    }\n",
       "</style>\n",
       "<table border=\"1\" class=\"dataframe\">\n",
       "  <thead>\n",
       "    <tr style=\"text-align: right;\">\n",
       "      <th></th>\n",
       "      <th>week</th>\n",
       "      <th>user_id</th>\n",
       "      <th>scope</th>\n",
       "      <th>activity</th>\n",
       "    </tr>\n",
       "  </thead>\n",
       "  <tbody>\n",
       "    <tr>\n",
       "      <th>2755</th>\n",
       "      <td>703</td>\n",
       "      <td>458</td>\n",
       "      <td>2.127660</td>\n",
       "      <td>0.040477</td>\n",
       "    </tr>\n",
       "    <tr>\n",
       "      <th>3199</th>\n",
       "      <td>702</td>\n",
       "      <td>529</td>\n",
       "      <td>0.000000</td>\n",
       "      <td>0.064901</td>\n",
       "    </tr>\n",
       "    <tr>\n",
       "      <th>3878</th>\n",
       "      <td>702</td>\n",
       "      <td>702</td>\n",
       "      <td>2.127660</td>\n",
       "      <td>0.029706</td>\n",
       "    </tr>\n",
       "    <tr>\n",
       "      <th>4058</th>\n",
       "      <td>702</td>\n",
       "      <td>745</td>\n",
       "      <td>0.000000</td>\n",
       "      <td>0.090766</td>\n",
       "    </tr>\n",
       "    <tr>\n",
       "      <th>4413</th>\n",
       "      <td>704</td>\n",
       "      <td>821</td>\n",
       "      <td>4.255319</td>\n",
       "      <td>0.061608</td>\n",
       "    </tr>\n",
       "    <tr>\n",
       "      <th>4837</th>\n",
       "      <td>704</td>\n",
       "      <td>889</td>\n",
       "      <td>0.000000</td>\n",
       "      <td>0.042330</td>\n",
       "    </tr>\n",
       "    <tr>\n",
       "      <th>4860</th>\n",
       "      <td>705</td>\n",
       "      <td>893</td>\n",
       "      <td>0.000000</td>\n",
       "      <td>0.058452</td>\n",
       "    </tr>\n",
       "    <tr>\n",
       "      <th>4861</th>\n",
       "      <td>706</td>\n",
       "      <td>893</td>\n",
       "      <td>0.000000</td>\n",
       "      <td>0.041644</td>\n",
       "    </tr>\n",
       "    <tr>\n",
       "      <th>5091</th>\n",
       "      <td>705</td>\n",
       "      <td>914</td>\n",
       "      <td>6.382979</td>\n",
       "      <td>0.094059</td>\n",
       "    </tr>\n",
       "    <tr>\n",
       "      <th>5184</th>\n",
       "      <td>705</td>\n",
       "      <td>935</td>\n",
       "      <td>10.638298</td>\n",
       "      <td>0.092206</td>\n",
       "    </tr>\n",
       "    <tr>\n",
       "      <th>5185</th>\n",
       "      <td>706</td>\n",
       "      <td>935</td>\n",
       "      <td>8.510638</td>\n",
       "      <td>0.048161</td>\n",
       "    </tr>\n",
       "    <tr>\n",
       "      <th>5258</th>\n",
       "      <td>706</td>\n",
       "      <td>950</td>\n",
       "      <td>4.255319</td>\n",
       "      <td>0.048916</td>\n",
       "    </tr>\n",
       "    <tr>\n",
       "      <th>5267</th>\n",
       "      <td>705</td>\n",
       "      <td>955</td>\n",
       "      <td>6.382979</td>\n",
       "      <td>0.092961</td>\n",
       "    </tr>\n",
       "    <tr>\n",
       "      <th>5619</th>\n",
       "      <td>730</td>\n",
       "      <td>1001</td>\n",
       "      <td>4.255319</td>\n",
       "      <td>0.053924</td>\n",
       "    </tr>\n",
       "    <tr>\n",
       "      <th>5940</th>\n",
       "      <td>707</td>\n",
       "      <td>1066</td>\n",
       "      <td>2.127660</td>\n",
       "      <td>0.051317</td>\n",
       "    </tr>\n",
       "    <tr>\n",
       "      <th>5971</th>\n",
       "      <td>707</td>\n",
       "      <td>1071</td>\n",
       "      <td>0.000000</td>\n",
       "      <td>0.007409</td>\n",
       "    </tr>\n",
       "    <tr>\n",
       "      <th>6125</th>\n",
       "      <td>708</td>\n",
       "      <td>1096</td>\n",
       "      <td>4.255319</td>\n",
       "      <td>0.086855</td>\n",
       "    </tr>\n",
       "    <tr>\n",
       "      <th>6685</th>\n",
       "      <td>712</td>\n",
       "      <td>1212</td>\n",
       "      <td>0.000000</td>\n",
       "      <td>0.012143</td>\n",
       "    </tr>\n",
       "    <tr>\n",
       "      <th>6686</th>\n",
       "      <td>713</td>\n",
       "      <td>1212</td>\n",
       "      <td>10.638298</td>\n",
       "      <td>0.090903</td>\n",
       "    </tr>\n",
       "    <tr>\n",
       "      <th>6824</th>\n",
       "      <td>713</td>\n",
       "      <td>1243</td>\n",
       "      <td>0.000000</td>\n",
       "      <td>0.002401</td>\n",
       "    </tr>\n",
       "    <tr>\n",
       "      <th>6825</th>\n",
       "      <td>714</td>\n",
       "      <td>1243</td>\n",
       "      <td>0.000000</td>\n",
       "      <td>0.061402</td>\n",
       "    </tr>\n",
       "    <tr>\n",
       "      <th>6827</th>\n",
       "      <td>717</td>\n",
       "      <td>1243</td>\n",
       "      <td>0.000000</td>\n",
       "      <td>0.002538</td>\n",
       "    </tr>\n",
       "    <tr>\n",
       "      <th>6925</th>\n",
       "      <td>710</td>\n",
       "      <td>1268</td>\n",
       "      <td>2.127660</td>\n",
       "      <td>0.003156</td>\n",
       "    </tr>\n",
       "    <tr>\n",
       "      <th>7890</th>\n",
       "      <td>717</td>\n",
       "      <td>1439</td>\n",
       "      <td>6.382979</td>\n",
       "      <td>0.058658</td>\n",
       "    </tr>\n",
       "    <tr>\n",
       "      <th>7958</th>\n",
       "      <td>713</td>\n",
       "      <td>1455</td>\n",
       "      <td>0.000000</td>\n",
       "      <td>0.023943</td>\n",
       "    </tr>\n",
       "    <tr>\n",
       "      <th>7969</th>\n",
       "      <td>720</td>\n",
       "      <td>1458</td>\n",
       "      <td>0.000000</td>\n",
       "      <td>0.065862</td>\n",
       "    </tr>\n",
       "    <tr>\n",
       "      <th>7991</th>\n",
       "      <td>713</td>\n",
       "      <td>1462</td>\n",
       "      <td>0.000000</td>\n",
       "      <td>0.066685</td>\n",
       "    </tr>\n",
       "    <tr>\n",
       "      <th>8060</th>\n",
       "      <td>713</td>\n",
       "      <td>1484</td>\n",
       "      <td>0.000000</td>\n",
       "      <td>0.023463</td>\n",
       "    </tr>\n",
       "    <tr>\n",
       "      <th>8096</th>\n",
       "      <td>715</td>\n",
       "      <td>1493</td>\n",
       "      <td>0.000000</td>\n",
       "      <td>0.022023</td>\n",
       "    </tr>\n",
       "    <tr>\n",
       "      <th>8180</th>\n",
       "      <td>716</td>\n",
       "      <td>1507</td>\n",
       "      <td>0.000000</td>\n",
       "      <td>0.022503</td>\n",
       "    </tr>\n",
       "    <tr>\n",
       "      <th>...</th>\n",
       "      <td>...</td>\n",
       "      <td>...</td>\n",
       "      <td>...</td>\n",
       "      <td>...</td>\n",
       "    </tr>\n",
       "    <tr>\n",
       "      <th>12800</th>\n",
       "      <td>723</td>\n",
       "      <td>5121</td>\n",
       "      <td>0.000000</td>\n",
       "      <td>0.009330</td>\n",
       "    </tr>\n",
       "    <tr>\n",
       "      <th>12940</th>\n",
       "      <td>723</td>\n",
       "      <td>5227</td>\n",
       "      <td>0.000000</td>\n",
       "      <td>0.047132</td>\n",
       "    </tr>\n",
       "    <tr>\n",
       "      <th>13056</th>\n",
       "      <td>723</td>\n",
       "      <td>5338</td>\n",
       "      <td>0.000000</td>\n",
       "      <td>0.046172</td>\n",
       "    </tr>\n",
       "    <tr>\n",
       "      <th>13292</th>\n",
       "      <td>724</td>\n",
       "      <td>5570</td>\n",
       "      <td>2.127660</td>\n",
       "      <td>0.073271</td>\n",
       "    </tr>\n",
       "    <tr>\n",
       "      <th>13372</th>\n",
       "      <td>726</td>\n",
       "      <td>5651</td>\n",
       "      <td>2.127660</td>\n",
       "      <td>0.092344</td>\n",
       "    </tr>\n",
       "    <tr>\n",
       "      <th>13411</th>\n",
       "      <td>724</td>\n",
       "      <td>5708</td>\n",
       "      <td>0.000000</td>\n",
       "      <td>0.046446</td>\n",
       "    </tr>\n",
       "    <tr>\n",
       "      <th>13415</th>\n",
       "      <td>728</td>\n",
       "      <td>5708</td>\n",
       "      <td>2.127660</td>\n",
       "      <td>0.046652</td>\n",
       "    </tr>\n",
       "    <tr>\n",
       "      <th>13422</th>\n",
       "      <td>725</td>\n",
       "      <td>5711</td>\n",
       "      <td>0.000000</td>\n",
       "      <td>0.073546</td>\n",
       "    </tr>\n",
       "    <tr>\n",
       "      <th>13625</th>\n",
       "      <td>725</td>\n",
       "      <td>6071</td>\n",
       "      <td>0.000000</td>\n",
       "      <td>0.071762</td>\n",
       "    </tr>\n",
       "    <tr>\n",
       "      <th>13636</th>\n",
       "      <td>724</td>\n",
       "      <td>6079</td>\n",
       "      <td>4.255319</td>\n",
       "      <td>0.071830</td>\n",
       "    </tr>\n",
       "    <tr>\n",
       "      <th>13640</th>\n",
       "      <td>730</td>\n",
       "      <td>6079</td>\n",
       "      <td>4.255319</td>\n",
       "      <td>0.034372</td>\n",
       "    </tr>\n",
       "    <tr>\n",
       "      <th>13672</th>\n",
       "      <td>725</td>\n",
       "      <td>6111</td>\n",
       "      <td>6.382979</td>\n",
       "      <td>0.071968</td>\n",
       "    </tr>\n",
       "    <tr>\n",
       "      <th>13707</th>\n",
       "      <td>725</td>\n",
       "      <td>6172</td>\n",
       "      <td>0.000000</td>\n",
       "      <td>0.091726</td>\n",
       "    </tr>\n",
       "    <tr>\n",
       "      <th>13859</th>\n",
       "      <td>726</td>\n",
       "      <td>6437</td>\n",
       "      <td>0.000000</td>\n",
       "      <td>0.030461</td>\n",
       "    </tr>\n",
       "    <tr>\n",
       "      <th>13918</th>\n",
       "      <td>726</td>\n",
       "      <td>6482</td>\n",
       "      <td>0.000000</td>\n",
       "      <td>0.098793</td>\n",
       "    </tr>\n",
       "    <tr>\n",
       "      <th>13936</th>\n",
       "      <td>726</td>\n",
       "      <td>6500</td>\n",
       "      <td>0.000000</td>\n",
       "      <td>0.031559</td>\n",
       "    </tr>\n",
       "    <tr>\n",
       "      <th>14060</th>\n",
       "      <td>727</td>\n",
       "      <td>6664</td>\n",
       "      <td>0.000000</td>\n",
       "      <td>0.080612</td>\n",
       "    </tr>\n",
       "    <tr>\n",
       "      <th>14087</th>\n",
       "      <td>727</td>\n",
       "      <td>6707</td>\n",
       "      <td>8.510638</td>\n",
       "      <td>0.093441</td>\n",
       "    </tr>\n",
       "    <tr>\n",
       "      <th>14285</th>\n",
       "      <td>728</td>\n",
       "      <td>7041</td>\n",
       "      <td>4.255319</td>\n",
       "      <td>0.039791</td>\n",
       "    </tr>\n",
       "    <tr>\n",
       "      <th>14341</th>\n",
       "      <td>729</td>\n",
       "      <td>7126</td>\n",
       "      <td>0.000000</td>\n",
       "      <td>0.040821</td>\n",
       "    </tr>\n",
       "    <tr>\n",
       "      <th>14356</th>\n",
       "      <td>729</td>\n",
       "      <td>7145</td>\n",
       "      <td>0.000000</td>\n",
       "      <td>0.040752</td>\n",
       "    </tr>\n",
       "    <tr>\n",
       "      <th>14379</th>\n",
       "      <td>729</td>\n",
       "      <td>7181</td>\n",
       "      <td>6.382979</td>\n",
       "      <td>0.079446</td>\n",
       "    </tr>\n",
       "    <tr>\n",
       "      <th>14430</th>\n",
       "      <td>729</td>\n",
       "      <td>7280</td>\n",
       "      <td>0.000000</td>\n",
       "      <td>0.038145</td>\n",
       "    </tr>\n",
       "    <tr>\n",
       "      <th>14441</th>\n",
       "      <td>729</td>\n",
       "      <td>7295</td>\n",
       "      <td>0.000000</td>\n",
       "      <td>0.036430</td>\n",
       "    </tr>\n",
       "    <tr>\n",
       "      <th>14500</th>\n",
       "      <td>730</td>\n",
       "      <td>7464</td>\n",
       "      <td>10.638298</td>\n",
       "      <td>0.035538</td>\n",
       "    </tr>\n",
       "    <tr>\n",
       "      <th>14532</th>\n",
       "      <td>731</td>\n",
       "      <td>7530</td>\n",
       "      <td>4.255319</td>\n",
       "      <td>0.082533</td>\n",
       "    </tr>\n",
       "    <tr>\n",
       "      <th>14543</th>\n",
       "      <td>730</td>\n",
       "      <td>7539</td>\n",
       "      <td>6.382979</td>\n",
       "      <td>0.091383</td>\n",
       "    </tr>\n",
       "    <tr>\n",
       "      <th>14567</th>\n",
       "      <td>731</td>\n",
       "      <td>7589</td>\n",
       "      <td>4.255319</td>\n",
       "      <td>0.037047</td>\n",
       "    </tr>\n",
       "    <tr>\n",
       "      <th>14571</th>\n",
       "      <td>731</td>\n",
       "      <td>7596</td>\n",
       "      <td>4.255319</td>\n",
       "      <td>0.081778</td>\n",
       "    </tr>\n",
       "    <tr>\n",
       "      <th>14572</th>\n",
       "      <td>731</td>\n",
       "      <td>7597</td>\n",
       "      <td>6.382979</td>\n",
       "      <td>0.081710</td>\n",
       "    </tr>\n",
       "  </tbody>\n",
       "</table>\n",
       "<p>118 rows × 4 columns</p>\n",
       "</div>"
      ],
      "text/plain": [
       "       week  user_id      scope  activity\n",
       "2755    703      458   2.127660  0.040477\n",
       "3199    702      529   0.000000  0.064901\n",
       "3878    702      702   2.127660  0.029706\n",
       "4058    702      745   0.000000  0.090766\n",
       "4413    704      821   4.255319  0.061608\n",
       "4837    704      889   0.000000  0.042330\n",
       "4860    705      893   0.000000  0.058452\n",
       "4861    706      893   0.000000  0.041644\n",
       "5091    705      914   6.382979  0.094059\n",
       "5184    705      935  10.638298  0.092206\n",
       "5185    706      935   8.510638  0.048161\n",
       "5258    706      950   4.255319  0.048916\n",
       "5267    705      955   6.382979  0.092961\n",
       "5619    730     1001   4.255319  0.053924\n",
       "5940    707     1066   2.127660  0.051317\n",
       "5971    707     1071   0.000000  0.007409\n",
       "6125    708     1096   4.255319  0.086855\n",
       "6685    712     1212   0.000000  0.012143\n",
       "6686    713     1212  10.638298  0.090903\n",
       "6824    713     1243   0.000000  0.002401\n",
       "6825    714     1243   0.000000  0.061402\n",
       "6827    717     1243   0.000000  0.002538\n",
       "6925    710     1268   2.127660  0.003156\n",
       "7890    717     1439   6.382979  0.058658\n",
       "7958    713     1455   0.000000  0.023943\n",
       "7969    720     1458   0.000000  0.065862\n",
       "7991    713     1462   0.000000  0.066685\n",
       "8060    713     1484   0.000000  0.023463\n",
       "8096    715     1493   0.000000  0.022023\n",
       "8180    716     1507   0.000000  0.022503\n",
       "...     ...      ...        ...       ...\n",
       "12800   723     5121   0.000000  0.009330\n",
       "12940   723     5227   0.000000  0.047132\n",
       "13056   723     5338   0.000000  0.046172\n",
       "13292   724     5570   2.127660  0.073271\n",
       "13372   726     5651   2.127660  0.092344\n",
       "13411   724     5708   0.000000  0.046446\n",
       "13415   728     5708   2.127660  0.046652\n",
       "13422   725     5711   0.000000  0.073546\n",
       "13625   725     6071   0.000000  0.071762\n",
       "13636   724     6079   4.255319  0.071830\n",
       "13640   730     6079   4.255319  0.034372\n",
       "13672   725     6111   6.382979  0.071968\n",
       "13707   725     6172   0.000000  0.091726\n",
       "13859   726     6437   0.000000  0.030461\n",
       "13918   726     6482   0.000000  0.098793\n",
       "13936   726     6500   0.000000  0.031559\n",
       "14060   727     6664   0.000000  0.080612\n",
       "14087   727     6707   8.510638  0.093441\n",
       "14285   728     7041   4.255319  0.039791\n",
       "14341   729     7126   0.000000  0.040821\n",
       "14356   729     7145   0.000000  0.040752\n",
       "14379   729     7181   6.382979  0.079446\n",
       "14430   729     7280   0.000000  0.038145\n",
       "14441   729     7295   0.000000  0.036430\n",
       "14500   730     7464  10.638298  0.035538\n",
       "14532   731     7530   4.255319  0.082533\n",
       "14543   730     7539   6.382979  0.091383\n",
       "14567   731     7589   4.255319  0.037047\n",
       "14571   731     7596   4.255319  0.081778\n",
       "14572   731     7597   6.382979  0.081710\n",
       "\n",
       "[118 rows x 4 columns]"
      ]
     },
     "execution_count": 27,
     "metadata": {},
     "output_type": "execute_result"
    }
   ],
   "source": [
    "demo_df[demo_df.commands_n < 4][ic]"
   ]
  },
  {
   "cell_type": "code",
   "execution_count": null,
   "metadata": {
    "collapsed": true
   },
   "outputs": [],
   "source": []
  }
 ],
 "metadata": {
  "kernelspec": {
   "display_name": "Python 3",
   "language": "python",
   "name": "python3"
  },
  "language_info": {
   "codemirror_mode": {
    "name": "ipython",
    "version": 3
   },
   "file_extension": ".py",
   "mimetype": "text/x-python",
   "name": "python",
   "nbconvert_exporter": "python",
   "pygments_lexer": "ipython3",
   "version": "3.4.1"
  }
 },
 "nbformat": 4,
 "nbformat_minor": 1
}
