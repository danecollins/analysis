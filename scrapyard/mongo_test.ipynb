{
 "cells": [
  {
   "cell_type": "code",
   "execution_count": 1,
   "metadata": {},
   "outputs": [],
   "source": [
    "import pandas as pd\n",
    "import numpy as np\n",
    "import matplotlib.pyplot as plt\n",
    "%matplotlib inline\n",
    "import xlrd"
   ]
  },
  {
   "cell_type": "markdown",
   "metadata": {},
   "source": [
    "## Load Data into Mongo"
   ]
  },
  {
   "cell_type": "code",
   "execution_count": 2,
   "metadata": {},
   "outputs": [
    {
     "data": {
      "text/html": [
       "<div>\n",
       "<style scoped>\n",
       "    .dataframe tbody tr th:only-of-type {\n",
       "        vertical-align: middle;\n",
       "    }\n",
       "\n",
       "    .dataframe tbody tr th {\n",
       "        vertical-align: top;\n",
       "    }\n",
       "\n",
       "    .dataframe thead th {\n",
       "        text-align: right;\n",
       "    }\n",
       "</style>\n",
       "<table border=\"1\" class=\"dataframe\">\n",
       "  <thead>\n",
       "    <tr style=\"text-align: right;\">\n",
       "      <th></th>\n",
       "      <th>ACTIVITYID</th>\n",
       "      <th>PGID</th>\n",
       "      <th>OID</th>\n",
       "      <th>RPID</th>\n",
       "      <th>PATID</th>\n",
       "      <th>USERID</th>\n",
       "      <th>SESSIONID</th>\n",
       "      <th>WEBSERVERIP</th>\n",
       "      <th>REMOTEIP</th>\n",
       "      <th>PAGENAME</th>\n",
       "      <th>CREATEDON</th>\n",
       "    </tr>\n",
       "  </thead>\n",
       "  <tbody>\n",
       "    <tr>\n",
       "      <th>0</th>\n",
       "      <td>1875082</td>\n",
       "      <td>40081</td>\n",
       "      <td>100</td>\n",
       "      <td>0</td>\n",
       "      <td>0</td>\n",
       "      <td>USER40081</td>\n",
       "      <td>pgdwm055edgvwqf5kb2rzg55</td>\n",
       "      <td>XXX.XX.XXX.110</td>\n",
       "      <td>172.130.400.165</td>\n",
       "      <td>Login - 172.130.400.165</td>\n",
       "      <td>2019-03-24 18:04:29.030</td>\n",
       "    </tr>\n",
       "    <tr>\n",
       "      <th>1</th>\n",
       "      <td>1875083</td>\n",
       "      <td>40081</td>\n",
       "      <td>100</td>\n",
       "      <td>0</td>\n",
       "      <td>0</td>\n",
       "      <td>USER40081</td>\n",
       "      <td>pgdwm055edgvwqf5kb2rzg55</td>\n",
       "      <td>XXX.XX.XXX.110</td>\n",
       "      <td>172.130.400.165</td>\n",
       "      <td>SearchPatients</td>\n",
       "      <td>2019-03-24 18:04:29.077</td>\n",
       "    </tr>\n",
       "  </tbody>\n",
       "</table>\n",
       "</div>"
      ],
      "text/plain": [
       "   ACTIVITYID   PGID  OID  RPID  PATID     USERID                 SESSIONID  \\\n",
       "0     1875082  40081  100     0      0  USER40081  pgdwm055edgvwqf5kb2rzg55   \n",
       "1     1875083  40081  100     0      0  USER40081  pgdwm055edgvwqf5kb2rzg55   \n",
       "\n",
       "      WEBSERVERIP         REMOTEIP                 PAGENAME  \\\n",
       "0  XXX.XX.XXX.110  172.130.400.165  Login - 172.130.400.165   \n",
       "1  XXX.XX.XXX.110  172.130.400.165           SearchPatients   \n",
       "\n",
       "                CREATEDON  \n",
       "0 2019-03-24 18:04:29.030  \n",
       "1 2019-03-24 18:04:29.077  "
      ]
     },
     "execution_count": 2,
     "metadata": {},
     "output_type": "execute_result"
    }
   ],
   "source": [
    "# read in spreadsheet\n",
    "df = pd.read_excel('TestData.xlsx', skiprows=2, engine='openpyxl')\n",
    "df.head(2)"
   ]
  },
  {
   "cell_type": "code",
   "execution_count": 5,
   "metadata": {},
   "outputs": [],
   "source": [
    "from pymongo import MongoClient\n",
    "import pprint"
   ]
  },
  {
   "cell_type": "code",
   "execution_count": 6,
   "metadata": {},
   "outputs": [],
   "source": [
    "# Connect to database\n",
    "client = MongoClient('mongodb://localhost:27017/')"
   ]
  },
  {
   "cell_type": "code",
   "execution_count": 9,
   "metadata": {},
   "outputs": [],
   "source": [
    "# Create a collection\n",
    "db = client.testdata\n",
    "collection = db['rawdata']"
   ]
  },
  {
   "cell_type": "code",
   "execution_count": 51,
   "metadata": {},
   "outputs": [
    {
     "data": {
      "text/plain": [
       "{'ACTIVITYID': 2074074,\n",
       " 'PGID': 40081,\n",
       " 'OID': 100,\n",
       " 'RPID': 155,\n",
       " 'PATID': 163,\n",
       " 'USERID': 'USER_N',\n",
       " 'SESSIONID': 'mrcjgjm2kvrakv45mcxelgbk',\n",
       " 'WEBSERVERIP': 'XXX.XX.XXX.107',\n",
       " 'REMOTEIP': '172.130.400.165',\n",
       " 'PAGENAME': 'NewReports',\n",
       " 'CREATEDON': Timestamp('2021-10-28 09:51:24.870000')}"
      ]
     },
     "execution_count": 51,
     "metadata": {},
     "output_type": "execute_result"
    }
   ],
   "source": [
    "row.to_dict()"
   ]
  },
  {
   "cell_type": "code",
   "execution_count": 12,
   "metadata": {},
   "outputs": [],
   "source": [
    "# insert all the data\n",
    "for k, row in df.iterrows():\n",
    "    collection.insert_one(row.to_dict())"
   ]
  },
  {
   "cell_type": "markdown",
   "metadata": {},
   "source": [
    "## Perform some simple queries"
   ]
  },
  {
   "cell_type": "code",
   "execution_count": 52,
   "metadata": {},
   "outputs": [
    {
     "data": {
      "text/plain": [
       "['rawdata']"
      ]
     },
     "execution_count": 52,
     "metadata": {},
     "output_type": "execute_result"
    }
   ],
   "source": [
    "db.list_collection_names()"
   ]
  },
  {
   "cell_type": "code",
   "execution_count": 20,
   "metadata": {},
   "outputs": [
    {
     "data": {
      "text/plain": [
       "19057"
      ]
     },
     "execution_count": 20,
     "metadata": {},
     "output_type": "execute_result"
    }
   ],
   "source": [
    "# see how many rows there are\n",
    "len(list(db.rawdata.find()))"
   ]
  },
  {
   "cell_type": "code",
   "execution_count": 48,
   "metadata": {},
   "outputs": [
    {
     "data": {
      "text/plain": [
       "[{'_id': ObjectId('6269ae3069ffd1901615fae5'),\n",
       "  'ACTIVITYID': 1875083,\n",
       "  'PGID': 40081,\n",
       "  'OID': 100,\n",
       "  'RPID': 0,\n",
       "  'PATID': 0,\n",
       "  'USERID': 'USER40081',\n",
       "  'SESSIONID': 'pgdwm055edgvwqf5kb2rzg55',\n",
       "  'WEBSERVERIP': 'XXX.XX.XXX.110',\n",
       "  'REMOTEIP': '172.130.400.165',\n",
       "  'PAGENAME': 'SearchPatients',\n",
       "  'CREATEDON': datetime.datetime(2019, 3, 24, 18, 4, 29, 77000)}]"
      ]
     },
     "execution_count": 48,
     "metadata": {},
     "output_type": "execute_result"
    }
   ],
   "source": [
    "# look at one raw record\n",
    "list(db.rawdata.find({\"ACTIVITYID\": 1875083}))"
   ]
  },
  {
   "cell_type": "code",
   "execution_count": 34,
   "metadata": {},
   "outputs": [
    {
     "data": {
      "text/plain": [
       "1239"
      ]
     },
     "execution_count": 34,
     "metadata": {},
     "output_type": "execute_result"
    }
   ],
   "source": [
    "# how many sessions\n",
    "len(db.rawdata.distinct('SESSIONID'))"
   ]
  },
  {
   "cell_type": "code",
   "execution_count": 44,
   "metadata": {},
   "outputs": [
    {
     "data": {
      "text/plain": [
       "[{'_id': 'USER_N', 'pages': 16601},\n",
       " {'_id': 'USER40081', 'pages': 1245},\n",
       " {'_id': 'USER_1', 'pages': 696},\n",
       " {'_id': 'BPKUSER', 'pages': 265},\n",
       " {'_id': 'USER_4', 'pages': 133},\n",
       " {'_id': 'USER_PRO', 'pages': 88},\n",
       " {'_id': 'USER_3', 'pages': 20},\n",
       " {'_id': 'USER_2', 'pages': 9}]"
      ]
     },
     "execution_count": 44,
     "metadata": {},
     "output_type": "execute_result"
    }
   ],
   "source": [
    "# how many pages per user\n",
    "list(db.rawdata.aggregate([\n",
    "                     { \"$group\": { \"_id\": \"$USERID\", \"pages\": { \"$count\": {} } } },\n",
    "                     { \"$sort\": { \"pages\": -1 } }\n",
    "                   ]))"
   ]
  },
  {
   "cell_type": "markdown",
   "metadata": {},
   "source": [
    "## Anonymize user id"
   ]
  },
  {
   "cell_type": "code",
   "execution_count": 49,
   "metadata": {},
   "outputs": [
    {
     "data": {
      "text/plain": [
       "['BPKUSER',\n",
       " 'USER40081',\n",
       " 'USER_1',\n",
       " 'USER_2',\n",
       " 'USER_3',\n",
       " 'USER_4',\n",
       " 'USER_N',\n",
       " 'USER_PRO']"
      ]
     },
     "execution_count": 49,
     "metadata": {},
     "output_type": "execute_result"
    }
   ],
   "source": [
    "db.rawdata.distinct('USERID')"
   ]
  },
  {
   "cell_type": "code",
   "execution_count": 31,
   "metadata": {},
   "outputs": [
    {
     "data": {
      "text/plain": [
       "<pymongo.results.UpdateResult at 0x7f87bbc79f28>"
      ]
     },
     "execution_count": 31,
     "metadata": {},
     "output_type": "execute_result"
    }
   ],
   "source": [
    "db.rawdata.update_many(\n",
    "    {\"USERID\": 'EN-USER'}, \n",
    "    {\"$set\": {\"USERID\": \"USER_1\"}})\n",
    "db.rawdata.update_many(\n",
    "    {\"USERID\": 'TESTRAHUL4'}, \n",
    "    {\"$set\": {\"USERID\": \"USER_3\"}})\n",
    "db.rawdata.update_many(\n",
    "    {\"USERID\": 'USERVBS'}, \n",
    "    {\"$set\": {\"USERID\": \"USER_4\"}})"
   ]
  },
  {
   "cell_type": "markdown",
   "metadata": {},
   "source": []
  }
 ],
 "metadata": {
  "hide_input": false,
  "kernelspec": {
   "display_name": "Python 3",
   "language": "python",
   "name": "python3"
  },
  "language_info": {
   "codemirror_mode": {
    "name": "ipython",
    "version": 3
   },
   "file_extension": ".py",
   "mimetype": "text/x-python",
   "name": "python",
   "nbconvert_exporter": "python",
   "pygments_lexer": "ipython3",
   "version": "3.6.6"
  }
 },
 "nbformat": 4,
 "nbformat_minor": 4
}
