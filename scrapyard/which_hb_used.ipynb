{
 "cells": [
  {
   "cell_type": "markdown",
   "metadata": {
    "button": false,
    "new_sheet": false,
    "run_control": {
     "read_only": false
    }
   },
   "source": [
    "# Legacy vs Aplac HB use\n",
    "\n",
    "There is still significant legacy HB use and it is desirable to understand this use more.  These are the users that have used only the legacy HB engine with the number of user-weeks in which they have used it.\n",
    "\n",
    "Analysis date: **August 27, 2017**"
   ]
  },
  {
   "cell_type": "code",
   "execution_count": 31,
   "metadata": {},
   "outputs": [
    {
     "name": "stdout",
     "output_type": "stream",
     "text": [
      "MA043304 @ MA-Com at MACOM Technology Solutions, Inc. - MA, weeks=24\n",
      "id=4110 at Friends, weeks=13\n",
      "Hailing Yue? at Qorvo FL at Qorvo - FL, weeks=11\n",
      "Maxime Malnou at University of Colorado at Boulder - Department of Electrical Engineering, weeks=9\n",
      "Claudio Jarufe at Universidad de Chile, weeks=9\n",
      "Claudio Jarufe at Universidad de Chile, weeks=9\n",
      "id=1019 at Exodus Advanced Communications, weeks=8\n",
      "Adam @ Spaceforest at Spaceforest, weeks=7\n",
      "Bryce Hotalen @ Qorvo FL at Qorvo - FL, weeks=7\n",
      "Idan Peretz at Technion Israel Institute of Technology - Engineering Department Communications Lab, weeks=7\n",
      "id=3643 at Qorvo/RF Micro Devices, Inc. - Greensboro, weeks=7\n",
      "John Stensby at University of Alabama in Huntsville, weeks=7\n",
      "Didier Balfet at Sigfox, weeks=7\n",
      "sasha rajcevich at University of Utah, weeks=6\n",
      "Kazuki Ishihara at Sophia University, weeks=6\n",
      "Xufeng Du at University of Technology Dresden, weeks=6\n",
      "Edan Alpern at University of Pittsburgh, weeks=6\n",
      "koffi Cornelis at DEV TECNOLOGIA INDUSTRIA, COMERCIO E MANUTENCAO DE EQUIPAMENTOS LTDA. - ME, weeks=6\n",
      "Simone Ranaldi at Universita di Roma La Sapienza - Department of Electrical Engineering, weeks=6\n",
      "Torben Teichert at Fachhochschule Kiel - University of Applied Sciences, weeks=6\n",
      "Pirate Sergey Bogdanov at Friends, weeks=5\n",
      "Isabella Bedford @ Modelithics at Modelithics, Inc, weeks=5\n",
      "id=1271 at Universidad Politecnica De Madrid (UPM) - Escuela Universitaria de Ingeniería Técnica de Telecomunicación (EUITT), weeks=5\n",
      "Mehdi Arabizadeh at Macquarie University - Department of Electronics, weeks=5\n",
      "Burak ?ahin at Istanbul Technical University - Faculty of Electrical and Electronic Engineering, weeks=5\n",
      "Ciaran Marmion at Qorvo at Qorvo/TriQuint Semiconductor - Hillsboro, OR, weeks=4\n",
      "id=674 at Ficosa International S.A., weeks=4\n",
      "id=696 at Comdel Inc., weeks=4\n",
      "Martin Laabs at University of Technology Dresden, weeks=4\n",
      "Peter Binns @ Skyware at Skyware Technologies UK Ltd., weeks=4\n",
      "id=968 at National Institute of Nuclear Physics (INFN) - Bologna, weeks=4\n",
      "Enrique Lluesma at Universidad Politecnica de Valencia, weeks=4\n",
      "Nikhil Joshi @ Qorvo FL at Qorvo - FL, weeks=4\n",
      "Antonio Castellanos at Universidad Politecnica de Valencia, weeks=4\n",
      "izel odaba?? at Istanbul Technical University - Faculty of Electrical and Electronic Engineering, weeks=4\n",
      "yasuaki hasegawa at Nippon Antenna, weeks=4\n",
      "id=6550 at KMW, Inc. - Head Office, weeks=4\n"
     ]
    }
   ],
   "source": [
    "for w, u in sorted(users, key=lambda x: x[0], reverse=True):\n",
    "    print(u)"
   ]
  },
  {
   "cell_type": "markdown",
   "metadata": {},
   "source": [
    "----\n",
    "\n",
    "# Analysis"
   ]
  },
  {
   "cell_type": "code",
   "execution_count": 15,
   "metadata": {
    "button": false,
    "new_sheet": false,
    "run_control": {
     "read_only": false
    }
   },
   "outputs": [
    {
     "data": {
      "text/plain": [
       "13642"
      ]
     },
     "execution_count": 15,
     "metadata": {},
     "output_type": "execute_result"
    }
   ],
   "source": [
    "datadir = '/Users/dane/data/a/'\n",
    "import pandas as pd\n",
    "# featured data only includes external users\n",
    "df = pd.read_csv(datadir + 'tlm/features/featured_user_weeks.csv', encoding='latin1')\n",
    "\n",
    "# remove all the internal use\n",
    "df = df[df.user_type != 'internal']\n",
    "len(df)"
   ]
  },
  {
   "cell_type": "code",
   "execution_count": 16,
   "metadata": {
    "button": false,
    "new_sheet": false,
    "run_control": {
     "read_only": false
    }
   },
   "outputs": [
    {
     "data": {
      "text/plain": [
       "Index(['Unnamed: 0', 'HB_aplac_b', 'HB_legacy_b', 'add_measurement_b',\n",
       "       'add_mwo_elem_b', 'add_sim_doc_b', 'add_vss_elem_b', 'ana_doc_b',\n",
       "       'ana_sim_n', 'antenna_b', 'board_import_b', 'cell_stretchers_b',\n",
       "       'commands_n', 'company', 'disp_name', 'ele_created_n', 'em_sim_b',\n",
       "       'ems_doc_b', 'ems_highcnt_b', 'ems_sim_n', 'enable_disable_b',\n",
       "       'extract_b', 'freeze_traces_b', 'gen_poly_b', 'ifilter_b', 'layout_b',\n",
       "       'layout_checks_b', 'lin_noise_b', 'lin_sim_n', 'load_pull_b',\n",
       "       'markers_b', 'measurements_n', 'no_sim_b', 'nonlin_sim_n', 'optim_b',\n",
       "       'osc_b', 'output_eq_b', 'pdk_b', 'schematic_eq_b', 'script_ide_b',\n",
       "       'scripts_b', 'stability_b', 'symbol_gen_b', 'transient_b', 'tuning_b',\n",
       "       'user_id', 'user_type', 'vss_doc_b', 'vss_rfb_b', 'vss_rfi_b',\n",
       "       'vss_rfp_b', 'vss_sim_n', 'week', 'xem_doc_b', 'xem_sim_n', 'xmodels_b',\n",
       "       'yield_b', 'activity', 'scope'],\n",
       "      dtype='object')"
      ]
     },
     "execution_count": 16,
     "metadata": {},
     "output_type": "execute_result"
    }
   ],
   "source": [
    "df.columns"
   ]
  },
  {
   "cell_type": "code",
   "execution_count": 17,
   "metadata": {
    "button": false,
    "collapsed": true,
    "new_sheet": false,
    "run_control": {
     "read_only": false
    }
   },
   "outputs": [],
   "source": [
    "# collect up HB counts, sum gives number of weeks\n",
    "all_hb = df[['user_id', 'HB_legacy_b', 'HB_aplac_b']].groupby('user_id').sum()\n",
    "\n",
    "# remove empty\n",
    "mask = (all_hb.HB_legacy_b == 0) & (all_hb.HB_aplac_b == 0)\n",
    "with_hb = all_hb[~mask]"
   ]
  },
  {
   "cell_type": "code",
   "execution_count": 18,
   "metadata": {
    "button": false,
    "new_sheet": false,
    "run_control": {
     "read_only": false
    }
   },
   "outputs": [
    {
     "name": "stdout",
     "output_type": "stream",
     "text": [
      "Users using only legacy HB 324\n",
      "Users using only Aplac HB 127\n",
      "Users using both 213\n"
     ]
    }
   ],
   "source": [
    "mask_l = with_hb.HB_legacy_b != 0\n",
    "mask_a = with_hb.HB_aplac_b != 0\n",
    "print( 'Users using only legacy HB', len(with_hb[mask_l & ~mask_a]))\n",
    "print( 'Users using only Aplac HB', len(with_hb[~mask_l & mask_a]))\n",
    "print( 'Users using both', len(with_hb[mask_l & mask_a]))"
   ]
  },
  {
   "cell_type": "markdown",
   "metadata": {
    "button": false,
    "new_sheet": false,
    "run_control": {
     "read_only": false
    }
   },
   "source": [
    "We can look up the users that are using only Legacy HB to get more info about them. Let's only look at those that have used legacy HB in 4 or more weeks."
   ]
  },
  {
   "cell_type": "code",
   "execution_count": 28,
   "metadata": {
    "button": false,
    "collapsed": true,
    "new_sheet": false,
    "run_control": {
     "read_only": false
    }
   },
   "outputs": [],
   "source": [
    "# let's look at these legacy only users\n",
    "legacy = with_hb[mask_l & ~mask_a]\n",
    "big_users = legacy[legacy.HB_legacy_b > 3].index  # used in 4 weeks or more\n",
    "users = []\n",
    "for user in big_users:\n",
    "    n = 'nan'\n",
    "    x = df[(df.user_id == user) & (df.HB_legacy_b > 0)]\n",
    "    u = x.iloc[0]\n",
    "    try:\n",
    "        n = u.disp_name or u.start_user\n",
    "    except:\n",
    "        pass\n",
    "    if str(n) == 'nan':\n",
    "        n = \"id=\" + str(u.user_id)\n",
    "    users.append([len(x), '{} at {}, weeks={}'.format(n, u.company, len(x))])"
   ]
  }
 ],
 "metadata": {
  "kernelspec": {
   "display_name": "Python 3",
   "language": "python",
   "name": "python3"
  },
  "language_info": {
   "codemirror_mode": {
    "name": "ipython",
    "version": 3
   },
   "file_extension": ".py",
   "mimetype": "text/x-python",
   "name": "python",
   "nbconvert_exporter": "python",
   "pygments_lexer": "ipython3",
   "version": "3.4.1"
  }
 },
 "nbformat": 4,
 "nbformat_minor": 1
}
