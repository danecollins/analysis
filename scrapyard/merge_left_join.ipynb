{
 "cells": [
  {
   "cell_type": "code",
   "execution_count": 53,
   "metadata": {
    "collapsed": false
   },
   "outputs": [
    {
     "name": "stdout",
     "output_type": "stream",
     "text": [
      "/Users/dane/src/datatools/ipy\n"
     ]
    }
   ],
   "source": [
    "%matplotlib inline\n",
    "import matplotlib.pyplot as plt\n",
    "import numpy as np\n",
    "import pandas as pd\n",
    "%cd /Users/dane/src/datatools/ipy\n",
    "import time"
   ]
  },
  {
   "cell_type": "code",
   "execution_count": 54,
   "metadata": {
    "collapsed": false
   },
   "outputs": [
    {
     "name": "stdout",
     "output_type": "stream",
     "text": [
      "read starts took 48.40 s.\n"
     ]
    }
   ],
   "source": [
    "t0 = time.time()\n",
    "starts = pd.read_csv('/Users/dane/tmp/data/starts.raw',\n",
    "                     sep='|', encoding='latin1', dtype={'instid': str, 'errlog': np.float, 'app': str})\n",
    "#starts = starts.iloc[1:]  # remove the -----|------- line\n",
    "clean_starts = starts[starts.instid.notnull()]\n",
    "print('read starts took {:.2f} s.'.format(time.time()-t0))"
   ]
  },
  {
   "cell_type": "code",
   "execution_count": 55,
   "metadata": {
    "collapsed": false
   },
   "outputs": [
    {
     "name": "stdout",
     "output_type": "stream",
     "text": [
      "read starts took 17.80 s.\n"
     ]
    }
   ],
   "source": [
    "t0 = time.time()\n",
    "stops = pd.read_csv('/Users/dane/tmp/data/stops.raw',\n",
    "                     sep='|', encoding='latin1', dtype={'instid': str, 'uptime': np.float})\n",
    "stops = stops.iloc[1:]  # remove the -----|------- line\n",
    "clean_stops = stops[stops.instid.notnull()]\n",
    "print('read starts took {:.2f} s.'.format(time.time()-t0))"
   ]
  },
  {
   "cell_type": "code",
   "execution_count": 56,
   "metadata": {
    "collapsed": false
   },
   "outputs": [
    {
     "name": "stdout",
     "output_type": "stream",
     "text": [
      "merge took 12.06 s.\n"
     ]
    }
   ],
   "source": [
    "t0 = time.time()\n",
    "merged = pd.merge(clean_starts, clean_stops, on='instid', how='left')\n",
    "print('merge took {:.2f} s.'.format(time.time()-t0))"
   ]
  },
  {
   "cell_type": "code",
   "execution_count": 57,
   "metadata": {
    "collapsed": false
   },
   "outputs": [
    {
     "name": "stdout",
     "output_type": "stream",
     "text": [
      "rows: starts=9192212, stops=6817904, merged=9195247\n"
     ]
    }
   ],
   "source": [
    "print('rows: starts={}, stops={}, merged={}'.format(len(clean_starts), len(clean_stops), len(merged) ))"
   ]
  },
  {
   "cell_type": "code",
   "execution_count": 58,
   "metadata": {
    "collapsed": false
   },
   "outputs": [],
   "source": [
    "merged.to_csv(\"/Users/dane/tmp/merge.csv\", sep=\"\\t\")"
   ]
  },
  {
   "cell_type": "code",
   "execution_count": 59,
   "metadata": {
    "collapsed": false
   },
   "outputs": [
    {
     "data": {
      "text/plain": [
       "int"
      ]
     },
     "execution_count": 59,
     "metadata": {},
     "output_type": "execute_result"
    }
   ],
   "source": [
    "a = 45\n",
    "type(a)"
   ]
  },
  {
   "cell_type": "code",
   "execution_count": 60,
   "metadata": {
    "collapsed": false
   },
   "outputs": [
    {
     "data": {
      "text/plain": [
       "numpy.int64"
      ]
     },
     "execution_count": 60,
     "metadata": {},
     "output_type": "execute_result"
    }
   ],
   "source": [
    "np.int64"
   ]
  },
  {
   "cell_type": "code",
   "execution_count": null,
   "metadata": {
    "collapsed": true
   },
   "outputs": [],
   "source": []
  }
 ],
 "metadata": {
  "kernelspec": {
   "display_name": "Python 3",
   "language": "python",
   "name": "python3"
  },
  "language_info": {
   "codemirror_mode": {
    "name": "ipython",
    "version": 3
   },
   "file_extension": ".py",
   "mimetype": "text/x-python",
   "name": "python",
   "nbconvert_exporter": "python",
   "pygments_lexer": "ipython3",
   "version": "3.5.0"
  }
 },
 "nbformat": 4,
 "nbformat_minor": 0
}
