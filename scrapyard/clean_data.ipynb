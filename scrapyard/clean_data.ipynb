{
 "cells": [
  {
   "cell_type": "markdown",
   "metadata": {},
   "source": [
    "# Why is there missing start/tlm data?\n",
    "\n",
    "This is an exploration to look for patterns in the missing cdb_starts and tlm_session data. As we data set to work with we will use a 7-day period (to eliminate the cyclicality of the weekends)."
   ]
  },
  {
   "cell_type": "code",
   "execution_count": 16,
   "metadata": {
    "collapsed": false
   },
   "outputs": [],
   "source": [
    "%matplotlib inline\n",
    "import matplotlib.pyplot as plt\n",
    "import numpy as np\n",
    "import pandas as pd\n",
    "import xlrd\n",
    "import sys\n",
    "import pytz\n",
    "import datetime\n",
    "pacific = pytz.timezone('US/Pacific')\n",
    "\n",
    "sys.path.append('/Users/dane/src/datatools')\n",
    "\n",
    "end_time = datetime.datetime(2016, 12, 17, 0, 0, 0, 0, pacific)\n",
    "start_time = end_time - datetime.timedelta(days=7)"
   ]
  },
  {
   "cell_type": "markdown",
   "metadata": {},
   "source": [
    "## Cleanup the data\n",
    "\n",
    "\n",
    "### Session\n",
    "\n",
    "The session data already contains the data on the starts since that is imported when the session is created.  We can therefore trim the session data to a specified time range without worrying about losing the corresponding starts."
   ]
  },
  {
   "cell_type": "code",
   "execution_count": 21,
   "metadata": {
    "collapsed": false
   },
   "outputs": [
    {
     "name": "stdout",
     "output_type": "stream",
     "text": [
      "Total sessions = 39049, Sessions in desired week = 3279\n"
     ]
    }
   ],
   "source": [
    "sdf = pd.read_pickle('./session.df')\n",
    "\n",
    "# cleanup the data\n",
    "# Convert dates to pacific time (to match starts)\n",
    "sdf['created_pst'] = sdf.created_time.apply(lambda a: a.astimezone(pacific))\n",
    "\n",
    "# remove features\n",
    "sdf.drop(['features', 'project_id', 'disp_name', 'user_name'], axis=1, inplace=True)\n",
    "\n",
    "# set the index to be the session id\n",
    "sdf = sdf.set_index('sess_id')\n",
    "sdf.head()\n",
    "\n",
    "# limit to desired time period\n",
    "sess_df = sdf[(start_time <= sdf.created_pst) & (sdf.created_pst <= end_time)]\n",
    "\n",
    "print('Total sessions = {}, Sessions in desired week = {}'.format(len(sdf), len(sess_df)))"
   ]
  },
  {
   "cell_type": "code",
   "execution_count": 23,
   "metadata": {
    "collapsed": false
   },
   "outputs": [
    {
     "data": {
      "text/html": [
       "<div style=\"max-height:1000px;max-width:1500px;overflow:auto;\">\n",
       "<table border=\"1\" class=\"dataframe\">\n",
       "  <thead>\n",
       "    <tr style=\"text-align: right;\">\n",
       "      <th></th>\n",
       "      <th>build_number</th>\n",
       "      <th>guid</th>\n",
       "      <th>instid</th>\n",
       "      <th>sess_user</th>\n",
       "      <th>company</th>\n",
       "      <th>serial_num</th>\n",
       "      <th>created_time</th>\n",
       "      <th>has_commands</th>\n",
       "      <th>user_type</th>\n",
       "      <th>user_id</th>\n",
       "      <th>custid</th>\n",
       "      <th>runtime</th>\n",
       "      <th>state</th>\n",
       "      <th>start_user</th>\n",
       "      <th>proj_name</th>\n",
       "      <th>created_pst</th>\n",
       "    </tr>\n",
       "    <tr>\n",
       "      <th>sess_id</th>\n",
       "      <th></th>\n",
       "      <th></th>\n",
       "      <th></th>\n",
       "      <th></th>\n",
       "      <th></th>\n",
       "      <th></th>\n",
       "      <th></th>\n",
       "      <th></th>\n",
       "      <th></th>\n",
       "      <th></th>\n",
       "      <th></th>\n",
       "      <th></th>\n",
       "      <th></th>\n",
       "      <th></th>\n",
       "      <th></th>\n",
       "      <th></th>\n",
       "    </tr>\n",
       "  </thead>\n",
       "  <tbody>\n",
       "    <tr>\n",
       "      <th>48855</th>\n",
       "      <td>8275</td>\n",
       "      <td>1436D665-0B94-4F27-BC90-E2AB9EDD2875_1</td>\n",
       "      <td>1436D665-0B94-4F27-BC90-E2AB9EDD2875</td>\n",
       "      <td>Cust# 8905</td>\n",
       "      <td>Qorvo - FL</td>\n",
       "      <td>52989</td>\n",
       "      <td>2016-12-13 05:00:48+00:00</td>\n",
       "      <td>True</td>\n",
       "      <td>customer</td>\n",
       "      <td>334</td>\n",
       "      <td>8905</td>\n",
       "      <td>5390</td>\n",
       "      <td>D</td>\n",
       "      <td>pzayas</td>\n",
       "      <td>None</td>\n",
       "      <td>2016-12-12 21:00:48-08:00</td>\n",
       "    </tr>\n",
       "    <tr>\n",
       "      <th>50649</th>\n",
       "      <td>8289</td>\n",
       "      <td>8D979B81-D596-49C9-B300-A8B31552B515_8</td>\n",
       "      <td>8D979B81-D596-49C9-B300-A8B31552B515</td>\n",
       "      <td>Cust# 8905</td>\n",
       "      <td>Qorvo - FL</td>\n",
       "      <td>52989</td>\n",
       "      <td>2016-12-16 00:59:20+00:00</td>\n",
       "      <td>True</td>\n",
       "      <td>customer</td>\n",
       "      <td>309</td>\n",
       "      <td>8905</td>\n",
       "      <td>0</td>\n",
       "      <td>C</td>\n",
       "      <td>stanuz</td>\n",
       "      <td>Cust# 8905:50653</td>\n",
       "      <td>2016-12-15 16:59:20-08:00</td>\n",
       "    </tr>\n",
       "  </tbody>\n",
       "</table>\n",
       "</div>"
      ],
      "text/plain": [
       "         build_number                                    guid  \\\n",
       "sess_id                                                         \n",
       "48855            8275  1436D665-0B94-4F27-BC90-E2AB9EDD2875_1   \n",
       "50649            8289  8D979B81-D596-49C9-B300-A8B31552B515_8   \n",
       "\n",
       "                                       instid   sess_user     company  \\\n",
       "sess_id                                                                 \n",
       "48855    1436D665-0B94-4F27-BC90-E2AB9EDD2875  Cust# 8905  Qorvo - FL   \n",
       "50649    8D979B81-D596-49C9-B300-A8B31552B515  Cust# 8905  Qorvo - FL   \n",
       "\n",
       "        serial_num               created_time has_commands user_type  user_id  \\\n",
       "sess_id                                                                         \n",
       "48855        52989  2016-12-13 05:00:48+00:00         True  customer      334   \n",
       "50649        52989  2016-12-16 00:59:20+00:00         True  customer      309   \n",
       "\n",
       "         custid  runtime state start_user         proj_name  \\\n",
       "sess_id                                                       \n",
       "48855      8905     5390     D     pzayas              None   \n",
       "50649      8905        0     C     stanuz  Cust# 8905:50653   \n",
       "\n",
       "                       created_pst  \n",
       "sess_id                             \n",
       "48855    2016-12-12 21:00:48-08:00  \n",
       "50649    2016-12-15 16:59:20-08:00  "
      ]
     },
     "execution_count": 23,
     "metadata": {},
     "output_type": "execute_result"
    }
   ],
   "source": [
    "sess_df.head(2)"
   ]
  },
  {
   "cell_type": "markdown",
   "metadata": {},
   "source": [
    "## SessionData\n"
   ]
  },
  {
   "cell_type": "code",
   "execution_count": 27,
   "metadata": {
    "collapsed": false
   },
   "outputs": [
    {
     "name": "stdout",
     "output_type": "stream",
     "text": [
      "Total sessiondata = 581063, Sessiondata in desired week = 51342\n"
     ]
    }
   ],
   "source": [
    "sddf = pd.read_pickle('./sessiondata.df')\n",
    "\n",
    "# set the index to database id\n",
    "sddf = sddf.set_index('id')\n",
    "\n",
    "# don't need the type of count columns\n",
    "sddf.drop(['newcnt', 'opncnt'], axis=1, inplace=True)\n",
    "\n",
    "# only keep session data for the sessions in the week of interest\n",
    "sessdata_df = sddf[sddf.session_id.isin(sess_df.index)]\n",
    "\n",
    "print('Total sessiondata = {}, Sessiondata in desired week = {}'.format(len(sddf), len(sessdata_df)))"
   ]
  },
  {
   "cell_type": "markdown",
   "metadata": {
    "collapsed": false
   },
   "source": [
    "### CDB Starts\n",
    "\n",
    "When looking at starts and looking for missing sessions, we will only process instances that ended in the week of interest since there should always be at least one session from the instance terminating."
   ]
  },
  {
   "cell_type": "code",
   "execution_count": 44,
   "metadata": {
    "collapsed": false
   },
   "outputs": [
    {
     "name": "stdout",
     "output_type": "stream",
     "text": [
      "There are 2858 starts\n"
     ]
    },
    {
     "data": {
      "text/html": [
       "<div style=\"max-height:1000px;max-width:1500px;overflow:auto;\">\n",
       "<table border=\"1\" class=\"dataframe\">\n",
       "  <thead>\n",
       "    <tr style=\"text-align: right;\">\n",
       "      <th></th>\n",
       "      <th>build_number</th>\n",
       "      <th>serial_num</th>\n",
       "      <th>custid</th>\n",
       "      <th>user_name</th>\n",
       "      <th>machine_name</th>\n",
       "      <th>end_time</th>\n",
       "      <th>country</th>\n",
       "      <th>errlog</th>\n",
       "      <th>instid</th>\n",
       "      <th>runtime</th>\n",
       "    </tr>\n",
       "    <tr>\n",
       "      <th>start_id</th>\n",
       "      <th></th>\n",
       "      <th></th>\n",
       "      <th></th>\n",
       "      <th></th>\n",
       "      <th></th>\n",
       "      <th></th>\n",
       "      <th></th>\n",
       "      <th></th>\n",
       "      <th></th>\n",
       "      <th></th>\n",
       "    </tr>\n",
       "  </thead>\n",
       "  <tbody>\n",
       "    <tr>\n",
       "      <th>16431577</th>\n",
       "      <td>8289</td>\n",
       "      <td>52989</td>\n",
       "      <td>8905</td>\n",
       "      <td>marichardson</td>\n",
       "      <td>APKMRICHARDSOND</td>\n",
       "      <td>2016-12-10 10:01:38.777000</td>\n",
       "      <td>US</td>\n",
       "      <td>160</td>\n",
       "      <td>4AF21BB4-79F4-481B-B64C-0EDF20959FAF</td>\n",
       "      <td>12621</td>\n",
       "    </tr>\n",
       "    <tr>\n",
       "      <th>16431589</th>\n",
       "      <td>8289</td>\n",
       "      <td>90063341</td>\n",
       "      <td>NaN</td>\n",
       "      <td>rahul ()</td>\n",
       "      <td>RAHUL</td>\n",
       "      <td>2016-12-10 08:00:53.403000</td>\n",
       "      <td>IN</td>\n",
       "      <td>160</td>\n",
       "      <td>6DE6CA79-25F9-46AF-9EC6-0725066D2228</td>\n",
       "      <td>4255</td>\n",
       "    </tr>\n",
       "  </tbody>\n",
       "</table>\n",
       "</div>"
      ],
      "text/plain": [
       "          build_number serial_num  custid     user_name     machine_name  \\\n",
       "start_id                                                                   \n",
       "16431577          8289      52989    8905  marichardson  APKMRICHARDSOND   \n",
       "16431589          8289   90063341     NaN      rahul ()            RAHUL   \n",
       "\n",
       "                           end_time country errlog  \\\n",
       "start_id                                             \n",
       "16431577 2016-12-10 10:01:38.777000      US    160   \n",
       "16431589 2016-12-10 08:00:53.403000      IN    160   \n",
       "\n",
       "                                        instid  runtime  \n",
       "start_id                                                 \n",
       "16431577  4AF21BB4-79F4-481B-B64C-0EDF20959FAF    12621  \n",
       "16431589  6DE6CA79-25F9-46AF-9EC6-0725066D2228     4255  "
      ]
     },
     "execution_count": 44,
     "metadata": {},
     "output_type": "execute_result"
    }
   ],
   "source": [
    "start_df = pd.read_pickle('./cdb_starts.df')\n",
    "\n",
    "# set the index to database id\n",
    "start_df = start_df.set_index('start_id')\n",
    "\n",
    "# instid comes in as string view of binary rep of instid, need to strip extra chars\n",
    "start_df['instid'] = start_df.instid.apply(lambda x: x[2:-1])\n",
    "\n",
    "# prune to the right data range\n",
    "start_df = start_df[(start_time <= start_df.end_time) & (start_df.end_time <= end_time)]\n",
    "\n",
    "print('There are {} starts'.format(len(start_df)))\n",
    "start_df.head(2)"
   ]
  },
  {
   "cell_type": "code",
   "execution_count": 40,
   "metadata": {
    "collapsed": false
   },
   "outputs": [
    {
     "name": "stdout",
     "output_type": "stream",
     "text": [
      "b'2F9A760E-FA81-4253-BC16-31C83F79DE8F', 2F9A760E-FA81-4253-BC16-31C83F79DE8F\n"
     ]
    }
   ],
   "source": [
    "x = start_df.loc[16425783]\n",
    "y = x['instid']\n",
    "print('{}, {}'.format(y, y[2:-1]))"
   ]
  },
  {
   "cell_type": "code",
   "execution_count": null,
   "metadata": {
    "collapsed": false
   },
   "outputs": [],
   "source": []
  },
  {
   "cell_type": "code",
   "execution_count": null,
   "metadata": {
    "collapsed": true
   },
   "outputs": [],
   "source": []
  }
 ],
 "metadata": {
  "kernelspec": {
   "display_name": "Python 3",
   "language": "python",
   "name": "python3"
  },
  "language_info": {
   "codemirror_mode": {
    "name": "ipython",
    "version": 3
   },
   "file_extension": ".py",
   "mimetype": "text/x-python",
   "name": "python",
   "nbconvert_exporter": "python",
   "pygments_lexer": "ipython3",
   "version": "3.4.1"
  }
 },
 "nbformat": 4,
 "nbformat_minor": 0
}
